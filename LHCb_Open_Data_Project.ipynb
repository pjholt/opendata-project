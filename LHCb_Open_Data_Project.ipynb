{
 "cells": [
  {
   "cell_type": "markdown",
   "metadata": {
    "heading_collapsed": true
   },
   "source": [
    "# Measuring Matter Antimatter Asymmetries at the Large Hadron Collider"
   ]
  },
  {
   "cell_type": "markdown",
   "metadata": {
    "hidden": true
   },
   "source": [
    "![](http://lhcb-public.web.cern.ch/lhcb-public/en/LHCb-outreach/multimedia/LHCbDetectorpnglight1.png)"
   ]
  },
  {
   "cell_type": "markdown",
   "metadata": {},
   "source": [
    "# Introduction\n",
    "### Press the grey arrow to expand each section\n",
    "____"
   ]
  },
  {
   "cell_type": "markdown",
   "metadata": {},
   "source": [
    "<b> Welcome to the first guided LHCb Open Data Portal project! </b>\n",
    "\n",
    "<div align=\"justify\">Here you will be able to analyse data taken by the Large Hadron Collider (LHC) at CERN. The aim of this study is for you to be able to search for differences in the behaviour of matter and [antimatter](https://en.wikipedia.org/wiki/Antimatter). This project will enable you to carry out your own data analysis at a level similar to that of CERN research. This project does not require a detailed knowledge of particle physics. It is most suitable for people with a scientific and mathematical background equivalent to that required for applying for university entrance in a science, technology engineering or mathematics discipline. Some previous familiarity with computer programming would also be advantageous. Additional theoretical information or programming knowledge you might need is provided as the project progresses.</div>\n",
    "\n",
    "Before you start, you might find it helpful to find out more about matter antimatter asymmetries, what we hope to learn by studying them, and how we can detect them with experiments such as the LHCb experiment at CERN.\n",
    "\n",
    "Here are some details that relate directly to this project:\n",
    " - What is the [particle physics focus](Background-Information-Notebooks/ProjectIntro.ipynb) of this experiment? and what will I study in this project?\n",
    " - How does the LHCb [detector](Background-Information-Notebooks/DetectorSoftwareDataSample.ipynb) record the data?\n",
    "\n",
    "Once you have tried the analysis please provide feedback to help us improve this project using [this brief survey](https://docs.google.com/forms/d/1dEh4A4agmk5zpmR0zrhF79k-lJKV4vX1ETIGJjDscnc/viewform?c=0&w=1).\n",
    "\n",
    "Feel free to post questions, feedback and discuss results with other users using the [GitHub issue tracker](https://github.com/lhcb/opendata-project/issues)."
   ]
  },
  {
   "cell_type": "markdown",
   "metadata": {},
   "source": [
    "# Getting Started\n",
    "\n",
    "## Aims:\n",
    "* Become familiar with the help available for programming\n",
    "* Read the simulation data into the program\n",
    "____"
   ]
  },
  {
   "cell_type": "markdown",
   "metadata": {},
   "source": [
    "<div align=\"justify\">Just like researchers at CERN, you will be coding your own analysis. This will use the computer programming language Python. There is no prerequisite of Python language programming experience for following this project. There will be hints available to you helping you along the way. You might find these tutorials on Python helpful:</div>\n",
    "\n",
    "[Python Tutorials](http://www.tutorialspoint.com/python/)\n",
    "\n",
    "The most important coding guidance we are providing you is in the form of an unrelated analysis. We have performed an [analysis of Nobel prizes winners](Example-Analysis.ipynb). That link provides you with the full code for this. The coding skills required for this Nobel analysis is very similar to that needed for the particle physics analysis. Hence by reading and understandign that analysis you can copy and adapt the lines of code to perform your particle physics analysis."
   ]
  },
  {
   "cell_type": "markdown",
   "metadata": {},
   "source": [
    "## Reading simulation data"
   ]
  },
  {
   "cell_type": "markdown",
   "metadata": {},
   "source": [
    "In order to get started and check the first code that you will be writing works correctly it is best to start by analysing simulated data rather than real data from the LHC. The real data contains not only the type of events that you wish to analyse, known as the 'signal', but also events that can fake these, known as 'background'. The real data measurements are also limited by the resolution of the detector. The simplified simulation data provided here contains only the signal events and provides the results that would be obtained for a perfect detector.\n",
    "\n",
    "IMPORTANT: For every code box with code already in it, like the one below you must click in and press shift+enter to run the code.\n",
    "\n",
    "If the `In [x]:` to the left of a codebox changes to `In [*]:` that means the code in that box is currently running"
   ]
  },
  {
   "cell_type": "code",
   "execution_count": 1,
   "metadata": {
    "collapsed": false,
    "run_control": {
     "frozen": false,
     "read_only": false
    }
   },
   "outputs": [
    {
     "name": "stdout",
     "output_type": "stream",
     "text": [
      "Populating the interactive namespace from numpy and matplotlib\n"
     ]
    },
    {
     "data": {
      "application/javascript": [
       "require(['codemirror/mode/clike/clike'], function(Clike) { console.log('ROOTaaS - C++ CodeMirror module loaded'); });"
      ]
     },
     "metadata": {},
     "output_type": "display_data"
    },
    {
     "data": {
      "application/javascript": [
       "IPython.CodeCell.config_defaults.highlight_modes['magic_text/x-c++src'] = {'reg':[/^%%cpp/]};"
      ]
     },
     "metadata": {},
     "output_type": "display_data"
    },
    {
     "name": "stdout",
     "output_type": "stream",
     "text": [
      "Welcome to ROOTaaS 6.05/02\n"
     ]
    }
   ],
   "source": [
    "from __future__ import print_function\n",
    "from __future__ import division\n",
    "\n",
    "%pylab inline\n",
    "execfile('Data/setup_main_analysis.py')"
   ]
  },
  {
   "cell_type": "markdown",
   "metadata": {},
   "source": [
    "If you want help with coding there is in addition to the [example code](Example-Analysis.ipynb), some hints within each section and a [function reference list](Background-Information-Notebooks/FunctionReferences.pdf)."
   ]
  },
  {
   "cell_type": "code",
   "execution_count": 2,
   "metadata": {
    "collapsed": true
   },
   "outputs": [],
   "source": [
    "# Let us now load the simulated data\n",
    "sim_data = read_root('Data/PhaseSpaceSimulation.root')"
   ]
  },
  {
   "cell_type": "markdown",
   "metadata": {},
   "source": [
    "<div align=\"justify\">Now that you can access the data, you can use a number of functions which can help you analyse it. You can find these functions in the libraries at the top of the page. Try to make a table of some of the information within your data file so that you can get a feel of the typical values for data in the set. Understanding the range of values for different variables will help with plotting graphs.</div>\n",
    "\n",
    "The data contains information about 'events' that were observed in the detector. An event refers to the particles produced when an interaction took place when two proton are collided at the LHC. The data you have includes information about particles observed in the detector after each collision. If you think of the data as a table, each row of the table is the results from a different collision. The columns of the table are different quantities measured about the particles produced in the collision. \n",
    "\n",
    "We are interested in analysing the decays of particles called B<sup>+</sup> or B<sup>-</sup> mesons decaying into three other mesons called kaons (K<sup>+</sup> or K<sup>-</sup>). The events you have been given are those in which this process may have occurred. The detector has been used to reconstruct tracks that may have come from the kaons. You are given the measured momenta, charge, and likelihood of the tracks being kaons. You are given information for three tracks in each event, the ones that could be the three kaons that a B<sup>+</sup> or B<sup>-</sup> meson has decayed into. The following information is available about each event: [information list](Background-Information-Notebooks/EventData.ipynb)"
   ]
  },
  {
   "cell_type": "code",
   "execution_count": 3,
   "metadata": {
    "collapsed": false,
    "run_control": {
     "frozen": false,
     "read_only": false
    }
   },
   "outputs": [
    {
     "data": {
      "text/html": [
       "<div>\n",
       "<table border=\"1\" class=\"dataframe\">\n",
       "  <thead>\n",
       "    <tr style=\"text-align: right;\">\n",
       "      <th></th>\n",
       "      <th>B_FlightDistance</th>\n",
       "      <th>B_VertexChi2</th>\n",
       "      <th>H1_PX</th>\n",
       "      <th>H1_PY</th>\n",
       "      <th>H1_PZ</th>\n",
       "      <th>H1_ProbK</th>\n",
       "      <th>H1_ProbPi</th>\n",
       "      <th>H1_Charge</th>\n",
       "      <th>H1_IPChi2</th>\n",
       "      <th>H1_isMuon</th>\n",
       "      <th>H2_PX</th>\n",
       "      <th>H2_PY</th>\n",
       "      <th>H2_PZ</th>\n",
       "      <th>H2_ProbK</th>\n",
       "      <th>H2_ProbPi</th>\n",
       "      <th>H2_Charge</th>\n",
       "      <th>H2_IPChi2</th>\n",
       "      <th>H2_isMuon</th>\n",
       "      <th>H3_PX</th>\n",
       "      <th>H3_PY</th>\n",
       "      <th>H3_PZ</th>\n",
       "      <th>H3_ProbK</th>\n",
       "      <th>H3_ProbPi</th>\n",
       "      <th>H3_Charge</th>\n",
       "      <th>H3_IPChi2</th>\n",
       "      <th>H3_isMuon</th>\n",
       "    </tr>\n",
       "  </thead>\n",
       "  <tbody>\n",
       "    <tr>\n",
       "      <th>0</th>\n",
       "      <td>0.0</td>\n",
       "      <td>1.0</td>\n",
       "      <td>3551.84</td>\n",
       "      <td>1636.96</td>\n",
       "      <td>23904.14</td>\n",
       "      <td>1.0</td>\n",
       "      <td>0.0</td>\n",
       "      <td>-1</td>\n",
       "      <td>1.0</td>\n",
       "      <td>0</td>\n",
       "      <td>41507.15</td>\n",
       "      <td>15980.59</td>\n",
       "      <td>331663.64</td>\n",
       "      <td>1.0</td>\n",
       "      <td>0.0</td>\n",
       "      <td>1</td>\n",
       "      <td>1.0</td>\n",
       "      <td>0</td>\n",
       "      <td>36100.40</td>\n",
       "      <td>16546.83</td>\n",
       "      <td>295600.61</td>\n",
       "      <td>1.0</td>\n",
       "      <td>0.0</td>\n",
       "      <td>-1</td>\n",
       "      <td>1.0</td>\n",
       "      <td>0</td>\n",
       "    </tr>\n",
       "    <tr>\n",
       "      <th>1</th>\n",
       "      <td>0.0</td>\n",
       "      <td>1.0</td>\n",
       "      <td>-2525.98</td>\n",
       "      <td>-5284.05</td>\n",
       "      <td>35822.00</td>\n",
       "      <td>1.0</td>\n",
       "      <td>0.0</td>\n",
       "      <td>1</td>\n",
       "      <td>1.0</td>\n",
       "      <td>0</td>\n",
       "      <td>-43182.91</td>\n",
       "      <td>-96553.03</td>\n",
       "      <td>585289.31</td>\n",
       "      <td>1.0</td>\n",
       "      <td>0.0</td>\n",
       "      <td>-1</td>\n",
       "      <td>1.0</td>\n",
       "      <td>0</td>\n",
       "      <td>-8648.32</td>\n",
       "      <td>-16617.56</td>\n",
       "      <td>98535.13</td>\n",
       "      <td>1.0</td>\n",
       "      <td>0.0</td>\n",
       "      <td>-1</td>\n",
       "      <td>1.0</td>\n",
       "      <td>0</td>\n",
       "    </tr>\n",
       "    <tr>\n",
       "      <th>2</th>\n",
       "      <td>0.0</td>\n",
       "      <td>1.0</td>\n",
       "      <td>-700.67</td>\n",
       "      <td>1299.73</td>\n",
       "      <td>8127.76</td>\n",
       "      <td>1.0</td>\n",
       "      <td>0.0</td>\n",
       "      <td>-1</td>\n",
       "      <td>1.0</td>\n",
       "      <td>0</td>\n",
       "      <td>-1411.99</td>\n",
       "      <td>3550.96</td>\n",
       "      <td>16120.27</td>\n",
       "      <td>1.0</td>\n",
       "      <td>0.0</td>\n",
       "      <td>1</td>\n",
       "      <td>1.0</td>\n",
       "      <td>0</td>\n",
       "      <td>-13483.34</td>\n",
       "      <td>10860.77</td>\n",
       "      <td>79787.59</td>\n",
       "      <td>1.0</td>\n",
       "      <td>0.0</td>\n",
       "      <td>1</td>\n",
       "      <td>1.0</td>\n",
       "      <td>0</td>\n",
       "    </tr>\n",
       "    <tr>\n",
       "      <th>3</th>\n",
       "      <td>0.0</td>\n",
       "      <td>1.0</td>\n",
       "      <td>3364.63</td>\n",
       "      <td>1397.30</td>\n",
       "      <td>222815.29</td>\n",
       "      <td>1.0</td>\n",
       "      <td>0.0</td>\n",
       "      <td>1</td>\n",
       "      <td>1.0</td>\n",
       "      <td>0</td>\n",
       "      <td>2192.42</td>\n",
       "      <td>1369.87</td>\n",
       "      <td>161924.75</td>\n",
       "      <td>1.0</td>\n",
       "      <td>0.0</td>\n",
       "      <td>-1</td>\n",
       "      <td>1.0</td>\n",
       "      <td>0</td>\n",
       "      <td>1925.16</td>\n",
       "      <td>-551.12</td>\n",
       "      <td>40420.96</td>\n",
       "      <td>1.0</td>\n",
       "      <td>0.0</td>\n",
       "      <td>1</td>\n",
       "      <td>1.0</td>\n",
       "      <td>0</td>\n",
       "    </tr>\n",
       "    <tr>\n",
       "      <th>4</th>\n",
       "      <td>0.0</td>\n",
       "      <td>1.0</td>\n",
       "      <td>-581.66</td>\n",
       "      <td>-1305.24</td>\n",
       "      <td>22249.59</td>\n",
       "      <td>1.0</td>\n",
       "      <td>0.0</td>\n",
       "      <td>-1</td>\n",
       "      <td>1.0</td>\n",
       "      <td>0</td>\n",
       "      <td>1153.05</td>\n",
       "      <td>-1998.17</td>\n",
       "      <td>66134.22</td>\n",
       "      <td>1.0</td>\n",
       "      <td>0.0</td>\n",
       "      <td>1</td>\n",
       "      <td>1.0</td>\n",
       "      <td>0</td>\n",
       "      <td>-2820.04</td>\n",
       "      <td>-8305.43</td>\n",
       "      <td>250130.00</td>\n",
       "      <td>1.0</td>\n",
       "      <td>0.0</td>\n",
       "      <td>-1</td>\n",
       "      <td>1.0</td>\n",
       "      <td>0</td>\n",
       "    </tr>\n",
       "  </tbody>\n",
       "</table>\n",
       "</div>"
      ],
      "text/plain": [
       "   B_FlightDistance  B_VertexChi2    H1_PX    H1_PY      H1_PZ  H1_ProbK  \\\n",
       "0               0.0           1.0  3551.84  1636.96   23904.14       1.0   \n",
       "1               0.0           1.0 -2525.98 -5284.05   35822.00       1.0   \n",
       "2               0.0           1.0  -700.67  1299.73    8127.76       1.0   \n",
       "3               0.0           1.0  3364.63  1397.30  222815.29       1.0   \n",
       "4               0.0           1.0  -581.66 -1305.24   22249.59       1.0   \n",
       "\n",
       "   H1_ProbPi  H1_Charge  H1_IPChi2  H1_isMuon     H2_PX     H2_PY      H2_PZ  \\\n",
       "0        0.0         -1        1.0          0  41507.15  15980.59  331663.64   \n",
       "1        0.0          1        1.0          0 -43182.91 -96553.03  585289.31   \n",
       "2        0.0         -1        1.0          0  -1411.99   3550.96   16120.27   \n",
       "3        0.0          1        1.0          0   2192.42   1369.87  161924.75   \n",
       "4        0.0         -1        1.0          0   1153.05  -1998.17   66134.22   \n",
       "\n",
       "   H2_ProbK  H2_ProbPi  H2_Charge  H2_IPChi2  H2_isMuon     H3_PX     H3_PY  \\\n",
       "0       1.0        0.0          1        1.0          0  36100.40  16546.83   \n",
       "1       1.0        0.0         -1        1.0          0  -8648.32 -16617.56   \n",
       "2       1.0        0.0          1        1.0          0 -13483.34  10860.77   \n",
       "3       1.0        0.0         -1        1.0          0   1925.16   -551.12   \n",
       "4       1.0        0.0          1        1.0          0  -2820.04  -8305.43   \n",
       "\n",
       "       H3_PZ  H3_ProbK  H3_ProbPi  H3_Charge  H3_IPChi2  H3_isMuon  \n",
       "0  295600.61       1.0        0.0         -1        1.0          0  \n",
       "1   98535.13       1.0        0.0         -1        1.0          0  \n",
       "2   79787.59       1.0        0.0          1        1.0          0  \n",
       "3   40420.96       1.0        0.0          1        1.0          0  \n",
       "4  250130.00       1.0        0.0         -1        1.0          0  "
      ]
     },
     "execution_count": 3,
     "metadata": {},
     "output_type": "execute_result"
    }
   ],
   "source": [
    "# make a table of the data variables here \n",
    "sim_data.head(5)"
   ]
  },
  {
   "cell_type": "markdown",
   "metadata": {
    "heading_collapsed": true
   },
   "source": [
    "### Hints"
   ]
  },
  {
   "cell_type": "markdown",
   "metadata": {
    "hidden": true
   },
   "source": [
    "**Creating a table** - Use your `head()` - remember to look at the [example analysis](Example-Analysis.ipynb) to see how this was done there."
   ]
  },
  {
   "cell_type": "markdown",
   "metadata": {},
   "source": [
    "# Invariant mass reconstruction\n",
    "\n",
    "## Aims:\n",
    "* Plot a histogram of the momentum of one of the kaon candidates\n",
    "* Calculate the energy of each of the kaon candidates\n",
    "* Plot the invariant masses of the B<sup>+</sup> or B<sup>-</sup> mesons___"
   ]
  },
  {
   "cell_type": "markdown",
   "metadata": {},
   "source": [
    "### Plotting a feature:\n",
    "\n",
    "You can plot any features of the data in a histogram. Choose any suitable binning that allows you to observed the distribution of the variable clearly. Try making a histogram for the first kaon candidate's momentum x-component (H1_PX):\n",
    "\n",
    "\n"
   ]
  },
  {
   "cell_type": "code",
   "execution_count": 4,
   "metadata": {
    "collapsed": false
   },
   "outputs": [
    {
     "name": "stdout",
     "output_type": "stream",
     "text": [
      "-179037.39\n",
      "178396.84\n"
     ]
    },
    {
     "data": {
      "text/plain": [
       "<matplotlib.text.Text at 0x7fa037bf39d0>"
      ]
     },
     "execution_count": 4,
     "metadata": {},
     "output_type": "execute_result"
    },
    {
     "data": {
      "image/png": "[encoded data removed]",
      "text/plain": [
       "<matplotlib.figure.Figure at 0x7fa09e6ff550>"
      ]
     },
     "metadata": {},
     "output_type": "display_data"
    }
   ],
   "source": [
    "# make a histogram of the H1_PX variable here\n",
    "print(sim_data.H1_PX.min())\n",
    "print(sim_data.H1_PX.max())\n",
    "H_sim_data_H1_PX = sim_data.H1_PX.hist(bins=101, range=[-200000, 200000]) \n",
    "xlabel('Simulation H1_PX')\n",
    "ylabel('Number')"
   ]
  },
  {
   "cell_type": "code",
   "execution_count": 5,
   "metadata": {
    "collapsed": false
   },
   "outputs": [
    {
     "name": "stdout",
     "output_type": "stream",
     "text": [
      "-163973.83\n",
      "172849.63\n"
     ]
    },
    {
     "data": {
      "text/plain": [
       "<matplotlib.text.Text at 0x7fa0378f7e90>"
      ]
     },
     "execution_count": 5,
     "metadata": {},
     "output_type": "execute_result"
    },
    {
     "data": {
      "image/png": "[encoded data removed]",
      "text/plain": [
       "<matplotlib.figure.Figure at 0x7fa09e6f5290>"
      ]
     },
     "metadata": {},
     "output_type": "display_data"
    }
   ],
   "source": [
    "# make a histogram of the H1_PY variable here\n",
    "print(sim_data.H1_PY.min())\n",
    "print(sim_data.H1_PY.max())\n",
    "H_sim_data_H1_PY = sim_data.H1_PY.hist(bins=101, range=[-200000, 200000])\n",
    "xlabel('Simulation H1_PY')\n",
    "ylabel('Number')"
   ]
  },
  {
   "cell_type": "code",
   "execution_count": 6,
   "metadata": {
    "collapsed": false,
    "run_control": {
     "frozen": false,
     "read_only": false
    }
   },
   "outputs": [
    {
     "name": "stdout",
     "output_type": "stream",
     "text": [
      "-670.11\n",
      "725870.3\n"
     ]
    },
    {
     "data": {
      "text/plain": [
       "<matplotlib.text.Text at 0x7fa039f94a10>"
      ]
     },
     "execution_count": 6,
     "metadata": {},
     "output_type": "execute_result"
    },
    {
     "data": {
      "image/png": "[encoded data removed]",
      "text/plain": [
       "<matplotlib.figure.Figure at 0x7fa09e6856d0>"
      ]
     },
     "metadata": {},
     "output_type": "display_data"
    }
   ],
   "source": [
    "# make a histogram of the H1_PZ variable here\n",
    "print(sim_data.H1_PZ.min())\n",
    "print(sim_data.H1_PZ.max())\n",
    "H_sim_data_H1_PZ = sim_data.H1_PZ.hist(bins=101, range=[-1000, 800000])\n",
    "xlabel('Simulation H1_PZ')\n",
    "ylabel('Number')"
   ]
  },
  {
   "cell_type": "markdown",
   "metadata": {},
   "source": [
    "Momentum is a **vector** quantity, it has x,y, and z components. Try calculating the **magnitude** of the momentum of the first kaon candidate and plotting a histogram of this, you'll need the `H1_PX`, `H1_PY` and `H1_PZ` variables."
   ]
  },
  {
   "cell_type": "code",
   "execution_count": 7,
   "metadata": {
    "collapsed": false
   },
   "outputs": [
    {
     "data": {
      "text/html": [
       "<div>\n",
       "<table border=\"1\" class=\"dataframe\">\n",
       "  <thead>\n",
       "    <tr style=\"text-align: right;\">\n",
       "      <th></th>\n",
       "      <th>B_FlightDistance</th>\n",
       "      <th>B_VertexChi2</th>\n",
       "      <th>H1_PX</th>\n",
       "      <th>H1_PY</th>\n",
       "      <th>H1_PZ</th>\n",
       "      <th>H1_ProbK</th>\n",
       "      <th>H1_ProbPi</th>\n",
       "      <th>H1_Charge</th>\n",
       "      <th>H1_IPChi2</th>\n",
       "      <th>H1_isMuon</th>\n",
       "      <th>H2_PX</th>\n",
       "      <th>H2_PY</th>\n",
       "      <th>H2_PZ</th>\n",
       "      <th>H2_ProbK</th>\n",
       "      <th>H2_ProbPi</th>\n",
       "      <th>H2_Charge</th>\n",
       "      <th>H2_IPChi2</th>\n",
       "      <th>H2_isMuon</th>\n",
       "      <th>H3_PX</th>\n",
       "      <th>H3_PY</th>\n",
       "      <th>H3_PZ</th>\n",
       "      <th>H3_ProbK</th>\n",
       "      <th>H3_ProbPi</th>\n",
       "      <th>H3_Charge</th>\n",
       "      <th>H3_IPChi2</th>\n",
       "      <th>H3_isMuon</th>\n",
       "      <th>H1_P</th>\n",
       "    </tr>\n",
       "  </thead>\n",
       "  <tbody>\n",
       "    <tr>\n",
       "      <th>0</th>\n",
       "      <td>0.0</td>\n",
       "      <td>1.0</td>\n",
       "      <td>3551.84</td>\n",
       "      <td>1636.96</td>\n",
       "      <td>23904.14</td>\n",
       "      <td>1.0</td>\n",
       "      <td>0.0</td>\n",
       "      <td>-1</td>\n",
       "      <td>1.0</td>\n",
       "      <td>0</td>\n",
       "      <td>41507.15</td>\n",
       "      <td>15980.59</td>\n",
       "      <td>331663.64</td>\n",
       "      <td>1.0</td>\n",
       "      <td>0.0</td>\n",
       "      <td>1</td>\n",
       "      <td>1.0</td>\n",
       "      <td>0</td>\n",
       "      <td>36100.40</td>\n",
       "      <td>16546.83</td>\n",
       "      <td>295600.61</td>\n",
       "      <td>1.0</td>\n",
       "      <td>0.0</td>\n",
       "      <td>-1</td>\n",
       "      <td>1.0</td>\n",
       "      <td>0</td>\n",
       "      <td>24221.955218</td>\n",
       "    </tr>\n",
       "    <tr>\n",
       "      <th>1</th>\n",
       "      <td>0.0</td>\n",
       "      <td>1.0</td>\n",
       "      <td>-2525.98</td>\n",
       "      <td>-5284.05</td>\n",
       "      <td>35822.00</td>\n",
       "      <td>1.0</td>\n",
       "      <td>0.0</td>\n",
       "      <td>1</td>\n",
       "      <td>1.0</td>\n",
       "      <td>0</td>\n",
       "      <td>-43182.91</td>\n",
       "      <td>-96553.03</td>\n",
       "      <td>585289.31</td>\n",
       "      <td>1.0</td>\n",
       "      <td>0.0</td>\n",
       "      <td>-1</td>\n",
       "      <td>1.0</td>\n",
       "      <td>0</td>\n",
       "      <td>-8648.32</td>\n",
       "      <td>-16617.56</td>\n",
       "      <td>98535.13</td>\n",
       "      <td>1.0</td>\n",
       "      <td>0.0</td>\n",
       "      <td>-1</td>\n",
       "      <td>1.0</td>\n",
       "      <td>0</td>\n",
       "      <td>36297.623109</td>\n",
       "    </tr>\n",
       "    <tr>\n",
       "      <th>2</th>\n",
       "      <td>0.0</td>\n",
       "      <td>1.0</td>\n",
       "      <td>-700.67</td>\n",
       "      <td>1299.73</td>\n",
       "      <td>8127.76</td>\n",
       "      <td>1.0</td>\n",
       "      <td>0.0</td>\n",
       "      <td>-1</td>\n",
       "      <td>1.0</td>\n",
       "      <td>0</td>\n",
       "      <td>-1411.99</td>\n",
       "      <td>3550.96</td>\n",
       "      <td>16120.27</td>\n",
       "      <td>1.0</td>\n",
       "      <td>0.0</td>\n",
       "      <td>1</td>\n",
       "      <td>1.0</td>\n",
       "      <td>0</td>\n",
       "      <td>-13483.34</td>\n",
       "      <td>10860.77</td>\n",
       "      <td>79787.59</td>\n",
       "      <td>1.0</td>\n",
       "      <td>0.0</td>\n",
       "      <td>1</td>\n",
       "      <td>1.0</td>\n",
       "      <td>0</td>\n",
       "      <td>8260.794099</td>\n",
       "    </tr>\n",
       "    <tr>\n",
       "      <th>3</th>\n",
       "      <td>0.0</td>\n",
       "      <td>1.0</td>\n",
       "      <td>3364.63</td>\n",
       "      <td>1397.30</td>\n",
       "      <td>222815.29</td>\n",
       "      <td>1.0</td>\n",
       "      <td>0.0</td>\n",
       "      <td>1</td>\n",
       "      <td>1.0</td>\n",
       "      <td>0</td>\n",
       "      <td>2192.42</td>\n",
       "      <td>1369.87</td>\n",
       "      <td>161924.75</td>\n",
       "      <td>1.0</td>\n",
       "      <td>0.0</td>\n",
       "      <td>-1</td>\n",
       "      <td>1.0</td>\n",
       "      <td>0</td>\n",
       "      <td>1925.16</td>\n",
       "      <td>-551.12</td>\n",
       "      <td>40420.96</td>\n",
       "      <td>1.0</td>\n",
       "      <td>0.0</td>\n",
       "      <td>1</td>\n",
       "      <td>1.0</td>\n",
       "      <td>0</td>\n",
       "      <td>222845.073179</td>\n",
       "    </tr>\n",
       "    <tr>\n",
       "      <th>4</th>\n",
       "      <td>0.0</td>\n",
       "      <td>1.0</td>\n",
       "      <td>-581.66</td>\n",
       "      <td>-1305.24</td>\n",
       "      <td>22249.59</td>\n",
       "      <td>1.0</td>\n",
       "      <td>0.0</td>\n",
       "      <td>-1</td>\n",
       "      <td>1.0</td>\n",
       "      <td>0</td>\n",
       "      <td>1153.05</td>\n",
       "      <td>-1998.17</td>\n",
       "      <td>66134.22</td>\n",
       "      <td>1.0</td>\n",
       "      <td>0.0</td>\n",
       "      <td>1</td>\n",
       "      <td>1.0</td>\n",
       "      <td>0</td>\n",
       "      <td>-2820.04</td>\n",
       "      <td>-8305.43</td>\n",
       "      <td>250130.00</td>\n",
       "      <td>1.0</td>\n",
       "      <td>0.0</td>\n",
       "      <td>-1</td>\n",
       "      <td>1.0</td>\n",
       "      <td>0</td>\n",
       "      <td>22295.430810</td>\n",
       "    </tr>\n",
       "  </tbody>\n",
       "</table>\n",
       "</div>"
      ],
      "text/plain": [
       "   B_FlightDistance  B_VertexChi2    H1_PX    H1_PY      H1_PZ  H1_ProbK  \\\n",
       "0               0.0           1.0  3551.84  1636.96   23904.14       1.0   \n",
       "1               0.0           1.0 -2525.98 -5284.05   35822.00       1.0   \n",
       "2               0.0           1.0  -700.67  1299.73    8127.76       1.0   \n",
       "3               0.0           1.0  3364.63  1397.30  222815.29       1.0   \n",
       "4               0.0           1.0  -581.66 -1305.24   22249.59       1.0   \n",
       "\n",
       "   H1_ProbPi  H1_Charge  H1_IPChi2  H1_isMuon     H2_PX     H2_PY      H2_PZ  \\\n",
       "0        0.0         -1        1.0          0  41507.15  15980.59  331663.64   \n",
       "1        0.0          1        1.0          0 -43182.91 -96553.03  585289.31   \n",
       "2        0.0         -1        1.0          0  -1411.99   3550.96   16120.27   \n",
       "3        0.0          1        1.0          0   2192.42   1369.87  161924.75   \n",
       "4        0.0         -1        1.0          0   1153.05  -1998.17   66134.22   \n",
       "\n",
       "   H2_ProbK  H2_ProbPi  H2_Charge  H2_IPChi2  H2_isMuon     H3_PX     H3_PY  \\\n",
       "0       1.0        0.0          1        1.0          0  36100.40  16546.83   \n",
       "1       1.0        0.0         -1        1.0          0  -8648.32 -16617.56   \n",
       "2       1.0        0.0          1        1.0          0 -13483.34  10860.77   \n",
       "3       1.0        0.0         -1        1.0          0   1925.16   -551.12   \n",
       "4       1.0        0.0          1        1.0          0  -2820.04  -8305.43   \n",
       "\n",
       "       H3_PZ  H3_ProbK  H3_ProbPi  H3_Charge  H3_IPChi2  H3_isMuon  \\\n",
       "0  295600.61       1.0        0.0         -1        1.0          0   \n",
       "1   98535.13       1.0        0.0         -1        1.0          0   \n",
       "2   79787.59       1.0        0.0          1        1.0          0   \n",
       "3   40420.96       1.0        0.0          1        1.0          0   \n",
       "4  250130.00       1.0        0.0         -1        1.0          0   \n",
       "\n",
       "            H1_P  \n",
       "0   24221.955218  \n",
       "1   36297.623109  \n",
       "2    8260.794099  \n",
       "3  222845.073179  \n",
       "4   22295.430810  "
      ]
     },
     "execution_count": 7,
     "metadata": {},
     "output_type": "execute_result"
    }
   ],
   "source": [
    "# calculate a variable for the magnitude of the momentum of the first kaon \n",
    "# plot a histogram of this variable\n",
    "sim_data.eval('H1_P = sqrt(H1_PX**2 + H1_PY**2 + H1_PZ**2)')\n",
    "sim_data.head(5)"
   ]
  },
  {
   "cell_type": "code",
   "execution_count": 8,
   "metadata": {
    "collapsed": false
   },
   "outputs": [
    {
     "data": {
      "text/plain": [
       "<matplotlib.text.Text at 0x7fa03784c9d0>"
      ]
     },
     "execution_count": 8,
     "metadata": {},
     "output_type": "execute_result"
    },
    {
     "data": {
      "image/png": "[encoded data removed]",
      "text/plain": [
       "<matplotlib.figure.Figure at 0x7fa03787cb90>"
      ]
     },
     "metadata": {},
     "output_type": "display_data"
    }
   ],
   "source": [
    "H_sim_data_H1_P = sim_data.H1_P.hist(bins=101, range=[-1000, 800000])\n",
    "xlabel('Simulation H1_P')\n",
    "ylabel('Number')"
   ]
  },
  {
   "cell_type": "markdown",
   "metadata": {
    "heading_collapsed": true
   },
   "source": [
    "### Hints"
   ]
  },
  {
   "cell_type": "markdown",
   "metadata": {
    "hidden": true
   },
   "source": [
    "**Histogram plotting** - You can use the hist() function. The parameters bins(n) and range(x,y) allow youto plot n bins over the range x to y."
   ]
  },
  {
   "cell_type": "markdown",
   "metadata": {},
   "source": [
    "## Energy and mass\n",
    "\n",
    "Einstein's theory of special relativity relates Energy, mass and momentum. We have measured the momentum of the kaon canddiates in the detector, and have just plotted one of the components of the momentum of the kaon, and the magnitude of the momentum. The invariant mass of the kaon is well known and you can look this up. We wish to determine the energy of the kaons.    \n",
    "\n",
    "Here is a brief guide to the energy-momentum relation of [special relativity](Background-Information-Notebooks/SpecialRelativity.ipynb). Further information can be found on wikipedia pages on [Invariant Mass](https://en.wikipedia.org/wiki/Invariant_mass)  and the [Energy-momentum relation](https://en.wikipedia.org/wiki/Energy%E2%80%93momentum_relation).\n",
    "\n",
    "Now, calculate the energy of the first kaon candidate using:\n",
    "\n",
    "<center> $E^2 = p^2 + m^2$ </center>"
   ]
  },
  {
   "cell_type": "code",
   "execution_count": 9,
   "metadata": {
    "collapsed": false,
    "run_control": {
     "frozen": false,
     "read_only": false
    }
   },
   "outputs": [
    {
     "data": {
      "text/html": [
       "<div>\n",
       "<table border=\"1\" class=\"dataframe\">\n",
       "  <thead>\n",
       "    <tr style=\"text-align: right;\">\n",
       "      <th></th>\n",
       "      <th>B_FlightDistance</th>\n",
       "      <th>B_VertexChi2</th>\n",
       "      <th>H1_PX</th>\n",
       "      <th>H1_PY</th>\n",
       "      <th>H1_PZ</th>\n",
       "      <th>H1_ProbK</th>\n",
       "      <th>H1_ProbPi</th>\n",
       "      <th>H1_Charge</th>\n",
       "      <th>H1_IPChi2</th>\n",
       "      <th>H1_isMuon</th>\n",
       "      <th>H2_PX</th>\n",
       "      <th>H2_PY</th>\n",
       "      <th>H2_PZ</th>\n",
       "      <th>H2_ProbK</th>\n",
       "      <th>H2_ProbPi</th>\n",
       "      <th>H2_Charge</th>\n",
       "      <th>H2_IPChi2</th>\n",
       "      <th>H2_isMuon</th>\n",
       "      <th>H3_PX</th>\n",
       "      <th>H3_PY</th>\n",
       "      <th>H3_PZ</th>\n",
       "      <th>H3_ProbK</th>\n",
       "      <th>H3_ProbPi</th>\n",
       "      <th>H3_Charge</th>\n",
       "      <th>H3_IPChi2</th>\n",
       "      <th>H3_isMuon</th>\n",
       "      <th>H1_P</th>\n",
       "      <th>H1_M</th>\n",
       "      <th>H1_E</th>\n",
       "    </tr>\n",
       "  </thead>\n",
       "  <tbody>\n",
       "    <tr>\n",
       "      <th>0</th>\n",
       "      <td>0.0</td>\n",
       "      <td>1.0</td>\n",
       "      <td>3551.84</td>\n",
       "      <td>1636.96</td>\n",
       "      <td>23904.14</td>\n",
       "      <td>1.0</td>\n",
       "      <td>0.0</td>\n",
       "      <td>-1</td>\n",
       "      <td>1.0</td>\n",
       "      <td>0</td>\n",
       "      <td>41507.15</td>\n",
       "      <td>15980.59</td>\n",
       "      <td>331663.64</td>\n",
       "      <td>1.0</td>\n",
       "      <td>0.0</td>\n",
       "      <td>1</td>\n",
       "      <td>1.0</td>\n",
       "      <td>0</td>\n",
       "      <td>36100.40</td>\n",
       "      <td>16546.83</td>\n",
       "      <td>295600.61</td>\n",
       "      <td>1.0</td>\n",
       "      <td>0.0</td>\n",
       "      <td>-1</td>\n",
       "      <td>1.0</td>\n",
       "      <td>0</td>\n",
       "      <td>24221.955218</td>\n",
       "      <td>493.667</td>\n",
       "      <td>24226.985402</td>\n",
       "    </tr>\n",
       "    <tr>\n",
       "      <th>1</th>\n",
       "      <td>0.0</td>\n",
       "      <td>1.0</td>\n",
       "      <td>-2525.98</td>\n",
       "      <td>-5284.05</td>\n",
       "      <td>35822.00</td>\n",
       "      <td>1.0</td>\n",
       "      <td>0.0</td>\n",
       "      <td>1</td>\n",
       "      <td>1.0</td>\n",
       "      <td>0</td>\n",
       "      <td>-43182.91</td>\n",
       "      <td>-96553.03</td>\n",
       "      <td>585289.31</td>\n",
       "      <td>1.0</td>\n",
       "      <td>0.0</td>\n",
       "      <td>-1</td>\n",
       "      <td>1.0</td>\n",
       "      <td>0</td>\n",
       "      <td>-8648.32</td>\n",
       "      <td>-16617.56</td>\n",
       "      <td>98535.13</td>\n",
       "      <td>1.0</td>\n",
       "      <td>0.0</td>\n",
       "      <td>-1</td>\n",
       "      <td>1.0</td>\n",
       "      <td>0</td>\n",
       "      <td>36297.623109</td>\n",
       "      <td>493.667</td>\n",
       "      <td>36300.980021</td>\n",
       "    </tr>\n",
       "    <tr>\n",
       "      <th>2</th>\n",
       "      <td>0.0</td>\n",
       "      <td>1.0</td>\n",
       "      <td>-700.67</td>\n",
       "      <td>1299.73</td>\n",
       "      <td>8127.76</td>\n",
       "      <td>1.0</td>\n",
       "      <td>0.0</td>\n",
       "      <td>-1</td>\n",
       "      <td>1.0</td>\n",
       "      <td>0</td>\n",
       "      <td>-1411.99</td>\n",
       "      <td>3550.96</td>\n",
       "      <td>16120.27</td>\n",
       "      <td>1.0</td>\n",
       "      <td>0.0</td>\n",
       "      <td>1</td>\n",
       "      <td>1.0</td>\n",
       "      <td>0</td>\n",
       "      <td>-13483.34</td>\n",
       "      <td>10860.77</td>\n",
       "      <td>79787.59</td>\n",
       "      <td>1.0</td>\n",
       "      <td>0.0</td>\n",
       "      <td>1</td>\n",
       "      <td>1.0</td>\n",
       "      <td>0</td>\n",
       "      <td>8260.794099</td>\n",
       "      <td>493.667</td>\n",
       "      <td>8275.531780</td>\n",
       "    </tr>\n",
       "    <tr>\n",
       "      <th>3</th>\n",
       "      <td>0.0</td>\n",
       "      <td>1.0</td>\n",
       "      <td>3364.63</td>\n",
       "      <td>1397.30</td>\n",
       "      <td>222815.29</td>\n",
       "      <td>1.0</td>\n",
       "      <td>0.0</td>\n",
       "      <td>1</td>\n",
       "      <td>1.0</td>\n",
       "      <td>0</td>\n",
       "      <td>2192.42</td>\n",
       "      <td>1369.87</td>\n",
       "      <td>161924.75</td>\n",
       "      <td>1.0</td>\n",
       "      <td>0.0</td>\n",
       "      <td>-1</td>\n",
       "      <td>1.0</td>\n",
       "      <td>0</td>\n",
       "      <td>1925.16</td>\n",
       "      <td>-551.12</td>\n",
       "      <td>40420.96</td>\n",
       "      <td>1.0</td>\n",
       "      <td>0.0</td>\n",
       "      <td>1</td>\n",
       "      <td>1.0</td>\n",
       "      <td>0</td>\n",
       "      <td>222845.073179</td>\n",
       "      <td>493.667</td>\n",
       "      <td>222845.619987</td>\n",
       "    </tr>\n",
       "    <tr>\n",
       "      <th>4</th>\n",
       "      <td>0.0</td>\n",
       "      <td>1.0</td>\n",
       "      <td>-581.66</td>\n",
       "      <td>-1305.24</td>\n",
       "      <td>22249.59</td>\n",
       "      <td>1.0</td>\n",
       "      <td>0.0</td>\n",
       "      <td>-1</td>\n",
       "      <td>1.0</td>\n",
       "      <td>0</td>\n",
       "      <td>1153.05</td>\n",
       "      <td>-1998.17</td>\n",
       "      <td>66134.22</td>\n",
       "      <td>1.0</td>\n",
       "      <td>0.0</td>\n",
       "      <td>1</td>\n",
       "      <td>1.0</td>\n",
       "      <td>0</td>\n",
       "      <td>-2820.04</td>\n",
       "      <td>-8305.43</td>\n",
       "      <td>250130.00</td>\n",
       "      <td>1.0</td>\n",
       "      <td>0.0</td>\n",
       "      <td>-1</td>\n",
       "      <td>1.0</td>\n",
       "      <td>0</td>\n",
       "      <td>22295.430810</td>\n",
       "      <td>493.667</td>\n",
       "      <td>22300.895545</td>\n",
       "    </tr>\n",
       "  </tbody>\n",
       "</table>\n",
       "</div>"
      ],
      "text/plain": [
       "   B_FlightDistance  B_VertexChi2    H1_PX    H1_PY      H1_PZ  H1_ProbK  \\\n",
       "0               0.0           1.0  3551.84  1636.96   23904.14       1.0   \n",
       "1               0.0           1.0 -2525.98 -5284.05   35822.00       1.0   \n",
       "2               0.0           1.0  -700.67  1299.73    8127.76       1.0   \n",
       "3               0.0           1.0  3364.63  1397.30  222815.29       1.0   \n",
       "4               0.0           1.0  -581.66 -1305.24   22249.59       1.0   \n",
       "\n",
       "   H1_ProbPi  H1_Charge  H1_IPChi2  H1_isMuon     H2_PX     H2_PY      H2_PZ  \\\n",
       "0        0.0         -1        1.0          0  41507.15  15980.59  331663.64   \n",
       "1        0.0          1        1.0          0 -43182.91 -96553.03  585289.31   \n",
       "2        0.0         -1        1.0          0  -1411.99   3550.96   16120.27   \n",
       "3        0.0          1        1.0          0   2192.42   1369.87  161924.75   \n",
       "4        0.0         -1        1.0          0   1153.05  -1998.17   66134.22   \n",
       "\n",
       "   H2_ProbK  H2_ProbPi  H2_Charge  H2_IPChi2  H2_isMuon     H3_PX     H3_PY  \\\n",
       "0       1.0        0.0          1        1.0          0  36100.40  16546.83   \n",
       "1       1.0        0.0         -1        1.0          0  -8648.32 -16617.56   \n",
       "2       1.0        0.0          1        1.0          0 -13483.34  10860.77   \n",
       "3       1.0        0.0         -1        1.0          0   1925.16   -551.12   \n",
       "4       1.0        0.0          1        1.0          0  -2820.04  -8305.43   \n",
       "\n",
       "       H3_PZ  H3_ProbK  H3_ProbPi  H3_Charge  H3_IPChi2  H3_isMuon  \\\n",
       "0  295600.61       1.0        0.0         -1        1.0          0   \n",
       "1   98535.13       1.0        0.0         -1        1.0          0   \n",
       "2   79787.59       1.0        0.0          1        1.0          0   \n",
       "3   40420.96       1.0        0.0          1        1.0          0   \n",
       "4  250130.00       1.0        0.0         -1        1.0          0   \n",
       "\n",
       "            H1_P     H1_M           H1_E  \n",
       "0   24221.955218  493.667   24226.985402  \n",
       "1   36297.623109  493.667   36300.980021  \n",
       "2    8260.794099  493.667    8275.531780  \n",
       "3  222845.073179  493.667  222845.619987  \n",
       "4   22295.430810  493.667   22300.895545  "
      ]
     },
     "execution_count": 9,
     "metadata": {},
     "output_type": "execute_result"
    }
   ],
   "source": [
    "# calculate the energy of the first kaon\n",
    "# mass of K^+ = 493.667 MeV/c^2\n",
    "mass_Kp = 493.667\n",
    "sim_data['H1_M'] = mass_Kp\n",
    "sim_data.eval('H1_E = sqrt(H1_P**2 + H1_M**2)')\n",
    "sim_data.head(5)"
   ]
  },
  {
   "cell_type": "code",
   "execution_count": 10,
   "metadata": {
    "collapsed": false
   },
   "outputs": [
    {
     "data": {
      "text/plain": [
       "<matplotlib.text.Text at 0x7fa036a366d0>"
      ]
     },
     "execution_count": 10,
     "metadata": {},
     "output_type": "execute_result"
    },
    {
     "data": {
      "image/png": "[encoded data removed]",
      "text/plain": [
       "<matplotlib.figure.Figure at 0x7fa0377740d0>"
      ]
     },
     "metadata": {},
     "output_type": "display_data"
    }
   ],
   "source": [
    "# plot a histogram of this variable\n",
    "H_sim_data_H1_E = sim_data.H1_E.hist(bins=101, range=[-1000, 800000])\n",
    "xlabel('Simulation H1_E')\n",
    "ylabel('Number')"
   ]
  },
  {
   "cell_type": "markdown",
   "metadata": {
    "heading_collapsed": true
   },
   "source": [
    "### Hints"
   ]
  },
  {
   "cell_type": "markdown",
   "metadata": {
    "hidden": true
   },
   "source": [
    "**Energy calculation** - Use the magnitude of momentum variable you calculated above and the known invariant mass of the kaon to work out the energy of each hadron.\n",
    "\n",
    "**Kaon mass** - you can find the kaon mass on wikipedia or in physics textbooks. There is also a reference used by particle physicists: all our knowledge of the properties of the particles are collected together by the particle data group  [here](http://pdg.lbl.gov/2014/reviews/rpp2014-rev-charged-kaon-mass.pdf)."
   ]
  },
  {
   "cell_type": "markdown",
   "metadata": {
    "hidden": true
   },
   "source": [
    "Calculate the momenta and energies of the second and third kaon candidates also.\n"
   ]
  },
  {
   "cell_type": "code",
   "execution_count": 11,
   "metadata": {
    "collapsed": false,
    "hidden": true,
    "run_control": {
     "frozen": false,
     "read_only": false
    }
   },
   "outputs": [],
   "source": [
    "# calculate variables for the energy of the other two kaons"
   ]
  },
  {
   "cell_type": "markdown",
   "metadata": {},
   "source": [
    "## Adding features of the $B$ meson\n",
    "\n",
    "In this analysis we are looking for B<sup>+</sup> or B<sup>-</sup> mesons (see [B meson](https://en.wikipedia.org/wiki/B_meson)) that have decayed into the three charged [kaons](https://en.wikipedia.org/wiki/Kaon).\n",
    "\n",
    "Energy is a conserved quantities. This means that you can use the energy of the three 'daughter' kaons, which you have calculated above, to calculate the energy that the B meson that decayed into them must have.\n",
    "\n",
    "Momentum is also a conserved quantity. Hence you can also use the momenta of the 'daughter' kaons to calculate the momentum of the B meson. But be careful - momentum is a *vector* quantity. \n",
    "\n",
    "Using the Energy of the B meson and the magnitude of the momentum of the B meson you can use the energy-momentum relationship again. This time you are applying it to the B meson. This will allow you to calculate the invariant mass of the B meson.\n"
   ]
  },
  {
   "cell_type": "code",
   "execution_count": 12,
   "metadata": {
    "collapsed": false,
    "run_control": {
     "frozen": false,
     "read_only": false
    }
   },
   "outputs": [
    {
     "data": {
      "text/html": [
       "<div>\n",
       "<table border=\"1\" class=\"dataframe\">\n",
       "  <thead>\n",
       "    <tr style=\"text-align: right;\">\n",
       "      <th></th>\n",
       "      <th>B_FlightDistance</th>\n",
       "      <th>B_VertexChi2</th>\n",
       "      <th>H1_PX</th>\n",
       "      <th>H1_PY</th>\n",
       "      <th>H1_PZ</th>\n",
       "      <th>H1_ProbK</th>\n",
       "      <th>H1_ProbPi</th>\n",
       "      <th>H1_Charge</th>\n",
       "      <th>H1_IPChi2</th>\n",
       "      <th>H1_isMuon</th>\n",
       "      <th>H2_PX</th>\n",
       "      <th>H2_PY</th>\n",
       "      <th>H2_PZ</th>\n",
       "      <th>H2_ProbK</th>\n",
       "      <th>H2_ProbPi</th>\n",
       "      <th>H2_Charge</th>\n",
       "      <th>H2_IPChi2</th>\n",
       "      <th>H2_isMuon</th>\n",
       "      <th>H3_PX</th>\n",
       "      <th>H3_PY</th>\n",
       "      <th>H3_PZ</th>\n",
       "      <th>H3_ProbK</th>\n",
       "      <th>H3_ProbPi</th>\n",
       "      <th>H3_Charge</th>\n",
       "      <th>H3_IPChi2</th>\n",
       "      <th>H3_isMuon</th>\n",
       "      <th>H1_P</th>\n",
       "      <th>H1_M</th>\n",
       "      <th>H1_E</th>\n",
       "      <th>H2_P</th>\n",
       "      <th>H2_M</th>\n",
       "      <th>H2_E</th>\n",
       "      <th>H3_P</th>\n",
       "      <th>H3_M</th>\n",
       "      <th>H3_E</th>\n",
       "      <th>B_E</th>\n",
       "    </tr>\n",
       "  </thead>\n",
       "  <tbody>\n",
       "    <tr>\n",
       "      <th>0</th>\n",
       "      <td>0.0</td>\n",
       "      <td>1.0</td>\n",
       "      <td>3551.84</td>\n",
       "      <td>1636.96</td>\n",
       "      <td>23904.14</td>\n",
       "      <td>1.0</td>\n",
       "      <td>0.0</td>\n",
       "      <td>-1</td>\n",
       "      <td>1.0</td>\n",
       "      <td>0</td>\n",
       "      <td>41507.15</td>\n",
       "      <td>15980.59</td>\n",
       "      <td>331663.64</td>\n",
       "      <td>1.0</td>\n",
       "      <td>0.0</td>\n",
       "      <td>1</td>\n",
       "      <td>1.0</td>\n",
       "      <td>0</td>\n",
       "      <td>36100.40</td>\n",
       "      <td>16546.83</td>\n",
       "      <td>295600.61</td>\n",
       "      <td>1.0</td>\n",
       "      <td>0.0</td>\n",
       "      <td>-1</td>\n",
       "      <td>1.0</td>\n",
       "      <td>0</td>\n",
       "      <td>24221.955218</td>\n",
       "      <td>493.667</td>\n",
       "      <td>24226.985402</td>\n",
       "      <td>334632.623717</td>\n",
       "      <td>493.667</td>\n",
       "      <td>334632.987858</td>\n",
       "      <td>298256.193725</td>\n",
       "      <td>493.667</td>\n",
       "      <td>298256.602278</td>\n",
       "      <td>657116.575539</td>\n",
       "    </tr>\n",
       "    <tr>\n",
       "      <th>1</th>\n",
       "      <td>0.0</td>\n",
       "      <td>1.0</td>\n",
       "      <td>-2525.98</td>\n",
       "      <td>-5284.05</td>\n",
       "      <td>35822.00</td>\n",
       "      <td>1.0</td>\n",
       "      <td>0.0</td>\n",
       "      <td>1</td>\n",
       "      <td>1.0</td>\n",
       "      <td>0</td>\n",
       "      <td>-43182.91</td>\n",
       "      <td>-96553.03</td>\n",
       "      <td>585289.31</td>\n",
       "      <td>1.0</td>\n",
       "      <td>0.0</td>\n",
       "      <td>-1</td>\n",
       "      <td>1.0</td>\n",
       "      <td>0</td>\n",
       "      <td>-8648.32</td>\n",
       "      <td>-16617.56</td>\n",
       "      <td>98535.13</td>\n",
       "      <td>1.0</td>\n",
       "      <td>0.0</td>\n",
       "      <td>-1</td>\n",
       "      <td>1.0</td>\n",
       "      <td>0</td>\n",
       "      <td>36297.623109</td>\n",
       "      <td>493.667</td>\n",
       "      <td>36300.980021</td>\n",
       "      <td>594769.558500</td>\n",
       "      <td>493.667</td>\n",
       "      <td>594769.763375</td>\n",
       "      <td>100300.092639</td>\n",
       "      <td>493.667</td>\n",
       "      <td>100301.307521</td>\n",
       "      <td>731372.050917</td>\n",
       "    </tr>\n",
       "    <tr>\n",
       "      <th>2</th>\n",
       "      <td>0.0</td>\n",
       "      <td>1.0</td>\n",
       "      <td>-700.67</td>\n",
       "      <td>1299.73</td>\n",
       "      <td>8127.76</td>\n",
       "      <td>1.0</td>\n",
       "      <td>0.0</td>\n",
       "      <td>-1</td>\n",
       "      <td>1.0</td>\n",
       "      <td>0</td>\n",
       "      <td>-1411.99</td>\n",
       "      <td>3550.96</td>\n",
       "      <td>16120.27</td>\n",
       "      <td>1.0</td>\n",
       "      <td>0.0</td>\n",
       "      <td>1</td>\n",
       "      <td>1.0</td>\n",
       "      <td>0</td>\n",
       "      <td>-13483.34</td>\n",
       "      <td>10860.77</td>\n",
       "      <td>79787.59</td>\n",
       "      <td>1.0</td>\n",
       "      <td>0.0</td>\n",
       "      <td>1</td>\n",
       "      <td>1.0</td>\n",
       "      <td>0</td>\n",
       "      <td>8260.794099</td>\n",
       "      <td>493.667</td>\n",
       "      <td>8275.531780</td>\n",
       "      <td>16567.019574</td>\n",
       "      <td>493.667</td>\n",
       "      <td>16574.373130</td>\n",
       "      <td>81644.450519</td>\n",
       "      <td>493.667</td>\n",
       "      <td>81645.942996</td>\n",
       "      <td>106495.847906</td>\n",
       "    </tr>\n",
       "    <tr>\n",
       "      <th>3</th>\n",
       "      <td>0.0</td>\n",
       "      <td>1.0</td>\n",
       "      <td>3364.63</td>\n",
       "      <td>1397.30</td>\n",
       "      <td>222815.29</td>\n",
       "      <td>1.0</td>\n",
       "      <td>0.0</td>\n",
       "      <td>1</td>\n",
       "      <td>1.0</td>\n",
       "      <td>0</td>\n",
       "      <td>2192.42</td>\n",
       "      <td>1369.87</td>\n",
       "      <td>161924.75</td>\n",
       "      <td>1.0</td>\n",
       "      <td>0.0</td>\n",
       "      <td>-1</td>\n",
       "      <td>1.0</td>\n",
       "      <td>0</td>\n",
       "      <td>1925.16</td>\n",
       "      <td>-551.12</td>\n",
       "      <td>40420.96</td>\n",
       "      <td>1.0</td>\n",
       "      <td>0.0</td>\n",
       "      <td>1</td>\n",
       "      <td>1.0</td>\n",
       "      <td>0</td>\n",
       "      <td>222845.073179</td>\n",
       "      <td>493.667</td>\n",
       "      <td>222845.619987</td>\n",
       "      <td>161945.385584</td>\n",
       "      <td>493.667</td>\n",
       "      <td>161946.138018</td>\n",
       "      <td>40470.532262</td>\n",
       "      <td>493.667</td>\n",
       "      <td>40473.543071</td>\n",
       "      <td>425265.301075</td>\n",
       "    </tr>\n",
       "    <tr>\n",
       "      <th>4</th>\n",
       "      <td>0.0</td>\n",
       "      <td>1.0</td>\n",
       "      <td>-581.66</td>\n",
       "      <td>-1305.24</td>\n",
       "      <td>22249.59</td>\n",
       "      <td>1.0</td>\n",
       "      <td>0.0</td>\n",
       "      <td>-1</td>\n",
       "      <td>1.0</td>\n",
       "      <td>0</td>\n",
       "      <td>1153.05</td>\n",
       "      <td>-1998.17</td>\n",
       "      <td>66134.22</td>\n",
       "      <td>1.0</td>\n",
       "      <td>0.0</td>\n",
       "      <td>1</td>\n",
       "      <td>1.0</td>\n",
       "      <td>0</td>\n",
       "      <td>-2820.04</td>\n",
       "      <td>-8305.43</td>\n",
       "      <td>250130.00</td>\n",
       "      <td>1.0</td>\n",
       "      <td>0.0</td>\n",
       "      <td>-1</td>\n",
       "      <td>1.0</td>\n",
       "      <td>0</td>\n",
       "      <td>22295.430810</td>\n",
       "      <td>493.667</td>\n",
       "      <td>22300.895545</td>\n",
       "      <td>66174.445692</td>\n",
       "      <td>493.667</td>\n",
       "      <td>66176.287065</td>\n",
       "      <td>250283.738371</td>\n",
       "      <td>493.667</td>\n",
       "      <td>250284.225232</td>\n",
       "      <td>338761.407842</td>\n",
       "    </tr>\n",
       "  </tbody>\n",
       "</table>\n",
       "</div>"
      ],
      "text/plain": [
       "   B_FlightDistance  B_VertexChi2    H1_PX    H1_PY      H1_PZ  H1_ProbK  \\\n",
       "0               0.0           1.0  3551.84  1636.96   23904.14       1.0   \n",
       "1               0.0           1.0 -2525.98 -5284.05   35822.00       1.0   \n",
       "2               0.0           1.0  -700.67  1299.73    8127.76       1.0   \n",
       "3               0.0           1.0  3364.63  1397.30  222815.29       1.0   \n",
       "4               0.0           1.0  -581.66 -1305.24   22249.59       1.0   \n",
       "\n",
       "   H1_ProbPi  H1_Charge  H1_IPChi2  H1_isMuon     H2_PX     H2_PY      H2_PZ  \\\n",
       "0        0.0         -1        1.0          0  41507.15  15980.59  331663.64   \n",
       "1        0.0          1        1.0          0 -43182.91 -96553.03  585289.31   \n",
       "2        0.0         -1        1.0          0  -1411.99   3550.96   16120.27   \n",
       "3        0.0          1        1.0          0   2192.42   1369.87  161924.75   \n",
       "4        0.0         -1        1.0          0   1153.05  -1998.17   66134.22   \n",
       "\n",
       "   H2_ProbK  H2_ProbPi  H2_Charge  H2_IPChi2  H2_isMuon     H3_PX     H3_PY  \\\n",
       "0       1.0        0.0          1        1.0          0  36100.40  16546.83   \n",
       "1       1.0        0.0         -1        1.0          0  -8648.32 -16617.56   \n",
       "2       1.0        0.0          1        1.0          0 -13483.34  10860.77   \n",
       "3       1.0        0.0         -1        1.0          0   1925.16   -551.12   \n",
       "4       1.0        0.0          1        1.0          0  -2820.04  -8305.43   \n",
       "\n",
       "       H3_PZ  H3_ProbK  H3_ProbPi  H3_Charge  H3_IPChi2  H3_isMuon  \\\n",
       "0  295600.61       1.0        0.0         -1        1.0          0   \n",
       "1   98535.13       1.0        0.0         -1        1.0          0   \n",
       "2   79787.59       1.0        0.0          1        1.0          0   \n",
       "3   40420.96       1.0        0.0          1        1.0          0   \n",
       "4  250130.00       1.0        0.0         -1        1.0          0   \n",
       "\n",
       "            H1_P     H1_M           H1_E           H2_P     H2_M  \\\n",
       "0   24221.955218  493.667   24226.985402  334632.623717  493.667   \n",
       "1   36297.623109  493.667   36300.980021  594769.558500  493.667   \n",
       "2    8260.794099  493.667    8275.531780   16567.019574  493.667   \n",
       "3  222845.073179  493.667  222845.619987  161945.385584  493.667   \n",
       "4   22295.430810  493.667   22300.895545   66174.445692  493.667   \n",
       "\n",
       "            H2_E           H3_P     H3_M           H3_E            B_E  \n",
       "0  334632.987858  298256.193725  493.667  298256.602278  657116.575539  \n",
       "1  594769.763375  100300.092639  493.667  100301.307521  731372.050917  \n",
       "2   16574.373130   81644.450519  493.667   81645.942996  106495.847906  \n",
       "3  161946.138018   40470.532262  493.667   40473.543071  425265.301075  \n",
       "4   66176.287065  250283.738371  493.667  250284.225232  338761.407842  "
      ]
     },
     "execution_count": 12,
     "metadata": {},
     "output_type": "execute_result"
    }
   ],
   "source": [
    "# calculate the energy of the B meson\n",
    "sim_data.eval('H2_P = sqrt(H2_PX**2 + H2_PY**2 + H2_PZ**2)')\n",
    "sim_data['H2_M'] = mass_Kp\n",
    "sim_data.eval('H2_E = sqrt(H2_P**2 + H2_M**2)')\n",
    "sim_data.eval('H3_P = sqrt(H3_PX**2 + H3_PY**2 + H3_PZ**2)')\n",
    "sim_data['H3_M'] = mass_Kp\n",
    "sim_data.eval('H3_E = sqrt(H3_P**2 + H3_M**2)')\n",
    "sim_data.eval('B_E = H1_E + H2_E + H3_E')\n",
    "sim_data.head(5)"
   ]
  },
  {
   "cell_type": "code",
   "execution_count": 13,
   "metadata": {
    "collapsed": false,
    "run_control": {
     "frozen": false,
     "read_only": false
    }
   },
   "outputs": [
    {
     "data": {
      "text/html": [
       "<div>\n",
       "<table border=\"1\" class=\"dataframe\">\n",
       "  <thead>\n",
       "    <tr style=\"text-align: right;\">\n",
       "      <th></th>\n",
       "      <th>B_FlightDistance</th>\n",
       "      <th>B_VertexChi2</th>\n",
       "      <th>H1_PX</th>\n",
       "      <th>H1_PY</th>\n",
       "      <th>H1_PZ</th>\n",
       "      <th>H1_ProbK</th>\n",
       "      <th>H1_ProbPi</th>\n",
       "      <th>H1_Charge</th>\n",
       "      <th>H1_IPChi2</th>\n",
       "      <th>H1_isMuon</th>\n",
       "      <th>H2_PX</th>\n",
       "      <th>H2_PY</th>\n",
       "      <th>H2_PZ</th>\n",
       "      <th>H2_ProbK</th>\n",
       "      <th>H2_ProbPi</th>\n",
       "      <th>H2_Charge</th>\n",
       "      <th>H2_IPChi2</th>\n",
       "      <th>H2_isMuon</th>\n",
       "      <th>H3_PX</th>\n",
       "      <th>H3_PY</th>\n",
       "      <th>H3_PZ</th>\n",
       "      <th>H3_ProbK</th>\n",
       "      <th>H3_ProbPi</th>\n",
       "      <th>H3_Charge</th>\n",
       "      <th>H3_IPChi2</th>\n",
       "      <th>H3_isMuon</th>\n",
       "      <th>H1_P</th>\n",
       "      <th>H1_M</th>\n",
       "      <th>H1_E</th>\n",
       "      <th>H2_P</th>\n",
       "      <th>H2_M</th>\n",
       "      <th>H2_E</th>\n",
       "      <th>H3_P</th>\n",
       "      <th>H3_M</th>\n",
       "      <th>H3_E</th>\n",
       "      <th>B_E</th>\n",
       "      <th>B_PX</th>\n",
       "      <th>B_PY</th>\n",
       "      <th>B_PZ</th>\n",
       "      <th>B_P</th>\n",
       "    </tr>\n",
       "  </thead>\n",
       "  <tbody>\n",
       "    <tr>\n",
       "      <th>0</th>\n",
       "      <td>0.0</td>\n",
       "      <td>1.0</td>\n",
       "      <td>3551.84</td>\n",
       "      <td>1636.96</td>\n",
       "      <td>23904.14</td>\n",
       "      <td>1.0</td>\n",
       "      <td>0.0</td>\n",
       "      <td>-1</td>\n",
       "      <td>1.0</td>\n",
       "      <td>0</td>\n",
       "      <td>41507.15</td>\n",
       "      <td>15980.59</td>\n",
       "      <td>331663.64</td>\n",
       "      <td>1.0</td>\n",
       "      <td>0.0</td>\n",
       "      <td>1</td>\n",
       "      <td>1.0</td>\n",
       "      <td>0</td>\n",
       "      <td>36100.40</td>\n",
       "      <td>16546.83</td>\n",
       "      <td>295600.61</td>\n",
       "      <td>1.0</td>\n",
       "      <td>0.0</td>\n",
       "      <td>-1</td>\n",
       "      <td>1.0</td>\n",
       "      <td>0</td>\n",
       "      <td>24221.955218</td>\n",
       "      <td>493.667</td>\n",
       "      <td>24226.985402</td>\n",
       "      <td>334632.623717</td>\n",
       "      <td>493.667</td>\n",
       "      <td>334632.987858</td>\n",
       "      <td>298256.193725</td>\n",
       "      <td>493.667</td>\n",
       "      <td>298256.602278</td>\n",
       "      <td>657116.575539</td>\n",
       "      <td>81159.39</td>\n",
       "      <td>34164.38</td>\n",
       "      <td>651168.39</td>\n",
       "      <td>657095.368711</td>\n",
       "    </tr>\n",
       "    <tr>\n",
       "      <th>1</th>\n",
       "      <td>0.0</td>\n",
       "      <td>1.0</td>\n",
       "      <td>-2525.98</td>\n",
       "      <td>-5284.05</td>\n",
       "      <td>35822.00</td>\n",
       "      <td>1.0</td>\n",
       "      <td>0.0</td>\n",
       "      <td>1</td>\n",
       "      <td>1.0</td>\n",
       "      <td>0</td>\n",
       "      <td>-43182.91</td>\n",
       "      <td>-96553.03</td>\n",
       "      <td>585289.31</td>\n",
       "      <td>1.0</td>\n",
       "      <td>0.0</td>\n",
       "      <td>-1</td>\n",
       "      <td>1.0</td>\n",
       "      <td>0</td>\n",
       "      <td>-8648.32</td>\n",
       "      <td>-16617.56</td>\n",
       "      <td>98535.13</td>\n",
       "      <td>1.0</td>\n",
       "      <td>0.0</td>\n",
       "      <td>-1</td>\n",
       "      <td>1.0</td>\n",
       "      <td>0</td>\n",
       "      <td>36297.623109</td>\n",
       "      <td>493.667</td>\n",
       "      <td>36300.980021</td>\n",
       "      <td>594769.558500</td>\n",
       "      <td>493.667</td>\n",
       "      <td>594769.763375</td>\n",
       "      <td>100300.092639</td>\n",
       "      <td>493.667</td>\n",
       "      <td>100301.307521</td>\n",
       "      <td>731372.050917</td>\n",
       "      <td>-54357.21</td>\n",
       "      <td>-118454.64</td>\n",
       "      <td>719646.44</td>\n",
       "      <td>731352.997274</td>\n",
       "    </tr>\n",
       "    <tr>\n",
       "      <th>2</th>\n",
       "      <td>0.0</td>\n",
       "      <td>1.0</td>\n",
       "      <td>-700.67</td>\n",
       "      <td>1299.73</td>\n",
       "      <td>8127.76</td>\n",
       "      <td>1.0</td>\n",
       "      <td>0.0</td>\n",
       "      <td>-1</td>\n",
       "      <td>1.0</td>\n",
       "      <td>0</td>\n",
       "      <td>-1411.99</td>\n",
       "      <td>3550.96</td>\n",
       "      <td>16120.27</td>\n",
       "      <td>1.0</td>\n",
       "      <td>0.0</td>\n",
       "      <td>1</td>\n",
       "      <td>1.0</td>\n",
       "      <td>0</td>\n",
       "      <td>-13483.34</td>\n",
       "      <td>10860.77</td>\n",
       "      <td>79787.59</td>\n",
       "      <td>1.0</td>\n",
       "      <td>0.0</td>\n",
       "      <td>1</td>\n",
       "      <td>1.0</td>\n",
       "      <td>0</td>\n",
       "      <td>8260.794099</td>\n",
       "      <td>493.667</td>\n",
       "      <td>8275.531780</td>\n",
       "      <td>16567.019574</td>\n",
       "      <td>493.667</td>\n",
       "      <td>16574.373130</td>\n",
       "      <td>81644.450519</td>\n",
       "      <td>493.667</td>\n",
       "      <td>81645.942996</td>\n",
       "      <td>106495.847906</td>\n",
       "      <td>-15596.00</td>\n",
       "      <td>15711.46</td>\n",
       "      <td>104035.62</td>\n",
       "      <td>106364.916303</td>\n",
       "    </tr>\n",
       "    <tr>\n",
       "      <th>3</th>\n",
       "      <td>0.0</td>\n",
       "      <td>1.0</td>\n",
       "      <td>3364.63</td>\n",
       "      <td>1397.30</td>\n",
       "      <td>222815.29</td>\n",
       "      <td>1.0</td>\n",
       "      <td>0.0</td>\n",
       "      <td>1</td>\n",
       "      <td>1.0</td>\n",
       "      <td>0</td>\n",
       "      <td>2192.42</td>\n",
       "      <td>1369.87</td>\n",
       "      <td>161924.75</td>\n",
       "      <td>1.0</td>\n",
       "      <td>0.0</td>\n",
       "      <td>-1</td>\n",
       "      <td>1.0</td>\n",
       "      <td>0</td>\n",
       "      <td>1925.16</td>\n",
       "      <td>-551.12</td>\n",
       "      <td>40420.96</td>\n",
       "      <td>1.0</td>\n",
       "      <td>0.0</td>\n",
       "      <td>1</td>\n",
       "      <td>1.0</td>\n",
       "      <td>0</td>\n",
       "      <td>222845.073179</td>\n",
       "      <td>493.667</td>\n",
       "      <td>222845.619987</td>\n",
       "      <td>161945.385584</td>\n",
       "      <td>493.667</td>\n",
       "      <td>161946.138018</td>\n",
       "      <td>40470.532262</td>\n",
       "      <td>493.667</td>\n",
       "      <td>40473.543071</td>\n",
       "      <td>425265.301075</td>\n",
       "      <td>7482.21</td>\n",
       "      <td>2216.05</td>\n",
       "      <td>425161.00</td>\n",
       "      <td>425232.607246</td>\n",
       "    </tr>\n",
       "    <tr>\n",
       "      <th>4</th>\n",
       "      <td>0.0</td>\n",
       "      <td>1.0</td>\n",
       "      <td>-581.66</td>\n",
       "      <td>-1305.24</td>\n",
       "      <td>22249.59</td>\n",
       "      <td>1.0</td>\n",
       "      <td>0.0</td>\n",
       "      <td>-1</td>\n",
       "      <td>1.0</td>\n",
       "      <td>0</td>\n",
       "      <td>1153.05</td>\n",
       "      <td>-1998.17</td>\n",
       "      <td>66134.22</td>\n",
       "      <td>1.0</td>\n",
       "      <td>0.0</td>\n",
       "      <td>1</td>\n",
       "      <td>1.0</td>\n",
       "      <td>0</td>\n",
       "      <td>-2820.04</td>\n",
       "      <td>-8305.43</td>\n",
       "      <td>250130.00</td>\n",
       "      <td>1.0</td>\n",
       "      <td>0.0</td>\n",
       "      <td>-1</td>\n",
       "      <td>1.0</td>\n",
       "      <td>0</td>\n",
       "      <td>22295.430810</td>\n",
       "      <td>493.667</td>\n",
       "      <td>22300.895545</td>\n",
       "      <td>66174.445692</td>\n",
       "      <td>493.667</td>\n",
       "      <td>66176.287065</td>\n",
       "      <td>250283.738371</td>\n",
       "      <td>493.667</td>\n",
       "      <td>250284.225232</td>\n",
       "      <td>338761.407842</td>\n",
       "      <td>-2248.65</td>\n",
       "      <td>-11608.84</td>\n",
       "      <td>338513.81</td>\n",
       "      <td>338720.269771</td>\n",
       "    </tr>\n",
       "  </tbody>\n",
       "</table>\n",
       "</div>"
      ],
      "text/plain": [
       "   B_FlightDistance  B_VertexChi2    H1_PX    H1_PY      H1_PZ  H1_ProbK  \\\n",
       "0               0.0           1.0  3551.84  1636.96   23904.14       1.0   \n",
       "1               0.0           1.0 -2525.98 -5284.05   35822.00       1.0   \n",
       "2               0.0           1.0  -700.67  1299.73    8127.76       1.0   \n",
       "3               0.0           1.0  3364.63  1397.30  222815.29       1.0   \n",
       "4               0.0           1.0  -581.66 -1305.24   22249.59       1.0   \n",
       "\n",
       "   H1_ProbPi  H1_Charge  H1_IPChi2  H1_isMuon     H2_PX     H2_PY      H2_PZ  \\\n",
       "0        0.0         -1        1.0          0  41507.15  15980.59  331663.64   \n",
       "1        0.0          1        1.0          0 -43182.91 -96553.03  585289.31   \n",
       "2        0.0         -1        1.0          0  -1411.99   3550.96   16120.27   \n",
       "3        0.0          1        1.0          0   2192.42   1369.87  161924.75   \n",
       "4        0.0         -1        1.0          0   1153.05  -1998.17   66134.22   \n",
       "\n",
       "   H2_ProbK  H2_ProbPi  H2_Charge  H2_IPChi2  H2_isMuon     H3_PX     H3_PY  \\\n",
       "0       1.0        0.0          1        1.0          0  36100.40  16546.83   \n",
       "1       1.0        0.0         -1        1.0          0  -8648.32 -16617.56   \n",
       "2       1.0        0.0          1        1.0          0 -13483.34  10860.77   \n",
       "3       1.0        0.0         -1        1.0          0   1925.16   -551.12   \n",
       "4       1.0        0.0          1        1.0          0  -2820.04  -8305.43   \n",
       "\n",
       "       H3_PZ  H3_ProbK  H3_ProbPi  H3_Charge  H3_IPChi2  H3_isMuon  \\\n",
       "0  295600.61       1.0        0.0         -1        1.0          0   \n",
       "1   98535.13       1.0        0.0         -1        1.0          0   \n",
       "2   79787.59       1.0        0.0          1        1.0          0   \n",
       "3   40420.96       1.0        0.0          1        1.0          0   \n",
       "4  250130.00       1.0        0.0         -1        1.0          0   \n",
       "\n",
       "            H1_P     H1_M           H1_E           H2_P     H2_M  \\\n",
       "0   24221.955218  493.667   24226.985402  334632.623717  493.667   \n",
       "1   36297.623109  493.667   36300.980021  594769.558500  493.667   \n",
       "2    8260.794099  493.667    8275.531780   16567.019574  493.667   \n",
       "3  222845.073179  493.667  222845.619987  161945.385584  493.667   \n",
       "4   22295.430810  493.667   22300.895545   66174.445692  493.667   \n",
       "\n",
       "            H2_E           H3_P     H3_M           H3_E            B_E  \\\n",
       "0  334632.987858  298256.193725  493.667  298256.602278  657116.575539   \n",
       "1  594769.763375  100300.092639  493.667  100301.307521  731372.050917   \n",
       "2   16574.373130   81644.450519  493.667   81645.942996  106495.847906   \n",
       "3  161946.138018   40470.532262  493.667   40473.543071  425265.301075   \n",
       "4   66176.287065  250283.738371  493.667  250284.225232  338761.407842   \n",
       "\n",
       "       B_PX       B_PY       B_PZ            B_P  \n",
       "0  81159.39   34164.38  651168.39  657095.368711  \n",
       "1 -54357.21 -118454.64  719646.44  731352.997274  \n",
       "2 -15596.00   15711.46  104035.62  106364.916303  \n",
       "3   7482.21    2216.05  425161.00  425232.607246  \n",
       "4  -2248.65  -11608.84  338513.81  338720.269771  "
      ]
     },
     "execution_count": 13,
     "metadata": {},
     "output_type": "execute_result"
    }
   ],
   "source": [
    "# calculate the momentum components of the B meson \n",
    "# and the magnitude of the momentum of the B meson\n",
    "sim_data.eval('B_PX = H1_PX + H2_PX + H3_PX')\n",
    "sim_data.eval('B_PY = H1_PY + H2_PY + H3_PY')\n",
    "sim_data.eval('B_PZ = H1_PZ + H2_PZ + H3_PZ')\n",
    "sim_data.eval('B_P = sqrt(B_PX**2 + B_PY**2 + B_PZ**2)')\n",
    "sim_data.head(5)"
   ]
  },
  {
   "cell_type": "code",
   "execution_count": 14,
   "metadata": {
    "collapsed": false
   },
   "outputs": [
    {
     "data": {
      "text/html": [
       "<div>\n",
       "<table border=\"1\" class=\"dataframe\">\n",
       "  <thead>\n",
       "    <tr style=\"text-align: right;\">\n",
       "      <th></th>\n",
       "      <th>B_FlightDistance</th>\n",
       "      <th>B_VertexChi2</th>\n",
       "      <th>H1_PX</th>\n",
       "      <th>H1_PY</th>\n",
       "      <th>H1_PZ</th>\n",
       "      <th>H1_ProbK</th>\n",
       "      <th>H1_ProbPi</th>\n",
       "      <th>H1_Charge</th>\n",
       "      <th>H1_IPChi2</th>\n",
       "      <th>H1_isMuon</th>\n",
       "      <th>H2_PX</th>\n",
       "      <th>H2_PY</th>\n",
       "      <th>H2_PZ</th>\n",
       "      <th>H2_ProbK</th>\n",
       "      <th>H2_ProbPi</th>\n",
       "      <th>H2_Charge</th>\n",
       "      <th>H2_IPChi2</th>\n",
       "      <th>H2_isMuon</th>\n",
       "      <th>H3_PX</th>\n",
       "      <th>H3_PY</th>\n",
       "      <th>H3_PZ</th>\n",
       "      <th>H3_ProbK</th>\n",
       "      <th>H3_ProbPi</th>\n",
       "      <th>H3_Charge</th>\n",
       "      <th>H3_IPChi2</th>\n",
       "      <th>H3_isMuon</th>\n",
       "      <th>H1_P</th>\n",
       "      <th>H1_M</th>\n",
       "      <th>H1_E</th>\n",
       "      <th>H2_P</th>\n",
       "      <th>H2_M</th>\n",
       "      <th>H2_E</th>\n",
       "      <th>H3_P</th>\n",
       "      <th>H3_M</th>\n",
       "      <th>H3_E</th>\n",
       "      <th>B_E</th>\n",
       "      <th>B_PX</th>\n",
       "      <th>B_PY</th>\n",
       "      <th>B_PZ</th>\n",
       "      <th>B_P</th>\n",
       "      <th>B_M</th>\n",
       "    </tr>\n",
       "  </thead>\n",
       "  <tbody>\n",
       "    <tr>\n",
       "      <th>0</th>\n",
       "      <td>0.0</td>\n",
       "      <td>1.0</td>\n",
       "      <td>3551.84</td>\n",
       "      <td>1636.96</td>\n",
       "      <td>23904.14</td>\n",
       "      <td>1.0</td>\n",
       "      <td>0.0</td>\n",
       "      <td>-1</td>\n",
       "      <td>1.0</td>\n",
       "      <td>0</td>\n",
       "      <td>41507.15</td>\n",
       "      <td>15980.59</td>\n",
       "      <td>331663.64</td>\n",
       "      <td>1.0</td>\n",
       "      <td>0.0</td>\n",
       "      <td>1</td>\n",
       "      <td>1.0</td>\n",
       "      <td>0</td>\n",
       "      <td>36100.40</td>\n",
       "      <td>16546.83</td>\n",
       "      <td>295600.61</td>\n",
       "      <td>1.0</td>\n",
       "      <td>0.0</td>\n",
       "      <td>-1</td>\n",
       "      <td>1.0</td>\n",
       "      <td>0</td>\n",
       "      <td>24221.955218</td>\n",
       "      <td>493.667</td>\n",
       "      <td>24226.985402</td>\n",
       "      <td>334632.623717</td>\n",
       "      <td>493.667</td>\n",
       "      <td>334632.987858</td>\n",
       "      <td>298256.193725</td>\n",
       "      <td>493.667</td>\n",
       "      <td>298256.602278</td>\n",
       "      <td>657116.575539</td>\n",
       "      <td>81159.39</td>\n",
       "      <td>34164.38</td>\n",
       "      <td>651168.39</td>\n",
       "      <td>657095.368711</td>\n",
       "      <td>5279.229761</td>\n",
       "    </tr>\n",
       "    <tr>\n",
       "      <th>1</th>\n",
       "      <td>0.0</td>\n",
       "      <td>1.0</td>\n",
       "      <td>-2525.98</td>\n",
       "      <td>-5284.05</td>\n",
       "      <td>35822.00</td>\n",
       "      <td>1.0</td>\n",
       "      <td>0.0</td>\n",
       "      <td>1</td>\n",
       "      <td>1.0</td>\n",
       "      <td>0</td>\n",
       "      <td>-43182.91</td>\n",
       "      <td>-96553.03</td>\n",
       "      <td>585289.31</td>\n",
       "      <td>1.0</td>\n",
       "      <td>0.0</td>\n",
       "      <td>-1</td>\n",
       "      <td>1.0</td>\n",
       "      <td>0</td>\n",
       "      <td>-8648.32</td>\n",
       "      <td>-16617.56</td>\n",
       "      <td>98535.13</td>\n",
       "      <td>1.0</td>\n",
       "      <td>0.0</td>\n",
       "      <td>-1</td>\n",
       "      <td>1.0</td>\n",
       "      <td>0</td>\n",
       "      <td>36297.623109</td>\n",
       "      <td>493.667</td>\n",
       "      <td>36300.980021</td>\n",
       "      <td>594769.558500</td>\n",
       "      <td>493.667</td>\n",
       "      <td>594769.763375</td>\n",
       "      <td>100300.092639</td>\n",
       "      <td>493.667</td>\n",
       "      <td>100301.307521</td>\n",
       "      <td>731372.050917</td>\n",
       "      <td>-54357.21</td>\n",
       "      <td>-118454.64</td>\n",
       "      <td>719646.44</td>\n",
       "      <td>731352.997274</td>\n",
       "      <td>5279.227355</td>\n",
       "    </tr>\n",
       "    <tr>\n",
       "      <th>2</th>\n",
       "      <td>0.0</td>\n",
       "      <td>1.0</td>\n",
       "      <td>-700.67</td>\n",
       "      <td>1299.73</td>\n",
       "      <td>8127.76</td>\n",
       "      <td>1.0</td>\n",
       "      <td>0.0</td>\n",
       "      <td>-1</td>\n",
       "      <td>1.0</td>\n",
       "      <td>0</td>\n",
       "      <td>-1411.99</td>\n",
       "      <td>3550.96</td>\n",
       "      <td>16120.27</td>\n",
       "      <td>1.0</td>\n",
       "      <td>0.0</td>\n",
       "      <td>1</td>\n",
       "      <td>1.0</td>\n",
       "      <td>0</td>\n",
       "      <td>-13483.34</td>\n",
       "      <td>10860.77</td>\n",
       "      <td>79787.59</td>\n",
       "      <td>1.0</td>\n",
       "      <td>0.0</td>\n",
       "      <td>1</td>\n",
       "      <td>1.0</td>\n",
       "      <td>0</td>\n",
       "      <td>8260.794099</td>\n",
       "      <td>493.667</td>\n",
       "      <td>8275.531780</td>\n",
       "      <td>16567.019574</td>\n",
       "      <td>493.667</td>\n",
       "      <td>16574.373130</td>\n",
       "      <td>81644.450519</td>\n",
       "      <td>493.667</td>\n",
       "      <td>81645.942996</td>\n",
       "      <td>106495.847906</td>\n",
       "      <td>-15596.00</td>\n",
       "      <td>15711.46</td>\n",
       "      <td>104035.62</td>\n",
       "      <td>106364.916303</td>\n",
       "      <td>5279.223538</td>\n",
       "    </tr>\n",
       "    <tr>\n",
       "      <th>3</th>\n",
       "      <td>0.0</td>\n",
       "      <td>1.0</td>\n",
       "      <td>3364.63</td>\n",
       "      <td>1397.30</td>\n",
       "      <td>222815.29</td>\n",
       "      <td>1.0</td>\n",
       "      <td>0.0</td>\n",
       "      <td>1</td>\n",
       "      <td>1.0</td>\n",
       "      <td>0</td>\n",
       "      <td>2192.42</td>\n",
       "      <td>1369.87</td>\n",
       "      <td>161924.75</td>\n",
       "      <td>1.0</td>\n",
       "      <td>0.0</td>\n",
       "      <td>-1</td>\n",
       "      <td>1.0</td>\n",
       "      <td>0</td>\n",
       "      <td>1925.16</td>\n",
       "      <td>-551.12</td>\n",
       "      <td>40420.96</td>\n",
       "      <td>1.0</td>\n",
       "      <td>0.0</td>\n",
       "      <td>1</td>\n",
       "      <td>1.0</td>\n",
       "      <td>0</td>\n",
       "      <td>222845.073179</td>\n",
       "      <td>493.667</td>\n",
       "      <td>222845.619987</td>\n",
       "      <td>161945.385584</td>\n",
       "      <td>493.667</td>\n",
       "      <td>161946.138018</td>\n",
       "      <td>40470.532262</td>\n",
       "      <td>493.667</td>\n",
       "      <td>40473.543071</td>\n",
       "      <td>425265.301075</td>\n",
       "      <td>7482.21</td>\n",
       "      <td>2216.05</td>\n",
       "      <td>425161.00</td>\n",
       "      <td>425232.607246</td>\n",
       "      <td>5273.142679</td>\n",
       "    </tr>\n",
       "    <tr>\n",
       "      <th>4</th>\n",
       "      <td>0.0</td>\n",
       "      <td>1.0</td>\n",
       "      <td>-581.66</td>\n",
       "      <td>-1305.24</td>\n",
       "      <td>22249.59</td>\n",
       "      <td>1.0</td>\n",
       "      <td>0.0</td>\n",
       "      <td>-1</td>\n",
       "      <td>1.0</td>\n",
       "      <td>0</td>\n",
       "      <td>1153.05</td>\n",
       "      <td>-1998.17</td>\n",
       "      <td>66134.22</td>\n",
       "      <td>1.0</td>\n",
       "      <td>0.0</td>\n",
       "      <td>1</td>\n",
       "      <td>1.0</td>\n",
       "      <td>0</td>\n",
       "      <td>-2820.04</td>\n",
       "      <td>-8305.43</td>\n",
       "      <td>250130.00</td>\n",
       "      <td>1.0</td>\n",
       "      <td>0.0</td>\n",
       "      <td>-1</td>\n",
       "      <td>1.0</td>\n",
       "      <td>0</td>\n",
       "      <td>22295.430810</td>\n",
       "      <td>493.667</td>\n",
       "      <td>22300.895545</td>\n",
       "      <td>66174.445692</td>\n",
       "      <td>493.667</td>\n",
       "      <td>66176.287065</td>\n",
       "      <td>250283.738371</td>\n",
       "      <td>493.667</td>\n",
       "      <td>250284.225232</td>\n",
       "      <td>338761.407842</td>\n",
       "      <td>-2248.65</td>\n",
       "      <td>-11608.84</td>\n",
       "      <td>338513.81</td>\n",
       "      <td>338720.269771</td>\n",
       "      <td>5279.231921</td>\n",
       "    </tr>\n",
       "  </tbody>\n",
       "</table>\n",
       "</div>"
      ],
      "text/plain": [
       "   B_FlightDistance  B_VertexChi2    H1_PX    H1_PY      H1_PZ  H1_ProbK  \\\n",
       "0               0.0           1.0  3551.84  1636.96   23904.14       1.0   \n",
       "1               0.0           1.0 -2525.98 -5284.05   35822.00       1.0   \n",
       "2               0.0           1.0  -700.67  1299.73    8127.76       1.0   \n",
       "3               0.0           1.0  3364.63  1397.30  222815.29       1.0   \n",
       "4               0.0           1.0  -581.66 -1305.24   22249.59       1.0   \n",
       "\n",
       "   H1_ProbPi  H1_Charge  H1_IPChi2  H1_isMuon     H2_PX     H2_PY      H2_PZ  \\\n",
       "0        0.0         -1        1.0          0  41507.15  15980.59  331663.64   \n",
       "1        0.0          1        1.0          0 -43182.91 -96553.03  585289.31   \n",
       "2        0.0         -1        1.0          0  -1411.99   3550.96   16120.27   \n",
       "3        0.0          1        1.0          0   2192.42   1369.87  161924.75   \n",
       "4        0.0         -1        1.0          0   1153.05  -1998.17   66134.22   \n",
       "\n",
       "   H2_ProbK  H2_ProbPi  H2_Charge  H2_IPChi2  H2_isMuon     H3_PX     H3_PY  \\\n",
       "0       1.0        0.0          1        1.0          0  36100.40  16546.83   \n",
       "1       1.0        0.0         -1        1.0          0  -8648.32 -16617.56   \n",
       "2       1.0        0.0          1        1.0          0 -13483.34  10860.77   \n",
       "3       1.0        0.0         -1        1.0          0   1925.16   -551.12   \n",
       "4       1.0        0.0          1        1.0          0  -2820.04  -8305.43   \n",
       "\n",
       "       H3_PZ  H3_ProbK  H3_ProbPi  H3_Charge  H3_IPChi2  H3_isMuon  \\\n",
       "0  295600.61       1.0        0.0         -1        1.0          0   \n",
       "1   98535.13       1.0        0.0         -1        1.0          0   \n",
       "2   79787.59       1.0        0.0          1        1.0          0   \n",
       "3   40420.96       1.0        0.0          1        1.0          0   \n",
       "4  250130.00       1.0        0.0         -1        1.0          0   \n",
       "\n",
       "            H1_P     H1_M           H1_E           H2_P     H2_M  \\\n",
       "0   24221.955218  493.667   24226.985402  334632.623717  493.667   \n",
       "1   36297.623109  493.667   36300.980021  594769.558500  493.667   \n",
       "2    8260.794099  493.667    8275.531780   16567.019574  493.667   \n",
       "3  222845.073179  493.667  222845.619987  161945.385584  493.667   \n",
       "4   22295.430810  493.667   22300.895545   66174.445692  493.667   \n",
       "\n",
       "            H2_E           H3_P     H3_M           H3_E            B_E  \\\n",
       "0  334632.987858  298256.193725  493.667  298256.602278  657116.575539   \n",
       "1  594769.763375  100300.092639  493.667  100301.307521  731372.050917   \n",
       "2   16574.373130   81644.450519  493.667   81645.942996  106495.847906   \n",
       "3  161946.138018   40470.532262  493.667   40473.543071  425265.301075   \n",
       "4   66176.287065  250283.738371  493.667  250284.225232  338761.407842   \n",
       "\n",
       "       B_PX       B_PY       B_PZ            B_P          B_M  \n",
       "0  81159.39   34164.38  651168.39  657095.368711  5279.229761  \n",
       "1 -54357.21 -118454.64  719646.44  731352.997274  5279.227355  \n",
       "2 -15596.00   15711.46  104035.62  106364.916303  5279.223538  \n",
       "3   7482.21    2216.05  425161.00  425232.607246  5273.142679  \n",
       "4  -2248.65  -11608.84  338513.81  338720.269771  5279.231921  "
      ]
     },
     "execution_count": 14,
     "metadata": {},
     "output_type": "execute_result"
    }
   ],
   "source": [
    "# calculate the B meson invariant mass\n",
    "# plot the B meson invariant mass in a histogram\n",
    "sim_data.eval('B_M = sqrt((B_E - B_P)*(B_E + B_P))')\n",
    "sim_data.head(5)"
   ]
  },
  {
   "cell_type": "code",
   "execution_count": 15,
   "metadata": {
    "collapsed": false,
    "run_control": {
     "frozen": false,
     "read_only": false
    },
    "scrolled": true
   },
   "outputs": [
    {
     "data": {
      "text/plain": [
       "<matplotlib.text.Text at 0x7fa036983e10>"
      ]
     },
     "execution_count": 15,
     "metadata": {},
     "output_type": "execute_result"
    },
    {
     "data": {
      "image/png": "[encoded data removed]",
      "text/plain": [
       "<matplotlib.figure.Figure at 0x7fa03697fd90>"
      ]
     },
     "metadata": {},
     "output_type": "display_data"
    }
   ],
   "source": [
    "H_sim_data_B_M = sim_data.B_M.hist(bins=100, range=[5279,5280])\n",
    "xlabel('Simulation B_M')\n",
    "ylabel('Number')"
   ]
  },
  {
   "cell_type": "markdown",
   "metadata": {},
   "source": [
    "You should have a graph that sharply peaks at the mass of the B<sup>+</sup> meson. The mass of the B<sup>+</sup> and B<sup>-</sup> meson are the same. Check that the peak of your graph is at the [known mass](http://pdg.lbl.gov/2014/listings/rpp2014-list-B-plus-minus.pdf) of the B meson. **Congratulations!**\n",
    "\n",
    "Recall that you have made this plot for simulated data. How might you expect the plots for real data to look different ? In the next section you will start to work with the real LHC data."
   ]
  },
  {
   "cell_type": "markdown",
   "metadata": {
    "heading_collapsed": true
   },
   "source": [
    "### Hint"
   ]
  },
  {
   "cell_type": "markdown",
   "metadata": {
    "hidden": true
   },
   "source": [
    "**Histogram plotting** - Take care that the range of your plot is set suitably that you can see the mass peak. Once you have found the peak you can set the range appropriately. You do not have to start your graph at a mass of 0.\n",
    "\n",
    "**Units** - The data you are provided has energies in 'MeV' (10<sup>6</sup> electron volts). The mass of the B meson is often quoted in 'GeV/c<sup>2</sup>' (10<sup>9</sup> electron volts)."
   ]
  },
  {
   "cell_type": "markdown",
   "metadata": {},
   "source": [
    "# Working with real data and applying cuts\n",
    "## Aims:\n",
    "* Filter out data that is not from the B<sup>+</sup> → K<sup>+</sup>K<sup>+</sup>K<sup>−</sup> channel, or the antiparticle equivalent B<sup>-</sup> → K<sup>+</sup>K<sup>-</sup>K<sup>−</sup>\n",
    "\n",
    "* Plot a histogram of B-meson mass for the real data and observe how different cuts affect the data"
   ]
  },
  {
   "cell_type": "markdown",
   "metadata": {},
   "source": [
    "In the section above you have analysed the simulation data to determine the invariant mass of the B meson. Now, you can start applying the methods you have used to the real LHCb data. This data was collected by the LHCb detector at CERN during 2011, the first major year of LHC operations.\n",
    "\n",
    "The data you are given has been filtered to select only events that are likely to have come from B<sup>+</sup> or B<sup>-</sup> mesons decaying into three final state charged particles. You are interested in the case where these three final state paticles are charged kaons K<sup>+</sup> or K<sup>-</sup>.\n",
    "\n",
    "An introduction has been provided on the [detector and data sample](Background-Information-Notebooks/DetectorSoftwareDataSample.ipynb). As background information we also provide further information on the [selection](Background-Information-Notebooks/DataSelection.ipynb) that has been applied to select this data sample.\n",
    "\n",
    "## Preselection\n",
    "You want to apply a preselection to the three final state tracks that\n",
    "* Ensures that they are not muons (i.e. `!H1_isMuon` where `!` means `not`, and similarly for `H2` and `H3`)\n",
    "* Requires that they each have a low probability of being pions (e.g. `H1_ProbPi < 0.5`)\n",
    "* Requires that they each have a high probability of being a kaon (e.g. `H1_ProbK > 0.5`)\n",
    "\n",
    "You need to find a balance between making cuts that are too loose and include too many background events and too tight and reject many of your signal events.\n",
    "\n",
    "In order to now find the most suitable further selection cuts, make yourself familiar with [how cuts can affect the significance of the final result](Background-Information-Notebooks/CutsInformation.ipynb). Feel free to come back to this stage later and adjust your cuts to see the impact. \n",
    "\n",
    "The pre selection you create will be applied for you if give it the name 'preselection'.\n",
    "\n",
    "We have provided an example preselection in the hints, so feel free to use that to get started if you wish. start with a loose preselection and then refine it after you have studied the plots.\n",
    "\n"
   ]
  },
  {
   "cell_type": "code",
   "execution_count": 16,
   "metadata": {
    "collapsed": false,
    "run_control": {
     "frozen": false,
     "read_only": false
    }
   },
   "outputs": [],
   "source": [
    "# Make your preselection here\n",
    "# No preselection\n",
    "# preselection = \"\"\n",
    "# Default preselection\n",
    "preselection = \"H1_ProbPi < 0.5 & H2_ProbPi < 0.5 & H3_ProbPi < 0.5 & H1_ProbK > 0.5 & H2_ProbK > 0.5 & H3_ProbK > 0.5 & !H1_isMuon & !H2_isMuon & !H3_isMuon\""
   ]
  },
  {
   "cell_type": "markdown",
   "metadata": {},
   "source": [
    "This next line of code just loads the real data into a new DataFrame, this may take a few minutes.\n",
    "It also applies the preselection that you have created if you called it preselection."
   ]
  },
  {
   "cell_type": "code",
   "execution_count": 17,
   "metadata": {
    "collapsed": false
   },
   "outputs": [],
   "source": [
    "PrSel_real_data = read_root(['./B2HHH_MagnetDown.root', './B2HHH_MagnetUp.root'], where=preselection)"
   ]
  },
  {
   "cell_type": "markdown",
   "metadata": {},
   "source": [
    "Make histograms of the probability of a final state particle being a kaon or a pion.\n",
    "These will help guide you on suitable probability values at which to cut.\n",
    "\n",
    "You can also consider more sophisticated options like 2-D plots of kaon and pion probabilities or different values of the cuts for the different final state particles."
   ]
  },
  {
   "cell_type": "code",
   "execution_count": 18,
   "metadata": {
    "collapsed": false,
    "run_control": {
     "frozen": false,
     "read_only": false
    }
   },
   "outputs": [
    {
     "data": {
      "text/plain": [
       "<matplotlib.text.Text at 0x7fa0364c1850>"
      ]
     },
     "execution_count": 18,
     "metadata": {},
     "output_type": "execute_result"
    },
    {
     "data": {
      "image/png": "[encoded data removed]",
      "text/plain": [
       "<matplotlib.figure.Figure at 0x7fa0364f32d0>"
      ]
     },
     "metadata": {},
     "output_type": "display_data"
    }
   ],
   "source": [
    "# plot the probability that a final state particle is a kaon\n",
    "H_PrSel_real_data_H1_ProbK = PrSel_real_data.H1_ProbK.hist(bins=100, range=[0,1])\n",
    "xlabel('H1_ProbK')\n",
    "xlabel('H1_ProbK')\n",
    "ylabel('Number')"
   ]
  },
  {
   "cell_type": "code",
   "execution_count": 19,
   "metadata": {
    "collapsed": false
   },
   "outputs": [
    {
     "data": {
      "text/plain": [
       "<matplotlib.text.Text at 0x7fa036438510>"
      ]
     },
     "execution_count": 19,
     "metadata": {},
     "output_type": "execute_result"
    },
    {
     "data": {
      "image/png": "[encoded data removed]",
      "text/plain": [
       "<matplotlib.figure.Figure at 0x7fa036968f50>"
      ]
     },
     "metadata": {},
     "output_type": "display_data"
    }
   ],
   "source": [
    "# plot the probability that a final state particle is a pion\n",
    "# plot the probability that a final state particle is a kaon\n",
    "H_PrSel_real_data_H1_ProbPi = PrSel_real_data.H1_ProbPi.hist(bins=100, range=[0,1])\n",
    "xlabel('H1_ProbPi')\n",
    "ylabel('Number')"
   ]
  },
  {
   "cell_type": "markdown",
   "metadata": {},
   "source": [
    "Now calculate the invariant mass of the B meson for the real data and plot a histogram of this. \n",
    "Compare it with the one you drew for the simulation data. \n",
    "\n",
    "Can you explain the differences you observe?"
   ]
  },
  {
   "cell_type": "code",
   "execution_count": 20,
   "metadata": {
    "collapsed": false,
    "run_control": {
     "frozen": false,
     "read_only": false
    }
   },
   "outputs": [
    {
     "data": {
      "text/plain": [
       "<matplotlib.text.Text at 0x7fa03639f890>"
      ]
     },
     "execution_count": 20,
     "metadata": {},
     "output_type": "execute_result"
    },
    {
     "data": {
      "image/png": "[encoded data removed]",
      "text/plain": [
       "<matplotlib.figure.Figure at 0x7fa036375210>"
      ]
     },
     "metadata": {},
     "output_type": "display_data"
    }
   ],
   "source": [
    "# draw a histogram for the B meson mass in the real data\n",
    "PrSel_real_data.eval('H1_P = sqrt(H1_PX**2 + H1_PY**2 + H1_PZ**2)')\n",
    "PrSel_real_data['H1_M'] = mass_Kp\n",
    "PrSel_real_data.eval('H1_E = sqrt(H1_P**2 + H1_M**2)')\n",
    "PrSel_real_data.eval('H2_P = sqrt(H2_PX**2 + H2_PY**2 + H2_PZ**2)')\n",
    "PrSel_real_data['H2_M'] = mass_Kp\n",
    "PrSel_real_data.eval('H2_E = sqrt(H2_P**2 + H2_M**2)')\n",
    "PrSel_real_data.eval('H3_P = sqrt(H3_PX**2 + H3_PY**2 + H3_PZ**2)')\n",
    "PrSel_real_data['H3_M'] = mass_Kp\n",
    "PrSel_real_data.eval('H3_E = sqrt(H3_P**2 + H3_M**2)')\n",
    "PrSel_real_data.eval('B_E = H1_E + H2_E + H3_E')\n",
    "PrSel_real_data.eval('B_PX = H1_PX + H2_PX + H3_PX')\n",
    "PrSel_real_data.eval('B_PY = H1_PY + H2_PY + H3_PY')\n",
    "PrSel_real_data.eval('B_PZ = H1_PZ + H2_PZ + H3_PZ')\n",
    "PrSel_real_data.eval('B_P = sqrt(B_PX**2 + B_PY**2 + B_PZ**2)')\n",
    "PrSel_real_data.eval('B_M = sqrt((B_E - B_P)*(B_E + B_P))')\n",
    "#PrSel_real_data.head(5)\n",
    "H_PrSel_real_data_B_M = PrSel_real_data.B_M.hist(bins=100, range=[5200,5400])\n",
    "xlabel('B_M')\n",
    "ylabel('Number')"
   ]
  },
  {
   "cell_type": "markdown",
   "metadata": {},
   "source": [
    "Experiment with the cuts and see the impact of harsher or more lenient cuts on the invariant mass plot.\n",
    "You should select a set of cuts which makes the signal most prominent with respect to the background.\n",
    "Once you have finalised the selection on particle identification also make cuts on the reconstructed particle mass to select the events in the B meson mass peak, removing the background events which lie at lower and higher invariant masses. "
   ]
  },
  {
   "cell_type": "markdown",
   "metadata": {},
   "source": [
    "### Preselection example hint"
   ]
  },
  {
   "cell_type": "markdown",
   "metadata": {},
   "source": [
    "This is an example string, showing the syntax, that you could use as a preselection starting point:"
   ]
  },
  {
   "cell_type": "code",
   "execution_count": 21,
   "metadata": {
    "collapsed": true
   },
   "outputs": [],
   "source": [
    "preselection = \"H1_ProbPi < 0.5 & H2_ProbPi < 0.5 & H3_ProbPi < 0.5 & H1_ProbK > 0.5 & H2_ProbK > 0.5 & H3_ProbK > 0.5 & !H1_isMuon & !H2_isMuon & !H3_isMuon\""
   ]
  },
  {
   "cell_type": "code",
   "execution_count": 22,
   "metadata": {
    "collapsed": false
   },
   "outputs": [
    {
     "data": {
      "text/plain": [
       "<matplotlib.text.Text at 0x7fa0362a9ed0>"
      ]
     },
     "execution_count": 22,
     "metadata": {},
     "output_type": "execute_result"
    },
    {
     "data": {
      "image/png": "[encoded data removed]",
      "text/plain": [
       "<matplotlib.figure.Figure at 0x7fa0369bb250>"
      ]
     },
     "metadata": {},
     "output_type": "display_data"
    }
   ],
   "source": [
    "# Apply B Mass Selection here\n",
    "BSel_real_data = PrSel_real_data.query(\"B_M > 5250 & B_M < 5320\")\n",
    "H_BSel_real_data_B_M = BSel_real_data.B_M.hist(bins=100, range=[5200,5400])\n",
    "xlabel('B_M')\n",
    "ylabel('Number')"
   ]
  },
  {
   "cell_type": "markdown",
   "metadata": {},
   "source": [
    "# Searching for global matter anti-matter differences\n",
    "\n",
    "In this section you will start to study matter antimatter differences (CP Violation). Here 'global' means that you are looking for differences across all ranges of energy and momentum (the kinematics) of the kaons into which the charge B mesons have decayed. Later we look at 'local' differences in different regions of the kinematics. \n",
    "\n",
    "## Aims:\n",
    "* Calculate the global CP asymmetry \n",
    "* Work out the statistical uncertainty\n",
    "* Determine if there is evidence for CP violation in this decay"
   ]
  },
  {
   "cell_type": "markdown",
   "metadata": {
    "collapsed": true
   },
   "source": [
    "In order to quantify the matter antimatter asymmetry in this process we wish to compare the B<sup>+</sup> and the B<sup>-</sup> particles. The B<sup>-</sup> is the anti-particle of the B<sup>+</sup>.\n",
    "\n",
    "How can you distinguish between events that contain B<sup>+</sup> and B<sup>-</sup> particles using `H1_Charge`, `H2_Charge` and `H3_Charge`?"
   ]
  },
  {
   "cell_type": "code",
   "execution_count": 23,
   "metadata": {
    "collapsed": false,
    "run_control": {
     "frozen": false,
     "read_only": false
    }
   },
   "outputs": [
    {
     "data": {
      "text/html": [
       "<div>\n",
       "<table border=\"1\" class=\"dataframe\">\n",
       "  <thead>\n",
       "    <tr style=\"text-align: right;\">\n",
       "      <th></th>\n",
       "      <th>B_FlightDistance</th>\n",
       "      <th>B_VertexChi2</th>\n",
       "      <th>H1_PX</th>\n",
       "      <th>H1_PY</th>\n",
       "      <th>H1_PZ</th>\n",
       "      <th>H1_ProbK</th>\n",
       "      <th>H1_ProbPi</th>\n",
       "      <th>H1_Charge</th>\n",
       "      <th>H1_IPChi2</th>\n",
       "      <th>H1_isMuon</th>\n",
       "      <th>H2_PX</th>\n",
       "      <th>H2_PY</th>\n",
       "      <th>H2_PZ</th>\n",
       "      <th>H2_ProbK</th>\n",
       "      <th>H2_ProbPi</th>\n",
       "      <th>H2_Charge</th>\n",
       "      <th>H2_IPChi2</th>\n",
       "      <th>H2_isMuon</th>\n",
       "      <th>H3_PX</th>\n",
       "      <th>H3_PY</th>\n",
       "      <th>H3_PZ</th>\n",
       "      <th>H3_ProbK</th>\n",
       "      <th>H3_ProbPi</th>\n",
       "      <th>H3_Charge</th>\n",
       "      <th>H3_IPChi2</th>\n",
       "      <th>H3_isMuon</th>\n",
       "      <th>H1_P</th>\n",
       "      <th>H1_M</th>\n",
       "      <th>H1_E</th>\n",
       "      <th>H2_P</th>\n",
       "      <th>H2_M</th>\n",
       "      <th>H2_E</th>\n",
       "      <th>H3_P</th>\n",
       "      <th>H3_M</th>\n",
       "      <th>H3_E</th>\n",
       "      <th>B_E</th>\n",
       "      <th>B_PX</th>\n",
       "      <th>B_PY</th>\n",
       "      <th>B_PZ</th>\n",
       "      <th>B_P</th>\n",
       "      <th>B_M</th>\n",
       "      <th>B_Charge</th>\n",
       "    </tr>\n",
       "  </thead>\n",
       "  <tbody>\n",
       "    <tr>\n",
       "      <th>0</th>\n",
       "      <td>6.888037</td>\n",
       "      <td>8.426947</td>\n",
       "      <td>1207.753798</td>\n",
       "      <td>-84.290958</td>\n",
       "      <td>10399.473702</td>\n",
       "      <td>0.902219</td>\n",
       "      <td>0.041574</td>\n",
       "      <td>-1</td>\n",
       "      <td>998.424410</td>\n",
       "      <td>0</td>\n",
       "      <td>-1264.774019</td>\n",
       "      <td>450.600912</td>\n",
       "      <td>48810.547252</td>\n",
       "      <td>0.718900</td>\n",
       "      <td>0.132056</td>\n",
       "      <td>1</td>\n",
       "      <td>110.519068</td>\n",
       "      <td>0</td>\n",
       "      <td>1973.085892</td>\n",
       "      <td>-289.150032</td>\n",
       "      <td>26771.341608</td>\n",
       "      <td>0.915843</td>\n",
       "      <td>0.057261</td>\n",
       "      <td>1</td>\n",
       "      <td>386.493713</td>\n",
       "      <td>0</td>\n",
       "      <td>10469.71</td>\n",
       "      <td>493.667</td>\n",
       "      <td>10481.342213</td>\n",
       "      <td>48829.01</td>\n",
       "      <td>493.667</td>\n",
       "      <td>48831.505452</td>\n",
       "      <td>26845.51</td>\n",
       "      <td>493.667</td>\n",
       "      <td>26850.048683</td>\n",
       "      <td>86162.896348</td>\n",
       "      <td>1916.065670</td>\n",
       "      <td>77.159922</td>\n",
       "      <td>85981.362562</td>\n",
       "      <td>86002.743964</td>\n",
       "      <td>5250.974924</td>\n",
       "      <td>1</td>\n",
       "    </tr>\n",
       "    <tr>\n",
       "      <th>2</th>\n",
       "      <td>9.100733</td>\n",
       "      <td>4.113123</td>\n",
       "      <td>-2007.925735</td>\n",
       "      <td>-2555.080382</td>\n",
       "      <td>26601.465958</td>\n",
       "      <td>0.917661</td>\n",
       "      <td>0.077237</td>\n",
       "      <td>-1</td>\n",
       "      <td>1355.611615</td>\n",
       "      <td>0</td>\n",
       "      <td>1693.244621</td>\n",
       "      <td>-2163.746216</td>\n",
       "      <td>14881.492330</td>\n",
       "      <td>0.641197</td>\n",
       "      <td>0.027784</td>\n",
       "      <td>1</td>\n",
       "      <td>8500.518262</td>\n",
       "      <td>0</td>\n",
       "      <td>-1260.859080</td>\n",
       "      <td>-2824.663002</td>\n",
       "      <td>22365.178510</td>\n",
       "      <td>0.947676</td>\n",
       "      <td>0.097263</td>\n",
       "      <td>1</td>\n",
       "      <td>352.235461</td>\n",
       "      <td>0</td>\n",
       "      <td>26799.22</td>\n",
       "      <td>493.667</td>\n",
       "      <td>26803.766521</td>\n",
       "      <td>15133.00</td>\n",
       "      <td>493.667</td>\n",
       "      <td>15141.050033</td>\n",
       "      <td>22578.08</td>\n",
       "      <td>493.667</td>\n",
       "      <td>22583.476340</td>\n",
       "      <td>64528.292894</td>\n",
       "      <td>-1575.540194</td>\n",
       "      <td>-7543.489600</td>\n",
       "      <td>63848.136798</td>\n",
       "      <td>64311.516346</td>\n",
       "      <td>5284.831978</td>\n",
       "      <td>1</td>\n",
       "    </tr>\n",
       "    <tr>\n",
       "      <th>3</th>\n",
       "      <td>11.077374</td>\n",
       "      <td>2.360357</td>\n",
       "      <td>1408.170513</td>\n",
       "      <td>-1372.864558</td>\n",
       "      <td>66357.093308</td>\n",
       "      <td>0.785618</td>\n",
       "      <td>0.119467</td>\n",
       "      <td>-1</td>\n",
       "      <td>2.799029</td>\n",
       "      <td>0</td>\n",
       "      <td>-1656.007195</td>\n",
       "      <td>-443.878471</td>\n",
       "      <td>49308.763064</td>\n",
       "      <td>0.741373</td>\n",
       "      <td>0.236373</td>\n",
       "      <td>1</td>\n",
       "      <td>564.019813</td>\n",
       "      <td>0</td>\n",
       "      <td>2171.855775</td>\n",
       "      <td>-1964.419835</td>\n",
       "      <td>92096.742555</td>\n",
       "      <td>0.560237</td>\n",
       "      <td>0.070540</td>\n",
       "      <td>1</td>\n",
       "      <td>44.498271</td>\n",
       "      <td>0</td>\n",
       "      <td>66386.23</td>\n",
       "      <td>493.667</td>\n",
       "      <td>66388.065499</td>\n",
       "      <td>49338.56</td>\n",
       "      <td>493.667</td>\n",
       "      <td>49341.029681</td>\n",
       "      <td>92143.29</td>\n",
       "      <td>493.667</td>\n",
       "      <td>92144.612426</td>\n",
       "      <td>207873.707606</td>\n",
       "      <td>1924.019093</td>\n",
       "      <td>-3781.162864</td>\n",
       "      <td>207762.598928</td>\n",
       "      <td>207805.910780</td>\n",
       "      <td>5308.649418</td>\n",
       "      <td>1</td>\n",
       "    </tr>\n",
       "    <tr>\n",
       "      <th>5</th>\n",
       "      <td>11.554098</td>\n",
       "      <td>1.120899</td>\n",
       "      <td>-77.919930</td>\n",
       "      <td>598.047768</td>\n",
       "      <td>18486.604881</td>\n",
       "      <td>0.937157</td>\n",
       "      <td>0.227115</td>\n",
       "      <td>1</td>\n",
       "      <td>89.128636</td>\n",
       "      <td>0</td>\n",
       "      <td>562.190905</td>\n",
       "      <td>-735.925373</td>\n",
       "      <td>9081.894827</td>\n",
       "      <td>0.571785</td>\n",
       "      <td>0.117188</td>\n",
       "      <td>-1</td>\n",
       "      <td>2387.913090</td>\n",
       "      <td>0</td>\n",
       "      <td>-3786.001956</td>\n",
       "      <td>-3050.190096</td>\n",
       "      <td>49924.677288</td>\n",
       "      <td>0.940656</td>\n",
       "      <td>0.096659</td>\n",
       "      <td>-1</td>\n",
       "      <td>827.264326</td>\n",
       "      <td>0</td>\n",
       "      <td>18496.44</td>\n",
       "      <td>493.667</td>\n",
       "      <td>18503.026773</td>\n",
       "      <td>9128.99</td>\n",
       "      <td>493.667</td>\n",
       "      <td>9142.328233</td>\n",
       "      <td>50160.85</td>\n",
       "      <td>493.667</td>\n",
       "      <td>50163.279197</td>\n",
       "      <td>77808.634204</td>\n",
       "      <td>-3301.730982</td>\n",
       "      <td>-3188.067700</td>\n",
       "      <td>77493.176996</td>\n",
       "      <td>77628.974514</td>\n",
       "      <td>5284.493605</td>\n",
       "      <td>-1</td>\n",
       "    </tr>\n",
       "    <tr>\n",
       "      <th>6</th>\n",
       "      <td>8.296893</td>\n",
       "      <td>7.380471</td>\n",
       "      <td>970.351808</td>\n",
       "      <td>-490.045926</td>\n",
       "      <td>27929.242265</td>\n",
       "      <td>0.966135</td>\n",
       "      <td>0.095613</td>\n",
       "      <td>1</td>\n",
       "      <td>135.543971</td>\n",
       "      <td>0</td>\n",
       "      <td>-2001.668003</td>\n",
       "      <td>293.438719</td>\n",
       "      <td>42809.083942</td>\n",
       "      <td>0.944257</td>\n",
       "      <td>0.095049</td>\n",
       "      <td>-1</td>\n",
       "      <td>944.174083</td>\n",
       "      <td>0</td>\n",
       "      <td>1618.033440</td>\n",
       "      <td>-1593.587768</td>\n",
       "      <td>45253.841121</td>\n",
       "      <td>0.959964</td>\n",
       "      <td>0.098093</td>\n",
       "      <td>-1</td>\n",
       "      <td>260.910241</td>\n",
       "      <td>0</td>\n",
       "      <td>27950.39</td>\n",
       "      <td>493.667</td>\n",
       "      <td>27954.749297</td>\n",
       "      <td>42856.86</td>\n",
       "      <td>493.667</td>\n",
       "      <td>42859.703174</td>\n",
       "      <td>45310.79</td>\n",
       "      <td>493.667</td>\n",
       "      <td>45313.479204</td>\n",
       "      <td>116127.931675</td>\n",
       "      <td>586.717246</td>\n",
       "      <td>-1790.194975</td>\n",
       "      <td>115992.167329</td>\n",
       "      <td>116007.464919</td>\n",
       "      <td>5288.156407</td>\n",
       "      <td>-1</td>\n",
       "    </tr>\n",
       "  </tbody>\n",
       "</table>\n",
       "</div>"
      ],
      "text/plain": [
       "   B_FlightDistance  B_VertexChi2        H1_PX        H1_PY         H1_PZ  \\\n",
       "0          6.888037      8.426947  1207.753798   -84.290958  10399.473702   \n",
       "2          9.100733      4.113123 -2007.925735 -2555.080382  26601.465958   \n",
       "3         11.077374      2.360357  1408.170513 -1372.864558  66357.093308   \n",
       "5         11.554098      1.120899   -77.919930   598.047768  18486.604881   \n",
       "6          8.296893      7.380471   970.351808  -490.045926  27929.242265   \n",
       "\n",
       "   H1_ProbK  H1_ProbPi  H1_Charge    H1_IPChi2  H1_isMuon        H2_PX  \\\n",
       "0  0.902219   0.041574         -1   998.424410          0 -1264.774019   \n",
       "2  0.917661   0.077237         -1  1355.611615          0  1693.244621   \n",
       "3  0.785618   0.119467         -1     2.799029          0 -1656.007195   \n",
       "5  0.937157   0.227115          1    89.128636          0   562.190905   \n",
       "6  0.966135   0.095613          1   135.543971          0 -2001.668003   \n",
       "\n",
       "         H2_PY         H2_PZ  H2_ProbK  H2_ProbPi  H2_Charge    H2_IPChi2  \\\n",
       "0   450.600912  48810.547252  0.718900   0.132056          1   110.519068   \n",
       "2 -2163.746216  14881.492330  0.641197   0.027784          1  8500.518262   \n",
       "3  -443.878471  49308.763064  0.741373   0.236373          1   564.019813   \n",
       "5  -735.925373   9081.894827  0.571785   0.117188         -1  2387.913090   \n",
       "6   293.438719  42809.083942  0.944257   0.095049         -1   944.174083   \n",
       "\n",
       "   H2_isMuon        H3_PX        H3_PY         H3_PZ  H3_ProbK  H3_ProbPi  \\\n",
       "0          0  1973.085892  -289.150032  26771.341608  0.915843   0.057261   \n",
       "2          0 -1260.859080 -2824.663002  22365.178510  0.947676   0.097263   \n",
       "3          0  2171.855775 -1964.419835  92096.742555  0.560237   0.070540   \n",
       "5          0 -3786.001956 -3050.190096  49924.677288  0.940656   0.096659   \n",
       "6          0  1618.033440 -1593.587768  45253.841121  0.959964   0.098093   \n",
       "\n",
       "   H3_Charge   H3_IPChi2  H3_isMuon      H1_P     H1_M          H1_E  \\\n",
       "0          1  386.493713          0  10469.71  493.667  10481.342213   \n",
       "2          1  352.235461          0  26799.22  493.667  26803.766521   \n",
       "3          1   44.498271          0  66386.23  493.667  66388.065499   \n",
       "5         -1  827.264326          0  18496.44  493.667  18503.026773   \n",
       "6         -1  260.910241          0  27950.39  493.667  27954.749297   \n",
       "\n",
       "       H2_P     H2_M          H2_E      H3_P     H3_M          H3_E  \\\n",
       "0  48829.01  493.667  48831.505452  26845.51  493.667  26850.048683   \n",
       "2  15133.00  493.667  15141.050033  22578.08  493.667  22583.476340   \n",
       "3  49338.56  493.667  49341.029681  92143.29  493.667  92144.612426   \n",
       "5   9128.99  493.667   9142.328233  50160.85  493.667  50163.279197   \n",
       "6  42856.86  493.667  42859.703174  45310.79  493.667  45313.479204   \n",
       "\n",
       "             B_E         B_PX         B_PY           B_PZ            B_P  \\\n",
       "0   86162.896348  1916.065670    77.159922   85981.362562   86002.743964   \n",
       "2   64528.292894 -1575.540194 -7543.489600   63848.136798   64311.516346   \n",
       "3  207873.707606  1924.019093 -3781.162864  207762.598928  207805.910780   \n",
       "5   77808.634204 -3301.730982 -3188.067700   77493.176996   77628.974514   \n",
       "6  116127.931675   586.717246 -1790.194975  115992.167329  116007.464919   \n",
       "\n",
       "           B_M  B_Charge  \n",
       "0  5250.974924         1  \n",
       "2  5284.831978         1  \n",
       "3  5308.649418         1  \n",
       "5  5284.493605        -1  \n",
       "6  5288.156407        -1  "
      ]
     },
     "execution_count": 23,
     "metadata": {},
     "output_type": "execute_result"
    }
   ],
   "source": [
    "# make a variable for the charge of the B mesons\n",
    "BSel_real_data.eval('B_Charge = H1_Charge + H2_Charge + H3_Charge')\n",
    "BSel_real_data.head(5)"
   ]
  },
  {
   "cell_type": "markdown",
   "metadata": {},
   "source": [
    "Now count the numbers of events of each of the two types (N<sup>+</sup> and N<sup>-</sup>). Also calculate the difference between these two numbers."
   ]
  },
  {
   "cell_type": "code",
   "execution_count": 24,
   "metadata": {
    "collapsed": false,
    "run_control": {
     "frozen": false,
     "read_only": false
    }
   },
   "outputs": [
    {
     "name": "stdout",
     "output_type": "stream",
     "text": [
      "Number B^+  7870\n",
      "Number B^-  7172\n"
     ]
    }
   ],
   "source": [
    "# make variables for the numbers of positive and negative B mesons\n",
    "NBplus = len(BSel_real_data.query(\"(B_Charge == 1)\"))\n",
    "NBminus = len(BSel_real_data.query(\"(B_Charge == -1)\"))\n",
    "print('Number B^+ ',NBplus)\n",
    "print('Number B^- ',NBminus)"
   ]
  },
  {
   "cell_type": "markdown",
   "metadata": {},
   "source": [
    "In order to calculate the Asymmetry, you can make use of the formula:\n",
    "(note you may need to run this box in order to see the image)\n",
    "<img src=\"Images/AsymmetryEq.png\" width=\"200\" />"
   ]
  },
  {
   "cell_type": "code",
   "execution_count": 25,
   "metadata": {
    "collapsed": false,
    "run_control": {
     "frozen": false,
     "read_only": false
    }
   },
   "outputs": [
    {
     "name": "stdout",
     "output_type": "stream",
     "text": [
      "A =  0.0464034038027\n"
     ]
    }
   ],
   "source": [
    "# calculate the value of the asymmetry, by using the formula above, and then print it\n",
    "A_value = (NBplus - NBminus)/(NBplus + NBminus)\n",
    "print('A = ',A_value)"
   ]
  },
  {
   "cell_type": "markdown",
   "metadata": {
    "heading_collapsed": true
   },
   "source": [
    "### Hint"
   ]
  },
  {
   "cell_type": "markdown",
   "metadata": {
    "hidden": true
   },
   "source": [
    "**Differentiating between N+ and N-**\n",
    "\n",
    " - Charge is a conserved quantity. The charge of the $B$ meson is equal to the sum of the charges of the particles into which it decays.\n",
    " - You can use ` len(real_data.query('B_Charge == charge'))` to count the number of mesons, where `B_Charge` is the variable you created and `charge` is `1` or `-1`.\n",
    " - You can find an example of this at the end of the example notebook."
   ]
  },
  {
   "cell_type": "markdown",
   "metadata": {},
   "source": [
    "### Estimating the significance of the deviation\n",
    "\n",
    "You will now need to calculate the statistical uncertainty of the asymmetry. You can do so using the formula: <img src=\"Images/AsymmetryErrorEq.png\" width=\"200\" />\n",
    "\n",
    "The significance of the result, sigma, is found by dividing the value for asymmetry by its uncertainty. A value exceeding three sigma is considered \"evidence\" by particle physicists while a value of five sigma or more can be called an \"observation\" or \"discovery\"."
   ]
  },
  {
   "cell_type": "code",
   "execution_count": 26,
   "metadata": {
    "collapsed": false,
    "run_control": {
     "frozen": false,
     "read_only": false
    }
   },
   "outputs": [
    {
     "name": "stdout",
     "output_type": "stream",
     "text": [
      "A_uncertainty =  0.0081447756448\n"
     ]
    }
   ],
   "source": [
    "# calculate the statistical uncertainty of your result and print it\n",
    "A_uncertainty = sqrt((1-(A_value**2))/(NBplus+NBminus))\n",
    "print('A_uncertainty = ',A_uncertainty)"
   ]
  },
  {
   "cell_type": "code",
   "execution_count": 27,
   "metadata": {
    "collapsed": false
   },
   "outputs": [
    {
     "name": "stdout",
     "output_type": "stream",
     "text": [
      "A_sigma =  5.69732130464\n"
     ]
    }
   ],
   "source": [
    "# calculate the statistical significance of your result and print it\n",
    "A_sigma = A_value / A_uncertainty\n",
    "print('A_sigma = ',A_sigma)"
   ]
  },
  {
   "cell_type": "markdown",
   "metadata": {},
   "source": [
    "**Congratulations!** You have performed your first search for a matter anti-matter difference.\n",
    "\n",
    "Here you have only considered the statistical uncertainty. Your measurement will also have other sources of uncertainty known as systematic uncertainties which you have not considered at this stage.\n"
   ]
  },
  {
   "cell_type": "markdown",
   "metadata": {},
   "source": [
    "# Dalitz plots and two body resonances\n",
    "## Aims:\n",
    "* Produce Dalitz plots of the simulation and real data sample\n",
    "* Create ordered and binned dalitz plots.\n",
    "* Identify two body resonances in the Dalitz plots"
   ]
  },
  {
   "cell_type": "markdown",
   "metadata": {},
   "source": [
    "In this stage we introduce you to an important technique for analysing decays of one particle (your charged B meson) into three bodies (the three kaons). This is known as a Dalitz plot. \n",
    "\n",
    "The decay of the B meson can proceed either directly to the three-body final state or via an intermediate particle. For example, B<sup>+</sup> → K<sup>+</sup>K<sup>+</sup>K<sup>−</sup>, could proceed through the decay  B<sup>+</sup> → K<sup>+</sup>R<sup>0</sup>, where R<sup>0</sup> is a neutral particle resonance which can decay R<sup>0</sup> → K<sup>+</sup>K<sup>-</sup>. Dalitz plots can be used to identify these resonances which are visible as bands on the Dalitz plot.\n",
    "\n",
    "More information about these plots and why these are used in particle physics research can be found in [Dalitz Plot Introduction](Background-Information-Notebooks/DalitzPlots.ipynb).\n",
    "\n",
    "The kinematics of a three-body decay can be fully described using only two variables. The energies and momenta of the three kaons are not independent of each other as they all come from the decay of a B meson and energy and momentum are conserved. The axes of the plots conventionally are the squared invariant masses of two pairs of the decay products. It is a 2D plot, the x and y axes are both squared masses and the density of points in the plot shows the structure.\n",
    "\n",
    "Consider our decay B<sup>+</sup> → K<sup>+</sup><sub>1</sub>K<sup>+</sup><sub>2</sub>K<sup>−</sup><sub>3</sub>, where we have numbered the kaons 1,2,3 to distinguish them. We can calculate the invariant mass of three possible combinations that could correspond to intermediate resonances R<sup>++</sup><sub>1</sub> → K<sup>+</sup><sub>1</sub>K<sup>+</sup><sub>2</sub>, R<sup>0</sup><sub>2</sub> → K<sup>+</sup><sub>1</sub>K<sup>-</sup><sub>3</sub>, and R<sup>0</sup><sub>3</sub> → K<sup>+</sup><sub>3</sub>K<sup>-</sup><sub>3</sub>. \n",
    "\n",
    "The potential R<sup>++</sup><sub>1</sub> would be a doubly charged resonance. We would not expect to see any resonances corresponding to this as mesons are composed of one quark and one anti-quark and their charges cannot add up to two units.\n",
    "\n",
    "The potential R<sup>0</sup><sub>2</sub> and R<sup>0</sup><sub>3</sub> correspond to configurations in which we could see resonances. Hence you should compute the invariant mass combinations for these. The square of these masses should be used as the Dalitz variables. \n",
    "\n",
    "We suggest you make these plots first for the simulation data. In the simulation there are no intermediate resonances and your plot should be of uniform density inside the range physically allowed by energy and momentum conservation.\n",
    "\t"
   ]
  },
  {
   "cell_type": "code",
   "execution_count": 28,
   "metadata": {
    "collapsed": true,
    "run_control": {
     "frozen": false,
     "read_only": false
    }
   },
   "outputs": [],
   "source": [
    "# calculate the invariant masses for each possible hadron pair combination\n",
    "# Combination H1 & H2\n",
    "sim_data.eval('R12_E = H1_E + H2_E')\n",
    "sim_data.eval('R12_Charge = H1_Charge + H2_Charge')\n",
    "sim_data.eval('R12_PX = H1_PX + H2_PX')\n",
    "sim_data.eval('R12_PY = H1_PY + H2_PY')\n",
    "sim_data.eval('R12_PZ = H1_PZ + H2_PZ')\n",
    "sim_data.eval('R12_P = sqrt(R12_PX**2 + R12_PY**2 + R12_PZ**2)')\n",
    "sim_data.eval('R12_M = sqrt((R12_E - R12_P)*(R12_E + R12_P))')\n",
    "sim_data.eval('R12_MSq = R12_M**2')"
   ]
  },
  {
   "cell_type": "code",
   "execution_count": 29,
   "metadata": {
    "collapsed": true
   },
   "outputs": [],
   "source": [
    "# calculate the invariant masses for each possible hadron pair combination\n",
    "# Combination H1 & H3\n",
    "sim_data.eval('R13_E = H1_E + H3_E')\n",
    "sim_data.eval('R13_Charge = H1_Charge + H3_Charge')\n",
    "sim_data.eval('R13_PX = H1_PX + H3_PX')\n",
    "sim_data.eval('R13_PY = H1_PY + H3_PY')\n",
    "sim_data.eval('R13_PZ = H1_PZ + H3_PZ')\n",
    "sim_data.eval('R13_P = sqrt(R13_PX**2 + R13_PY**2 + R13_PZ**2)')\n",
    "sim_data.eval('R13_M = sqrt((R13_E - R13_P)*(R13_E + R13_P))')\n",
    "sim_data.eval('R13_MSq = R13_M**2')"
   ]
  },
  {
   "cell_type": "code",
   "execution_count": 30,
   "metadata": {
    "collapsed": true
   },
   "outputs": [],
   "source": [
    "# calculate the invariant masses for each possible hadron pair combination\n",
    "# Combination H2 & H3\n",
    "sim_data.eval('R23_E = H2_E + H3_E')\n",
    "sim_data.eval('R23_Charge = H2_Charge + H3_Charge')\n",
    "sim_data.eval('R23_PX = H2_PX + H3_PX')\n",
    "sim_data.eval('R23_PY = H2_PY + H3_PY')\n",
    "sim_data.eval('R23_PZ = H2_PZ + H3_PZ')\n",
    "sim_data.eval('R23_P = sqrt(R23_PX**2 + R23_PY**2 + R23_PZ**2)')\n",
    "sim_data.eval('R23_M = sqrt((R23_E - R23_P)*(R23_E + R23_P))')\n",
    "sim_data.eval('R23_MSq = R23_M**2')"
   ]
  },
  {
   "cell_type": "code",
   "execution_count": 31,
   "metadata": {
    "collapsed": false
   },
   "outputs": [
    {
     "data": {
      "text/plain": [
       "<matplotlib.text.Text at 0x7fa036239e50>"
      ]
     },
     "execution_count": 31,
     "metadata": {},
     "output_type": "execute_result"
    },
    {
     "data": {
      "image/png": "[encoded data removed]",
      "text/plain": [
       "<matplotlib.figure.Figure at 0x7fa0363f54d0>"
      ]
     },
     "metadata": {},
     "output_type": "display_data"
    }
   ],
   "source": [
    "# plot the invariant mass for one of these combinations\n",
    "H_sim_data_R12_M = sim_data.R12_M.hist(bins=100, range=[0,5400])\n",
    "xlabel('Simulation R12_M')\n",
    "ylabel('Number')"
   ]
  },
  {
   "cell_type": "code",
   "execution_count": 32,
   "metadata": {
    "collapsed": false,
    "run_control": {
     "frozen": false,
     "read_only": false
    }
   },
   "outputs": [
    {
     "data": {
      "text/plain": [
       "<matplotlib.text.Text at 0x7fa03613dbd0>"
      ]
     },
     "execution_count": 32,
     "metadata": {},
     "output_type": "execute_result"
    },
    {
     "data": {
      "image/png": "[encoded data removed]",
      "text/plain": [
       "<matplotlib.figure.Figure at 0x7fa036983890>"
      ]
     },
     "metadata": {},
     "output_type": "display_data"
    }
   ],
   "source": [
    "# make a Dalitz plot with labelled axes for the simulation data\n",
    "scatter(sim_data['R12_MSq'], sim_data['R13_MSq'])\n",
    "plt.xlim(0, 25040000) # change the x axis range\n",
    "plt.ylim(0, 25040000)  # change the y axis range\n",
    "xlabel('Simulation M**2(K1 K2)')\n",
    "ylabel('Simulation M**2(K1 K3)')"
   ]
  },
  {
   "cell_type": "markdown",
   "metadata": {},
   "source": [
    "### Hints"
   ]
  },
  {
   "cell_type": "markdown",
   "metadata": {},
   "source": [
    "**Calculating invariant mass** - Use the same technique as you did above for the B meson, but now applying it to two-body invariant masses rather than three.\n",
    "\n",
    "**Plotting the Dalitz plot** - You can use a `scatter` plot from `matplotlib` to plot a Dalitz plotm, see the [example analysis](Example-Analysis.ipynb). Remember to use the square of each two-body mass."
   ]
  },
  {
   "cell_type": "markdown",
   "metadata": {},
   "source": [
    "## Adding Dalitz plot for real data\n",
    "Now draw a Dalitz plot for the real data. Check that the signs of the charge of the hadrons are correct to correspond to your potential neutral resonances R<sup>0</sup><sub>2</sub> and R<sup>0</sup><sub>3</sub>."
   ]
  },
  {
   "cell_type": "code",
   "execution_count": 33,
   "metadata": {
    "collapsed": false,
    "run_control": {
     "frozen": false,
     "read_only": false
    }
   },
   "outputs": [
    {
     "data": {
      "text/html": [
       "<div>\n",
       "<table border=\"1\" class=\"dataframe\">\n",
       "  <thead>\n",
       "    <tr style=\"text-align: right;\">\n",
       "      <th></th>\n",
       "      <th>B_FlightDistance</th>\n",
       "      <th>B_VertexChi2</th>\n",
       "      <th>H1_PX</th>\n",
       "      <th>H1_PY</th>\n",
       "      <th>H1_PZ</th>\n",
       "      <th>H1_ProbK</th>\n",
       "      <th>H1_ProbPi</th>\n",
       "      <th>H1_Charge</th>\n",
       "      <th>H1_IPChi2</th>\n",
       "      <th>H1_isMuon</th>\n",
       "      <th>H2_PX</th>\n",
       "      <th>H2_PY</th>\n",
       "      <th>H2_PZ</th>\n",
       "      <th>H2_ProbK</th>\n",
       "      <th>H2_ProbPi</th>\n",
       "      <th>H2_Charge</th>\n",
       "      <th>H2_IPChi2</th>\n",
       "      <th>H2_isMuon</th>\n",
       "      <th>H3_PX</th>\n",
       "      <th>H3_PY</th>\n",
       "      <th>H3_PZ</th>\n",
       "      <th>H3_ProbK</th>\n",
       "      <th>H3_ProbPi</th>\n",
       "      <th>H3_Charge</th>\n",
       "      <th>H3_IPChi2</th>\n",
       "      <th>H3_isMuon</th>\n",
       "      <th>H1_P</th>\n",
       "      <th>H1_M</th>\n",
       "      <th>H1_E</th>\n",
       "      <th>H2_P</th>\n",
       "      <th>H2_M</th>\n",
       "      <th>H2_E</th>\n",
       "      <th>H3_P</th>\n",
       "      <th>H3_M</th>\n",
       "      <th>H3_E</th>\n",
       "      <th>B_E</th>\n",
       "      <th>B_PX</th>\n",
       "      <th>B_PY</th>\n",
       "      <th>B_PZ</th>\n",
       "      <th>B_P</th>\n",
       "      <th>B_M</th>\n",
       "      <th>B_Charge</th>\n",
       "      <th>R12_Charge</th>\n",
       "      <th>R12_E</th>\n",
       "      <th>R12_PX</th>\n",
       "      <th>R12_PY</th>\n",
       "      <th>R12_PZ</th>\n",
       "      <th>R12_P</th>\n",
       "      <th>R12_M</th>\n",
       "      <th>R12_MSq</th>\n",
       "      <th>R13_Charge</th>\n",
       "      <th>R13_E</th>\n",
       "      <th>R13_PX</th>\n",
       "      <th>R13_PY</th>\n",
       "      <th>R13_PZ</th>\n",
       "      <th>R13_P</th>\n",
       "      <th>R13_M</th>\n",
       "      <th>R13_MSq</th>\n",
       "      <th>R23_Charge</th>\n",
       "      <th>R23_E</th>\n",
       "      <th>R23_PX</th>\n",
       "      <th>R23_PY</th>\n",
       "      <th>R23_PZ</th>\n",
       "      <th>R23_P</th>\n",
       "      <th>R23_M</th>\n",
       "      <th>R23_MSq</th>\n",
       "    </tr>\n",
       "  </thead>\n",
       "  <tbody>\n",
       "    <tr>\n",
       "      <th>0</th>\n",
       "      <td>6.888037</td>\n",
       "      <td>8.426947</td>\n",
       "      <td>1207.753798</td>\n",
       "      <td>-84.290958</td>\n",
       "      <td>10399.473702</td>\n",
       "      <td>0.902219</td>\n",
       "      <td>0.041574</td>\n",
       "      <td>-1</td>\n",
       "      <td>998.424410</td>\n",
       "      <td>0</td>\n",
       "      <td>-1264.774019</td>\n",
       "      <td>450.600912</td>\n",
       "      <td>48810.547252</td>\n",
       "      <td>0.718900</td>\n",
       "      <td>0.132056</td>\n",
       "      <td>1</td>\n",
       "      <td>110.519068</td>\n",
       "      <td>0</td>\n",
       "      <td>1973.085892</td>\n",
       "      <td>-289.150032</td>\n",
       "      <td>26771.341608</td>\n",
       "      <td>0.915843</td>\n",
       "      <td>0.057261</td>\n",
       "      <td>1</td>\n",
       "      <td>386.493713</td>\n",
       "      <td>0</td>\n",
       "      <td>10469.71</td>\n",
       "      <td>493.667</td>\n",
       "      <td>10481.342213</td>\n",
       "      <td>48829.01</td>\n",
       "      <td>493.667</td>\n",
       "      <td>48831.505452</td>\n",
       "      <td>26845.51</td>\n",
       "      <td>493.667</td>\n",
       "      <td>26850.048683</td>\n",
       "      <td>86162.896348</td>\n",
       "      <td>1916.065670</td>\n",
       "      <td>77.159922</td>\n",
       "      <td>85981.362562</td>\n",
       "      <td>86002.743964</td>\n",
       "      <td>5250.974924</td>\n",
       "      <td>1</td>\n",
       "      <td>0</td>\n",
       "      <td>59312.847665</td>\n",
       "      <td>-57.020221</td>\n",
       "      <td>366.309954</td>\n",
       "      <td>59210.020955</td>\n",
       "      <td>59211.181509</td>\n",
       "      <td>3471.294053</td>\n",
       "      <td>1.204988e+07</td>\n",
       "      <td>0</td>\n",
       "      <td>37331.390896</td>\n",
       "      <td>3180.839690</td>\n",
       "      <td>-373.440991</td>\n",
       "      <td>37170.815310</td>\n",
       "      <td>37308.534012</td>\n",
       "      <td>1306.153175</td>\n",
       "      <td>1.706036e+06</td>\n",
       "      <td>2</td>\n",
       "      <td>75681.554135</td>\n",
       "      <td>708.311872</td>\n",
       "      <td>161.450880</td>\n",
       "      <td>75581.888860</td>\n",
       "      <td>75585.380172</td>\n",
       "      <td>3814.176248</td>\n",
       "      <td>1.454794e+07</td>\n",
       "    </tr>\n",
       "    <tr>\n",
       "      <th>2</th>\n",
       "      <td>9.100733</td>\n",
       "      <td>4.113123</td>\n",
       "      <td>-2007.925735</td>\n",
       "      <td>-2555.080382</td>\n",
       "      <td>26601.465958</td>\n",
       "      <td>0.917661</td>\n",
       "      <td>0.077237</td>\n",
       "      <td>-1</td>\n",
       "      <td>1355.611615</td>\n",
       "      <td>0</td>\n",
       "      <td>1693.244621</td>\n",
       "      <td>-2163.746216</td>\n",
       "      <td>14881.492330</td>\n",
       "      <td>0.641197</td>\n",
       "      <td>0.027784</td>\n",
       "      <td>1</td>\n",
       "      <td>8500.518262</td>\n",
       "      <td>0</td>\n",
       "      <td>-1260.859080</td>\n",
       "      <td>-2824.663002</td>\n",
       "      <td>22365.178510</td>\n",
       "      <td>0.947676</td>\n",
       "      <td>0.097263</td>\n",
       "      <td>1</td>\n",
       "      <td>352.235461</td>\n",
       "      <td>0</td>\n",
       "      <td>26799.22</td>\n",
       "      <td>493.667</td>\n",
       "      <td>26803.766521</td>\n",
       "      <td>15133.00</td>\n",
       "      <td>493.667</td>\n",
       "      <td>15141.050033</td>\n",
       "      <td>22578.08</td>\n",
       "      <td>493.667</td>\n",
       "      <td>22583.476340</td>\n",
       "      <td>64528.292894</td>\n",
       "      <td>-1575.540194</td>\n",
       "      <td>-7543.489600</td>\n",
       "      <td>63848.136798</td>\n",
       "      <td>64311.516346</td>\n",
       "      <td>5284.831978</td>\n",
       "      <td>1</td>\n",
       "      <td>0</td>\n",
       "      <td>41944.816554</td>\n",
       "      <td>-314.681114</td>\n",
       "      <td>-4718.826598</td>\n",
       "      <td>41482.958288</td>\n",
       "      <td>41751.672744</td>\n",
       "      <td>4020.629157</td>\n",
       "      <td>1.616546e+07</td>\n",
       "      <td>0</td>\n",
       "      <td>49387.242861</td>\n",
       "      <td>-3268.784815</td>\n",
       "      <td>-5379.743384</td>\n",
       "      <td>48966.644468</td>\n",
       "      <td>49369.614780</td>\n",
       "      <td>1319.429395</td>\n",
       "      <td>1.740894e+06</td>\n",
       "      <td>2</td>\n",
       "      <td>37724.526373</td>\n",
       "      <td>432.385541</td>\n",
       "      <td>-4988.409218</td>\n",
       "      <td>37246.670840</td>\n",
       "      <td>37581.719924</td>\n",
       "      <td>3279.362379</td>\n",
       "      <td>1.075422e+07</td>\n",
       "    </tr>\n",
       "    <tr>\n",
       "      <th>3</th>\n",
       "      <td>11.077374</td>\n",
       "      <td>2.360357</td>\n",
       "      <td>1408.170513</td>\n",
       "      <td>-1372.864558</td>\n",
       "      <td>66357.093308</td>\n",
       "      <td>0.785618</td>\n",
       "      <td>0.119467</td>\n",
       "      <td>-1</td>\n",
       "      <td>2.799029</td>\n",
       "      <td>0</td>\n",
       "      <td>-1656.007195</td>\n",
       "      <td>-443.878471</td>\n",
       "      <td>49308.763064</td>\n",
       "      <td>0.741373</td>\n",
       "      <td>0.236373</td>\n",
       "      <td>1</td>\n",
       "      <td>564.019813</td>\n",
       "      <td>0</td>\n",
       "      <td>2171.855775</td>\n",
       "      <td>-1964.419835</td>\n",
       "      <td>92096.742555</td>\n",
       "      <td>0.560237</td>\n",
       "      <td>0.070540</td>\n",
       "      <td>1</td>\n",
       "      <td>44.498271</td>\n",
       "      <td>0</td>\n",
       "      <td>66386.23</td>\n",
       "      <td>493.667</td>\n",
       "      <td>66388.065499</td>\n",
       "      <td>49338.56</td>\n",
       "      <td>493.667</td>\n",
       "      <td>49341.029681</td>\n",
       "      <td>92143.29</td>\n",
       "      <td>493.667</td>\n",
       "      <td>92144.612426</td>\n",
       "      <td>207873.707606</td>\n",
       "      <td>1924.019093</td>\n",
       "      <td>-3781.162864</td>\n",
       "      <td>207762.598928</td>\n",
       "      <td>207805.910780</td>\n",
       "      <td>5308.649418</td>\n",
       "      <td>1</td>\n",
       "      <td>0</td>\n",
       "      <td>115729.095180</td>\n",
       "      <td>-247.836682</td>\n",
       "      <td>-1816.743029</td>\n",
       "      <td>115665.856373</td>\n",
       "      <td>115680.388609</td>\n",
       "      <td>3357.255206</td>\n",
       "      <td>1.127116e+07</td>\n",
       "      <td>0</td>\n",
       "      <td>158532.677925</td>\n",
       "      <td>3580.026288</td>\n",
       "      <td>-3337.284393</td>\n",
       "      <td>158453.835863</td>\n",
       "      <td>158529.404702</td>\n",
       "      <td>1018.732055</td>\n",
       "      <td>1.037815e+06</td>\n",
       "      <td>2</td>\n",
       "      <td>141485.642107</td>\n",
       "      <td>515.848580</td>\n",
       "      <td>-2408.298306</td>\n",
       "      <td>141405.505619</td>\n",
       "      <td>141426.952947</td>\n",
       "      <td>4074.788639</td>\n",
       "      <td>1.660390e+07</td>\n",
       "    </tr>\n",
       "    <tr>\n",
       "      <th>5</th>\n",
       "      <td>11.554098</td>\n",
       "      <td>1.120899</td>\n",
       "      <td>-77.919930</td>\n",
       "      <td>598.047768</td>\n",
       "      <td>18486.604881</td>\n",
       "      <td>0.937157</td>\n",
       "      <td>0.227115</td>\n",
       "      <td>1</td>\n",
       "      <td>89.128636</td>\n",
       "      <td>0</td>\n",
       "      <td>562.190905</td>\n",
       "      <td>-735.925373</td>\n",
       "      <td>9081.894827</td>\n",
       "      <td>0.571785</td>\n",
       "      <td>0.117188</td>\n",
       "      <td>-1</td>\n",
       "      <td>2387.913090</td>\n",
       "      <td>0</td>\n",
       "      <td>-3786.001956</td>\n",
       "      <td>-3050.190096</td>\n",
       "      <td>49924.677288</td>\n",
       "      <td>0.940656</td>\n",
       "      <td>0.096659</td>\n",
       "      <td>-1</td>\n",
       "      <td>827.264326</td>\n",
       "      <td>0</td>\n",
       "      <td>18496.44</td>\n",
       "      <td>493.667</td>\n",
       "      <td>18503.026773</td>\n",
       "      <td>9128.99</td>\n",
       "      <td>493.667</td>\n",
       "      <td>9142.328233</td>\n",
       "      <td>50160.85</td>\n",
       "      <td>493.667</td>\n",
       "      <td>50163.279197</td>\n",
       "      <td>77808.634204</td>\n",
       "      <td>-3301.730982</td>\n",
       "      <td>-3188.067700</td>\n",
       "      <td>77493.176996</td>\n",
       "      <td>77628.974514</td>\n",
       "      <td>5284.493605</td>\n",
       "      <td>-1</td>\n",
       "      <td>0</td>\n",
       "      <td>27645.355007</td>\n",
       "      <td>484.270974</td>\n",
       "      <td>-137.877605</td>\n",
       "      <td>27568.499708</td>\n",
       "      <td>27573.097482</td>\n",
       "      <td>1997.485591</td>\n",
       "      <td>3.989949e+06</td>\n",
       "      <td>0</td>\n",
       "      <td>68666.305971</td>\n",
       "      <td>-3863.921887</td>\n",
       "      <td>-2452.142327</td>\n",
       "      <td>68411.282169</td>\n",
       "      <td>68564.177398</td>\n",
       "      <td>3743.681793</td>\n",
       "      <td>1.401515e+07</td>\n",
       "      <td>-2</td>\n",
       "      <td>59305.607431</td>\n",
       "      <td>-3223.811052</td>\n",
       "      <td>-3786.115469</td>\n",
       "      <td>59006.572115</td>\n",
       "      <td>59215.734233</td>\n",
       "      <td>3263.723629</td>\n",
       "      <td>1.065189e+07</td>\n",
       "    </tr>\n",
       "    <tr>\n",
       "      <th>6</th>\n",
       "      <td>8.296893</td>\n",
       "      <td>7.380471</td>\n",
       "      <td>970.351808</td>\n",
       "      <td>-490.045926</td>\n",
       "      <td>27929.242265</td>\n",
       "      <td>0.966135</td>\n",
       "      <td>0.095613</td>\n",
       "      <td>1</td>\n",
       "      <td>135.543971</td>\n",
       "      <td>0</td>\n",
       "      <td>-2001.668003</td>\n",
       "      <td>293.438719</td>\n",
       "      <td>42809.083942</td>\n",
       "      <td>0.944257</td>\n",
       "      <td>0.095049</td>\n",
       "      <td>-1</td>\n",
       "      <td>944.174083</td>\n",
       "      <td>0</td>\n",
       "      <td>1618.033440</td>\n",
       "      <td>-1593.587768</td>\n",
       "      <td>45253.841121</td>\n",
       "      <td>0.959964</td>\n",
       "      <td>0.098093</td>\n",
       "      <td>-1</td>\n",
       "      <td>260.910241</td>\n",
       "      <td>0</td>\n",
       "      <td>27950.39</td>\n",
       "      <td>493.667</td>\n",
       "      <td>27954.749297</td>\n",
       "      <td>42856.86</td>\n",
       "      <td>493.667</td>\n",
       "      <td>42859.703174</td>\n",
       "      <td>45310.79</td>\n",
       "      <td>493.667</td>\n",
       "      <td>45313.479204</td>\n",
       "      <td>116127.931675</td>\n",
       "      <td>586.717246</td>\n",
       "      <td>-1790.194975</td>\n",
       "      <td>115992.167329</td>\n",
       "      <td>116007.464919</td>\n",
       "      <td>5288.156407</td>\n",
       "      <td>-1</td>\n",
       "      <td>0</td>\n",
       "      <td>70814.452471</td>\n",
       "      <td>-1031.316195</td>\n",
       "      <td>-196.607208</td>\n",
       "      <td>70738.326208</td>\n",
       "      <td>70746.116940</td>\n",
       "      <td>3110.243823</td>\n",
       "      <td>9.673617e+06</td>\n",
       "      <td>0</td>\n",
       "      <td>73268.228501</td>\n",
       "      <td>2588.385249</td>\n",
       "      <td>-2083.633694</td>\n",
       "      <td>73183.083387</td>\n",
       "      <td>73258.480475</td>\n",
       "      <td>1195.134334</td>\n",
       "      <td>1.428346e+06</td>\n",
       "      <td>-2</td>\n",
       "      <td>88173.182378</td>\n",
       "      <td>-383.634563</td>\n",
       "      <td>-1300.149049</td>\n",
       "      <td>88062.925064</td>\n",
       "      <td>88073.357684</td>\n",
       "      <td>4194.491243</td>\n",
       "      <td>1.759376e+07</td>\n",
       "    </tr>\n",
       "  </tbody>\n",
       "</table>\n",
       "</div>"
      ],
      "text/plain": [
       "   B_FlightDistance  B_VertexChi2        H1_PX        H1_PY         H1_PZ  \\\n",
       "0          6.888037      8.426947  1207.753798   -84.290958  10399.473702   \n",
       "2          9.100733      4.113123 -2007.925735 -2555.080382  26601.465958   \n",
       "3         11.077374      2.360357  1408.170513 -1372.864558  66357.093308   \n",
       "5         11.554098      1.120899   -77.919930   598.047768  18486.604881   \n",
       "6          8.296893      7.380471   970.351808  -490.045926  27929.242265   \n",
       "\n",
       "   H1_ProbK  H1_ProbPi  H1_Charge    H1_IPChi2  H1_isMuon        H2_PX  \\\n",
       "0  0.902219   0.041574         -1   998.424410          0 -1264.774019   \n",
       "2  0.917661   0.077237         -1  1355.611615          0  1693.244621   \n",
       "3  0.785618   0.119467         -1     2.799029          0 -1656.007195   \n",
       "5  0.937157   0.227115          1    89.128636          0   562.190905   \n",
       "6  0.966135   0.095613          1   135.543971          0 -2001.668003   \n",
       "\n",
       "         H2_PY         H2_PZ  H2_ProbK  H2_ProbPi  H2_Charge    H2_IPChi2  \\\n",
       "0   450.600912  48810.547252  0.718900   0.132056          1   110.519068   \n",
       "2 -2163.746216  14881.492330  0.641197   0.027784          1  8500.518262   \n",
       "3  -443.878471  49308.763064  0.741373   0.236373          1   564.019813   \n",
       "5  -735.925373   9081.894827  0.571785   0.117188         -1  2387.913090   \n",
       "6   293.438719  42809.083942  0.944257   0.095049         -1   944.174083   \n",
       "\n",
       "   H2_isMuon        H3_PX        H3_PY         H3_PZ  H3_ProbK  H3_ProbPi  \\\n",
       "0          0  1973.085892  -289.150032  26771.341608  0.915843   0.057261   \n",
       "2          0 -1260.859080 -2824.663002  22365.178510  0.947676   0.097263   \n",
       "3          0  2171.855775 -1964.419835  92096.742555  0.560237   0.070540   \n",
       "5          0 -3786.001956 -3050.190096  49924.677288  0.940656   0.096659   \n",
       "6          0  1618.033440 -1593.587768  45253.841121  0.959964   0.098093   \n",
       "\n",
       "   H3_Charge   H3_IPChi2  H3_isMuon      H1_P     H1_M          H1_E  \\\n",
       "0          1  386.493713          0  10469.71  493.667  10481.342213   \n",
       "2          1  352.235461          0  26799.22  493.667  26803.766521   \n",
       "3          1   44.498271          0  66386.23  493.667  66388.065499   \n",
       "5         -1  827.264326          0  18496.44  493.667  18503.026773   \n",
       "6         -1  260.910241          0  27950.39  493.667  27954.749297   \n",
       "\n",
       "       H2_P     H2_M          H2_E      H3_P     H3_M          H3_E  \\\n",
       "0  48829.01  493.667  48831.505452  26845.51  493.667  26850.048683   \n",
       "2  15133.00  493.667  15141.050033  22578.08  493.667  22583.476340   \n",
       "3  49338.56  493.667  49341.029681  92143.29  493.667  92144.612426   \n",
       "5   9128.99  493.667   9142.328233  50160.85  493.667  50163.279197   \n",
       "6  42856.86  493.667  42859.703174  45310.79  493.667  45313.479204   \n",
       "\n",
       "             B_E         B_PX         B_PY           B_PZ            B_P  \\\n",
       "0   86162.896348  1916.065670    77.159922   85981.362562   86002.743964   \n",
       "2   64528.292894 -1575.540194 -7543.489600   63848.136798   64311.516346   \n",
       "3  207873.707606  1924.019093 -3781.162864  207762.598928  207805.910780   \n",
       "5   77808.634204 -3301.730982 -3188.067700   77493.176996   77628.974514   \n",
       "6  116127.931675   586.717246 -1790.194975  115992.167329  116007.464919   \n",
       "\n",
       "           B_M  B_Charge  R12_Charge          R12_E       R12_PX       R12_PY  \\\n",
       "0  5250.974924         1           0   59312.847665   -57.020221   366.309954   \n",
       "2  5284.831978         1           0   41944.816554  -314.681114 -4718.826598   \n",
       "3  5308.649418         1           0  115729.095180  -247.836682 -1816.743029   \n",
       "5  5284.493605        -1           0   27645.355007   484.270974  -137.877605   \n",
       "6  5288.156407        -1           0   70814.452471 -1031.316195  -196.607208   \n",
       "\n",
       "          R12_PZ          R12_P        R12_M       R12_MSq  R13_Charge  \\\n",
       "0   59210.020955   59211.181509  3471.294053  1.204988e+07           0   \n",
       "2   41482.958288   41751.672744  4020.629157  1.616546e+07           0   \n",
       "3  115665.856373  115680.388609  3357.255206  1.127116e+07           0   \n",
       "5   27568.499708   27573.097482  1997.485591  3.989949e+06           0   \n",
       "6   70738.326208   70746.116940  3110.243823  9.673617e+06           0   \n",
       "\n",
       "           R13_E       R13_PX       R13_PY         R13_PZ          R13_P  \\\n",
       "0   37331.390896  3180.839690  -373.440991   37170.815310   37308.534012   \n",
       "2   49387.242861 -3268.784815 -5379.743384   48966.644468   49369.614780   \n",
       "3  158532.677925  3580.026288 -3337.284393  158453.835863  158529.404702   \n",
       "5   68666.305971 -3863.921887 -2452.142327   68411.282169   68564.177398   \n",
       "6   73268.228501  2588.385249 -2083.633694   73183.083387   73258.480475   \n",
       "\n",
       "         R13_M       R13_MSq  R23_Charge          R23_E       R23_PX  \\\n",
       "0  1306.153175  1.706036e+06           2   75681.554135   708.311872   \n",
       "2  1319.429395  1.740894e+06           2   37724.526373   432.385541   \n",
       "3  1018.732055  1.037815e+06           2  141485.642107   515.848580   \n",
       "5  3743.681793  1.401515e+07          -2   59305.607431 -3223.811052   \n",
       "6  1195.134334  1.428346e+06          -2   88173.182378  -383.634563   \n",
       "\n",
       "        R23_PY         R23_PZ          R23_P        R23_M       R23_MSq  \n",
       "0   161.450880   75581.888860   75585.380172  3814.176248  1.454794e+07  \n",
       "2 -4988.409218   37246.670840   37581.719924  3279.362379  1.075422e+07  \n",
       "3 -2408.298306  141405.505619  141426.952947  4074.788639  1.660390e+07  \n",
       "5 -3786.115469   59006.572115   59215.734233  3263.723629  1.065189e+07  \n",
       "6 -1300.149049   88062.925064   88073.357684  4194.491243  1.759376e+07  "
      ]
     },
     "execution_count": 33,
     "metadata": {},
     "output_type": "execute_result"
    }
   ],
   "source": [
    "# calculate the invariant masses for each possible hadron pair combination in the real data\n",
    "# Combination H1 & H2\n",
    "BSel_real_data.eval('R12_Charge = H1_Charge + H2_Charge')\n",
    "BSel_real_data.eval('R12_E = H1_E + H2_E')\n",
    "BSel_real_data.eval('R12_PX = H1_PX + H2_PX')\n",
    "BSel_real_data.eval('R12_PY = H1_PY + H2_PY')\n",
    "BSel_real_data.eval('R12_PZ = H1_PZ + H2_PZ')\n",
    "BSel_real_data.eval('R12_P = sqrt(R12_PX**2 + R12_PY**2 + R12_PZ**2)')\n",
    "BSel_real_data.eval('R12_M = sqrt((R12_E - R12_P)*(R12_E + R12_P))')\n",
    "BSel_real_data.eval('R12_MSq = R12_M**2')\n",
    "# Combination H1 & H3\n",
    "BSel_real_data.eval('R13_Charge = H1_Charge + H3_Charge')\n",
    "BSel_real_data.eval('R13_E = H1_E + H3_E')\n",
    "BSel_real_data.eval('R13_PX = H1_PX + H3_PX')\n",
    "BSel_real_data.eval('R13_PY = H1_PY + H3_PY')\n",
    "BSel_real_data.eval('R13_PZ = H1_PZ + H3_PZ')\n",
    "BSel_real_data.eval('R13_P = sqrt(R13_PX**2 + R13_PY**2 + R13_PZ**2)')\n",
    "BSel_real_data.eval('R13_M = sqrt((R13_E - R13_P)*(R13_E + R13_P))')\n",
    "BSel_real_data.eval('R13_MSq = R13_M**2')\n",
    "# calculate the invariant masses for each possible hadron pair combination\n",
    "# Combination H2 & H3\n",
    "BSel_real_data.eval('R23_Charge = H2_Charge + H3_Charge')\n",
    "BSel_real_data.eval('R23_E = H2_E + H3_E')\n",
    "BSel_real_data.eval('R23_PX = H2_PX + H3_PX')\n",
    "BSel_real_data.eval('R23_PY = H2_PY + H3_PY')\n",
    "BSel_real_data.eval('R23_PZ = H2_PZ + H3_PZ')\n",
    "BSel_real_data.eval('R23_P = sqrt(R23_PX**2 + R23_PY**2 + R23_PZ**2)')\n",
    "BSel_real_data.eval('R23_M = sqrt((R23_E - R23_P)*(R23_E + R23_P))')\n",
    "BSel_real_data.eval('R23_MSq = R23_M**2')\n",
    "BSel_real_data.head(5)"
   ]
  },
  {
   "cell_type": "code",
   "execution_count": 34,
   "metadata": {
    "collapsed": false
   },
   "outputs": [
    {
     "data": {
      "text/plain": [
       "<matplotlib.text.Text at 0x7fa0361968d0>"
      ]
     },
     "execution_count": 34,
     "metadata": {},
     "output_type": "execute_result"
    },
    {
     "data": {
      "image/png": "[encoded data removed]",
      "text/plain": [
       "<matplotlib.figure.Figure at 0x7fa03618f590>"
      ]
     },
     "metadata": {},
     "output_type": "display_data"
    }
   ],
   "source": [
    "# make a Dalitz plot for the real data (with your preselection cuts applied)\n",
    "scatter(BSel_real_data['R12_MSq'], BSel_real_data['R13_MSq'])\n",
    "plt.xlim(0, 25040000) # change the x axis range\n",
    "plt.ylim(0, 25040000)  # change the y axis range\n",
    "xlabel('M**2(K1 K2)')\n",
    "ylabel('M**2(K1 K3)')"
   ]
  },
  {
   "cell_type": "markdown",
   "metadata": {},
   "source": [
    "<div align=\"justify\">While drawing the Dalitz plot for the real data, label the axes accordingly. Compare the Dalitz plots of the real data with the one for the simulation. \n",
    "What are the most striking differences? \n",
    "</div>"
   ]
  },
  {
   "cell_type": "markdown",
   "metadata": {},
   "source": [
    "### Ordering Dalitz variables\n",
    "You can make a further improvement to allow you to observe the resonances easier. Your resonances R<sup>0</sup><sub>2</sub> and R<sup>0</sup><sub>3</sub> are both composed of the same particle types, K<sup>+</sup>K<sup>-</sup>, and hence have the same distributions. It is useful to impose an ordering which distinguishes the resonances. We can call the resonances R<sup>0</sup><sub>Low</sub> and R<sup>0</sup><sub>High</sub>. In each event R<sup>0</sup><sub>Low</sub> is the resonance with the lower mass and the other corresponds to the higher mass combination of kaons. You can now use the mass of these ordered resonances as your Dalitz plot variables, thus effectively \"folding\" your Dalitz plot so that one axis always has a higher value than the other.\n"
   ]
  },
  {
   "cell_type": "code",
   "execution_count": 35,
   "metadata": {
    "collapsed": false,
    "run_control": {
     "frozen": false,
     "read_only": false
    }
   },
   "outputs": [
    {
     "data": {
      "text/html": [
       "<div>\n",
       "<table border=\"1\" class=\"dataframe\">\n",
       "  <thead>\n",
       "    <tr style=\"text-align: right;\">\n",
       "      <th></th>\n",
       "      <th>B_FlightDistance</th>\n",
       "      <th>B_VertexChi2</th>\n",
       "      <th>H1_PX</th>\n",
       "      <th>H1_PY</th>\n",
       "      <th>H1_PZ</th>\n",
       "      <th>H1_ProbK</th>\n",
       "      <th>H1_ProbPi</th>\n",
       "      <th>H1_Charge</th>\n",
       "      <th>H1_IPChi2</th>\n",
       "      <th>H1_isMuon</th>\n",
       "      <th>H2_PX</th>\n",
       "      <th>H2_PY</th>\n",
       "      <th>H2_PZ</th>\n",
       "      <th>H2_ProbK</th>\n",
       "      <th>H2_ProbPi</th>\n",
       "      <th>H2_Charge</th>\n",
       "      <th>H2_IPChi2</th>\n",
       "      <th>H2_isMuon</th>\n",
       "      <th>H3_PX</th>\n",
       "      <th>H3_PY</th>\n",
       "      <th>H3_PZ</th>\n",
       "      <th>H3_ProbK</th>\n",
       "      <th>H3_ProbPi</th>\n",
       "      <th>H3_Charge</th>\n",
       "      <th>H3_IPChi2</th>\n",
       "      <th>H3_isMuon</th>\n",
       "      <th>H1_P</th>\n",
       "      <th>H1_M</th>\n",
       "      <th>H1_E</th>\n",
       "      <th>H2_P</th>\n",
       "      <th>H2_M</th>\n",
       "      <th>H2_E</th>\n",
       "      <th>H3_P</th>\n",
       "      <th>H3_M</th>\n",
       "      <th>H3_E</th>\n",
       "      <th>B_E</th>\n",
       "      <th>B_PX</th>\n",
       "      <th>B_PY</th>\n",
       "      <th>B_PZ</th>\n",
       "      <th>B_P</th>\n",
       "      <th>B_M</th>\n",
       "      <th>B_Charge</th>\n",
       "      <th>R12_Charge</th>\n",
       "      <th>R12_E</th>\n",
       "      <th>R12_PX</th>\n",
       "      <th>R12_PY</th>\n",
       "      <th>R12_PZ</th>\n",
       "      <th>R12_P</th>\n",
       "      <th>R12_M</th>\n",
       "      <th>R12_MSq</th>\n",
       "      <th>R13_Charge</th>\n",
       "      <th>R13_E</th>\n",
       "      <th>R13_PX</th>\n",
       "      <th>R13_PY</th>\n",
       "      <th>R13_PZ</th>\n",
       "      <th>R13_P</th>\n",
       "      <th>R13_M</th>\n",
       "      <th>R13_MSq</th>\n",
       "      <th>R23_Charge</th>\n",
       "      <th>R23_E</th>\n",
       "      <th>R23_PX</th>\n",
       "      <th>R23_PY</th>\n",
       "      <th>R23_PZ</th>\n",
       "      <th>R23_P</th>\n",
       "      <th>R23_M</th>\n",
       "      <th>R23_MSq</th>\n",
       "      <th>Rhigh_M</th>\n",
       "      <th>Rhigh_MSq</th>\n",
       "      <th>Rlow_M</th>\n",
       "      <th>Rlow_MSq</th>\n",
       "    </tr>\n",
       "  </thead>\n",
       "  <tbody>\n",
       "    <tr>\n",
       "      <th>0</th>\n",
       "      <td>6.888037</td>\n",
       "      <td>8.426947</td>\n",
       "      <td>1207.753798</td>\n",
       "      <td>-84.290958</td>\n",
       "      <td>10399.473702</td>\n",
       "      <td>0.902219</td>\n",
       "      <td>0.041574</td>\n",
       "      <td>-1</td>\n",
       "      <td>998.424410</td>\n",
       "      <td>0</td>\n",
       "      <td>-1264.774019</td>\n",
       "      <td>450.600912</td>\n",
       "      <td>48810.547252</td>\n",
       "      <td>0.718900</td>\n",
       "      <td>0.132056</td>\n",
       "      <td>1</td>\n",
       "      <td>110.519068</td>\n",
       "      <td>0</td>\n",
       "      <td>1973.085892</td>\n",
       "      <td>-289.150032</td>\n",
       "      <td>26771.341608</td>\n",
       "      <td>0.915843</td>\n",
       "      <td>0.057261</td>\n",
       "      <td>1</td>\n",
       "      <td>386.493713</td>\n",
       "      <td>0</td>\n",
       "      <td>10469.71</td>\n",
       "      <td>493.667</td>\n",
       "      <td>10481.342213</td>\n",
       "      <td>48829.01</td>\n",
       "      <td>493.667</td>\n",
       "      <td>48831.505452</td>\n",
       "      <td>26845.51</td>\n",
       "      <td>493.667</td>\n",
       "      <td>26850.048683</td>\n",
       "      <td>86162.896348</td>\n",
       "      <td>1916.065670</td>\n",
       "      <td>77.159922</td>\n",
       "      <td>85981.362562</td>\n",
       "      <td>86002.743964</td>\n",
       "      <td>5250.974924</td>\n",
       "      <td>1</td>\n",
       "      <td>0</td>\n",
       "      <td>59312.847665</td>\n",
       "      <td>-57.020221</td>\n",
       "      <td>366.309954</td>\n",
       "      <td>59210.020955</td>\n",
       "      <td>59211.181509</td>\n",
       "      <td>3471.294053</td>\n",
       "      <td>1.204988e+07</td>\n",
       "      <td>0</td>\n",
       "      <td>37331.390896</td>\n",
       "      <td>3180.839690</td>\n",
       "      <td>-373.440991</td>\n",
       "      <td>37170.815310</td>\n",
       "      <td>37308.534012</td>\n",
       "      <td>1306.153175</td>\n",
       "      <td>1.706036e+06</td>\n",
       "      <td>2</td>\n",
       "      <td>75681.554135</td>\n",
       "      <td>708.311872</td>\n",
       "      <td>161.450880</td>\n",
       "      <td>75581.888860</td>\n",
       "      <td>75585.380172</td>\n",
       "      <td>3814.176248</td>\n",
       "      <td>1.454794e+07</td>\n",
       "      <td>3471.294053</td>\n",
       "      <td>1.204988e+07</td>\n",
       "      <td>1306.153175</td>\n",
       "      <td>1.706036e+06</td>\n",
       "    </tr>\n",
       "    <tr>\n",
       "      <th>2</th>\n",
       "      <td>9.100733</td>\n",
       "      <td>4.113123</td>\n",
       "      <td>-2007.925735</td>\n",
       "      <td>-2555.080382</td>\n",
       "      <td>26601.465958</td>\n",
       "      <td>0.917661</td>\n",
       "      <td>0.077237</td>\n",
       "      <td>-1</td>\n",
       "      <td>1355.611615</td>\n",
       "      <td>0</td>\n",
       "      <td>1693.244621</td>\n",
       "      <td>-2163.746216</td>\n",
       "      <td>14881.492330</td>\n",
       "      <td>0.641197</td>\n",
       "      <td>0.027784</td>\n",
       "      <td>1</td>\n",
       "      <td>8500.518262</td>\n",
       "      <td>0</td>\n",
       "      <td>-1260.859080</td>\n",
       "      <td>-2824.663002</td>\n",
       "      <td>22365.178510</td>\n",
       "      <td>0.947676</td>\n",
       "      <td>0.097263</td>\n",
       "      <td>1</td>\n",
       "      <td>352.235461</td>\n",
       "      <td>0</td>\n",
       "      <td>26799.22</td>\n",
       "      <td>493.667</td>\n",
       "      <td>26803.766521</td>\n",
       "      <td>15133.00</td>\n",
       "      <td>493.667</td>\n",
       "      <td>15141.050033</td>\n",
       "      <td>22578.08</td>\n",
       "      <td>493.667</td>\n",
       "      <td>22583.476340</td>\n",
       "      <td>64528.292894</td>\n",
       "      <td>-1575.540194</td>\n",
       "      <td>-7543.489600</td>\n",
       "      <td>63848.136798</td>\n",
       "      <td>64311.516346</td>\n",
       "      <td>5284.831978</td>\n",
       "      <td>1</td>\n",
       "      <td>0</td>\n",
       "      <td>41944.816554</td>\n",
       "      <td>-314.681114</td>\n",
       "      <td>-4718.826598</td>\n",
       "      <td>41482.958288</td>\n",
       "      <td>41751.672744</td>\n",
       "      <td>4020.629157</td>\n",
       "      <td>1.616546e+07</td>\n",
       "      <td>0</td>\n",
       "      <td>49387.242861</td>\n",
       "      <td>-3268.784815</td>\n",
       "      <td>-5379.743384</td>\n",
       "      <td>48966.644468</td>\n",
       "      <td>49369.614780</td>\n",
       "      <td>1319.429395</td>\n",
       "      <td>1.740894e+06</td>\n",
       "      <td>2</td>\n",
       "      <td>37724.526373</td>\n",
       "      <td>432.385541</td>\n",
       "      <td>-4988.409218</td>\n",
       "      <td>37246.670840</td>\n",
       "      <td>37581.719924</td>\n",
       "      <td>3279.362379</td>\n",
       "      <td>1.075422e+07</td>\n",
       "      <td>4020.629157</td>\n",
       "      <td>1.616546e+07</td>\n",
       "      <td>1319.429395</td>\n",
       "      <td>1.740894e+06</td>\n",
       "    </tr>\n",
       "    <tr>\n",
       "      <th>3</th>\n",
       "      <td>11.077374</td>\n",
       "      <td>2.360357</td>\n",
       "      <td>1408.170513</td>\n",
       "      <td>-1372.864558</td>\n",
       "      <td>66357.093308</td>\n",
       "      <td>0.785618</td>\n",
       "      <td>0.119467</td>\n",
       "      <td>-1</td>\n",
       "      <td>2.799029</td>\n",
       "      <td>0</td>\n",
       "      <td>-1656.007195</td>\n",
       "      <td>-443.878471</td>\n",
       "      <td>49308.763064</td>\n",
       "      <td>0.741373</td>\n",
       "      <td>0.236373</td>\n",
       "      <td>1</td>\n",
       "      <td>564.019813</td>\n",
       "      <td>0</td>\n",
       "      <td>2171.855775</td>\n",
       "      <td>-1964.419835</td>\n",
       "      <td>92096.742555</td>\n",
       "      <td>0.560237</td>\n",
       "      <td>0.070540</td>\n",
       "      <td>1</td>\n",
       "      <td>44.498271</td>\n",
       "      <td>0</td>\n",
       "      <td>66386.23</td>\n",
       "      <td>493.667</td>\n",
       "      <td>66388.065499</td>\n",
       "      <td>49338.56</td>\n",
       "      <td>493.667</td>\n",
       "      <td>49341.029681</td>\n",
       "      <td>92143.29</td>\n",
       "      <td>493.667</td>\n",
       "      <td>92144.612426</td>\n",
       "      <td>207873.707606</td>\n",
       "      <td>1924.019093</td>\n",
       "      <td>-3781.162864</td>\n",
       "      <td>207762.598928</td>\n",
       "      <td>207805.910780</td>\n",
       "      <td>5308.649418</td>\n",
       "      <td>1</td>\n",
       "      <td>0</td>\n",
       "      <td>115729.095180</td>\n",
       "      <td>-247.836682</td>\n",
       "      <td>-1816.743029</td>\n",
       "      <td>115665.856373</td>\n",
       "      <td>115680.388609</td>\n",
       "      <td>3357.255206</td>\n",
       "      <td>1.127116e+07</td>\n",
       "      <td>0</td>\n",
       "      <td>158532.677925</td>\n",
       "      <td>3580.026288</td>\n",
       "      <td>-3337.284393</td>\n",
       "      <td>158453.835863</td>\n",
       "      <td>158529.404702</td>\n",
       "      <td>1018.732055</td>\n",
       "      <td>1.037815e+06</td>\n",
       "      <td>2</td>\n",
       "      <td>141485.642107</td>\n",
       "      <td>515.848580</td>\n",
       "      <td>-2408.298306</td>\n",
       "      <td>141405.505619</td>\n",
       "      <td>141426.952947</td>\n",
       "      <td>4074.788639</td>\n",
       "      <td>1.660390e+07</td>\n",
       "      <td>3357.255206</td>\n",
       "      <td>1.127116e+07</td>\n",
       "      <td>1018.732055</td>\n",
       "      <td>1.037815e+06</td>\n",
       "    </tr>\n",
       "    <tr>\n",
       "      <th>5</th>\n",
       "      <td>11.554098</td>\n",
       "      <td>1.120899</td>\n",
       "      <td>-77.919930</td>\n",
       "      <td>598.047768</td>\n",
       "      <td>18486.604881</td>\n",
       "      <td>0.937157</td>\n",
       "      <td>0.227115</td>\n",
       "      <td>1</td>\n",
       "      <td>89.128636</td>\n",
       "      <td>0</td>\n",
       "      <td>562.190905</td>\n",
       "      <td>-735.925373</td>\n",
       "      <td>9081.894827</td>\n",
       "      <td>0.571785</td>\n",
       "      <td>0.117188</td>\n",
       "      <td>-1</td>\n",
       "      <td>2387.913090</td>\n",
       "      <td>0</td>\n",
       "      <td>-3786.001956</td>\n",
       "      <td>-3050.190096</td>\n",
       "      <td>49924.677288</td>\n",
       "      <td>0.940656</td>\n",
       "      <td>0.096659</td>\n",
       "      <td>-1</td>\n",
       "      <td>827.264326</td>\n",
       "      <td>0</td>\n",
       "      <td>18496.44</td>\n",
       "      <td>493.667</td>\n",
       "      <td>18503.026773</td>\n",
       "      <td>9128.99</td>\n",
       "      <td>493.667</td>\n",
       "      <td>9142.328233</td>\n",
       "      <td>50160.85</td>\n",
       "      <td>493.667</td>\n",
       "      <td>50163.279197</td>\n",
       "      <td>77808.634204</td>\n",
       "      <td>-3301.730982</td>\n",
       "      <td>-3188.067700</td>\n",
       "      <td>77493.176996</td>\n",
       "      <td>77628.974514</td>\n",
       "      <td>5284.493605</td>\n",
       "      <td>-1</td>\n",
       "      <td>0</td>\n",
       "      <td>27645.355007</td>\n",
       "      <td>484.270974</td>\n",
       "      <td>-137.877605</td>\n",
       "      <td>27568.499708</td>\n",
       "      <td>27573.097482</td>\n",
       "      <td>1997.485591</td>\n",
       "      <td>3.989949e+06</td>\n",
       "      <td>0</td>\n",
       "      <td>68666.305971</td>\n",
       "      <td>-3863.921887</td>\n",
       "      <td>-2452.142327</td>\n",
       "      <td>68411.282169</td>\n",
       "      <td>68564.177398</td>\n",
       "      <td>3743.681793</td>\n",
       "      <td>1.401515e+07</td>\n",
       "      <td>-2</td>\n",
       "      <td>59305.607431</td>\n",
       "      <td>-3223.811052</td>\n",
       "      <td>-3786.115469</td>\n",
       "      <td>59006.572115</td>\n",
       "      <td>59215.734233</td>\n",
       "      <td>3263.723629</td>\n",
       "      <td>1.065189e+07</td>\n",
       "      <td>3743.681793</td>\n",
       "      <td>1.401515e+07</td>\n",
       "      <td>1997.485591</td>\n",
       "      <td>3.989949e+06</td>\n",
       "    </tr>\n",
       "    <tr>\n",
       "      <th>6</th>\n",
       "      <td>8.296893</td>\n",
       "      <td>7.380471</td>\n",
       "      <td>970.351808</td>\n",
       "      <td>-490.045926</td>\n",
       "      <td>27929.242265</td>\n",
       "      <td>0.966135</td>\n",
       "      <td>0.095613</td>\n",
       "      <td>1</td>\n",
       "      <td>135.543971</td>\n",
       "      <td>0</td>\n",
       "      <td>-2001.668003</td>\n",
       "      <td>293.438719</td>\n",
       "      <td>42809.083942</td>\n",
       "      <td>0.944257</td>\n",
       "      <td>0.095049</td>\n",
       "      <td>-1</td>\n",
       "      <td>944.174083</td>\n",
       "      <td>0</td>\n",
       "      <td>1618.033440</td>\n",
       "      <td>-1593.587768</td>\n",
       "      <td>45253.841121</td>\n",
       "      <td>0.959964</td>\n",
       "      <td>0.098093</td>\n",
       "      <td>-1</td>\n",
       "      <td>260.910241</td>\n",
       "      <td>0</td>\n",
       "      <td>27950.39</td>\n",
       "      <td>493.667</td>\n",
       "      <td>27954.749297</td>\n",
       "      <td>42856.86</td>\n",
       "      <td>493.667</td>\n",
       "      <td>42859.703174</td>\n",
       "      <td>45310.79</td>\n",
       "      <td>493.667</td>\n",
       "      <td>45313.479204</td>\n",
       "      <td>116127.931675</td>\n",
       "      <td>586.717246</td>\n",
       "      <td>-1790.194975</td>\n",
       "      <td>115992.167329</td>\n",
       "      <td>116007.464919</td>\n",
       "      <td>5288.156407</td>\n",
       "      <td>-1</td>\n",
       "      <td>0</td>\n",
       "      <td>70814.452471</td>\n",
       "      <td>-1031.316195</td>\n",
       "      <td>-196.607208</td>\n",
       "      <td>70738.326208</td>\n",
       "      <td>70746.116940</td>\n",
       "      <td>3110.243823</td>\n",
       "      <td>9.673617e+06</td>\n",
       "      <td>0</td>\n",
       "      <td>73268.228501</td>\n",
       "      <td>2588.385249</td>\n",
       "      <td>-2083.633694</td>\n",
       "      <td>73183.083387</td>\n",
       "      <td>73258.480475</td>\n",
       "      <td>1195.134334</td>\n",
       "      <td>1.428346e+06</td>\n",
       "      <td>-2</td>\n",
       "      <td>88173.182378</td>\n",
       "      <td>-383.634563</td>\n",
       "      <td>-1300.149049</td>\n",
       "      <td>88062.925064</td>\n",
       "      <td>88073.357684</td>\n",
       "      <td>4194.491243</td>\n",
       "      <td>1.759376e+07</td>\n",
       "      <td>3110.243823</td>\n",
       "      <td>9.673617e+06</td>\n",
       "      <td>1195.134334</td>\n",
       "      <td>1.428346e+06</td>\n",
       "    </tr>\n",
       "  </tbody>\n",
       "</table>\n",
       "</div>"
      ],
      "text/plain": [
       "   B_FlightDistance  B_VertexChi2        H1_PX        H1_PY         H1_PZ  \\\n",
       "0          6.888037      8.426947  1207.753798   -84.290958  10399.473702   \n",
       "2          9.100733      4.113123 -2007.925735 -2555.080382  26601.465958   \n",
       "3         11.077374      2.360357  1408.170513 -1372.864558  66357.093308   \n",
       "5         11.554098      1.120899   -77.919930   598.047768  18486.604881   \n",
       "6          8.296893      7.380471   970.351808  -490.045926  27929.242265   \n",
       "\n",
       "   H1_ProbK  H1_ProbPi  H1_Charge    H1_IPChi2  H1_isMuon        H2_PX  \\\n",
       "0  0.902219   0.041574         -1   998.424410          0 -1264.774019   \n",
       "2  0.917661   0.077237         -1  1355.611615          0  1693.244621   \n",
       "3  0.785618   0.119467         -1     2.799029          0 -1656.007195   \n",
       "5  0.937157   0.227115          1    89.128636          0   562.190905   \n",
       "6  0.966135   0.095613          1   135.543971          0 -2001.668003   \n",
       "\n",
       "         H2_PY         H2_PZ  H2_ProbK  H2_ProbPi  H2_Charge    H2_IPChi2  \\\n",
       "0   450.600912  48810.547252  0.718900   0.132056          1   110.519068   \n",
       "2 -2163.746216  14881.492330  0.641197   0.027784          1  8500.518262   \n",
       "3  -443.878471  49308.763064  0.741373   0.236373          1   564.019813   \n",
       "5  -735.925373   9081.894827  0.571785   0.117188         -1  2387.913090   \n",
       "6   293.438719  42809.083942  0.944257   0.095049         -1   944.174083   \n",
       "\n",
       "   H2_isMuon        H3_PX        H3_PY         H3_PZ  H3_ProbK  H3_ProbPi  \\\n",
       "0          0  1973.085892  -289.150032  26771.341608  0.915843   0.057261   \n",
       "2          0 -1260.859080 -2824.663002  22365.178510  0.947676   0.097263   \n",
       "3          0  2171.855775 -1964.419835  92096.742555  0.560237   0.070540   \n",
       "5          0 -3786.001956 -3050.190096  49924.677288  0.940656   0.096659   \n",
       "6          0  1618.033440 -1593.587768  45253.841121  0.959964   0.098093   \n",
       "\n",
       "   H3_Charge   H3_IPChi2  H3_isMuon      H1_P     H1_M          H1_E  \\\n",
       "0          1  386.493713          0  10469.71  493.667  10481.342213   \n",
       "2          1  352.235461          0  26799.22  493.667  26803.766521   \n",
       "3          1   44.498271          0  66386.23  493.667  66388.065499   \n",
       "5         -1  827.264326          0  18496.44  493.667  18503.026773   \n",
       "6         -1  260.910241          0  27950.39  493.667  27954.749297   \n",
       "\n",
       "       H2_P     H2_M          H2_E      H3_P     H3_M          H3_E  \\\n",
       "0  48829.01  493.667  48831.505452  26845.51  493.667  26850.048683   \n",
       "2  15133.00  493.667  15141.050033  22578.08  493.667  22583.476340   \n",
       "3  49338.56  493.667  49341.029681  92143.29  493.667  92144.612426   \n",
       "5   9128.99  493.667   9142.328233  50160.85  493.667  50163.279197   \n",
       "6  42856.86  493.667  42859.703174  45310.79  493.667  45313.479204   \n",
       "\n",
       "             B_E         B_PX         B_PY           B_PZ            B_P  \\\n",
       "0   86162.896348  1916.065670    77.159922   85981.362562   86002.743964   \n",
       "2   64528.292894 -1575.540194 -7543.489600   63848.136798   64311.516346   \n",
       "3  207873.707606  1924.019093 -3781.162864  207762.598928  207805.910780   \n",
       "5   77808.634204 -3301.730982 -3188.067700   77493.176996   77628.974514   \n",
       "6  116127.931675   586.717246 -1790.194975  115992.167329  116007.464919   \n",
       "\n",
       "           B_M  B_Charge  R12_Charge          R12_E       R12_PX       R12_PY  \\\n",
       "0  5250.974924         1           0   59312.847665   -57.020221   366.309954   \n",
       "2  5284.831978         1           0   41944.816554  -314.681114 -4718.826598   \n",
       "3  5308.649418         1           0  115729.095180  -247.836682 -1816.743029   \n",
       "5  5284.493605        -1           0   27645.355007   484.270974  -137.877605   \n",
       "6  5288.156407        -1           0   70814.452471 -1031.316195  -196.607208   \n",
       "\n",
       "          R12_PZ          R12_P        R12_M       R12_MSq  R13_Charge  \\\n",
       "0   59210.020955   59211.181509  3471.294053  1.204988e+07           0   \n",
       "2   41482.958288   41751.672744  4020.629157  1.616546e+07           0   \n",
       "3  115665.856373  115680.388609  3357.255206  1.127116e+07           0   \n",
       "5   27568.499708   27573.097482  1997.485591  3.989949e+06           0   \n",
       "6   70738.326208   70746.116940  3110.243823  9.673617e+06           0   \n",
       "\n",
       "           R13_E       R13_PX       R13_PY         R13_PZ          R13_P  \\\n",
       "0   37331.390896  3180.839690  -373.440991   37170.815310   37308.534012   \n",
       "2   49387.242861 -3268.784815 -5379.743384   48966.644468   49369.614780   \n",
       "3  158532.677925  3580.026288 -3337.284393  158453.835863  158529.404702   \n",
       "5   68666.305971 -3863.921887 -2452.142327   68411.282169   68564.177398   \n",
       "6   73268.228501  2588.385249 -2083.633694   73183.083387   73258.480475   \n",
       "\n",
       "         R13_M       R13_MSq  R23_Charge          R23_E       R23_PX  \\\n",
       "0  1306.153175  1.706036e+06           2   75681.554135   708.311872   \n",
       "2  1319.429395  1.740894e+06           2   37724.526373   432.385541   \n",
       "3  1018.732055  1.037815e+06           2  141485.642107   515.848580   \n",
       "5  3743.681793  1.401515e+07          -2   59305.607431 -3223.811052   \n",
       "6  1195.134334  1.428346e+06          -2   88173.182378  -383.634563   \n",
       "\n",
       "        R23_PY         R23_PZ          R23_P        R23_M       R23_MSq  \\\n",
       "0   161.450880   75581.888860   75585.380172  3814.176248  1.454794e+07   \n",
       "2 -4988.409218   37246.670840   37581.719924  3279.362379  1.075422e+07   \n",
       "3 -2408.298306  141405.505619  141426.952947  4074.788639  1.660390e+07   \n",
       "5 -3786.115469   59006.572115   59215.734233  3263.723629  1.065189e+07   \n",
       "6 -1300.149049   88062.925064   88073.357684  4194.491243  1.759376e+07   \n",
       "\n",
       "       Rhigh_M     Rhigh_MSq       Rlow_M      Rlow_MSq  \n",
       "0  3471.294053  1.204988e+07  1306.153175  1.706036e+06  \n",
       "2  4020.629157  1.616546e+07  1319.429395  1.740894e+06  \n",
       "3  3357.255206  1.127116e+07  1018.732055  1.037815e+06  \n",
       "5  3743.681793  1.401515e+07  1997.485591  3.989949e+06  \n",
       "6  3110.243823  9.673617e+06  1195.134334  1.428346e+06  "
      ]
     },
     "execution_count": 35,
     "metadata": {},
     "output_type": "execute_result"
    }
   ],
   "source": [
    "# make a new Dalitz plot with a mass ordering of the axes\n",
    "BSel_real_data['Rhigh_M']=numpy.maximum(BSel_real_data['R12_M'],BSel_real_data['R13_M'])\n",
    "BSel_real_data['Rhigh_MSq']=numpy.maximum(BSel_real_data['R12_MSq'],BSel_real_data['R13_MSq'])\n",
    "BSel_real_data['Rlow_M']=numpy.minimum(BSel_real_data['R12_M'],BSel_real_data['R13_M'])\n",
    "BSel_real_data['Rlow_MSq']=numpy.minimum(BSel_real_data['R12_MSq'],BSel_real_data['R13_MSq'])\n",
    "BSel_real_data.head(5)"
   ]
  },
  {
   "cell_type": "code",
   "execution_count": 36,
   "metadata": {
    "collapsed": false
   },
   "outputs": [
    {
     "data": {
      "text/plain": [
       "<matplotlib.text.Text at 0x7fa035fde090>"
      ]
     },
     "execution_count": 36,
     "metadata": {},
     "output_type": "execute_result"
    },
    {
     "data": {
      "image/png": "[encoded data removed]",
      "text/plain": [
       "<matplotlib.figure.Figure at 0x7fa036073f90>"
      ]
     },
     "metadata": {},
     "output_type": "display_data"
    }
   ],
   "source": [
    "scatter(BSel_real_data['Rlow_MSq'], BSel_real_data['Rhigh_MSq'])\n",
    "plt.xlim(0, 25040000) # change the x axis range\n",
    "plt.ylim(0, 25040000)  # change the y axis range\n",
    "xlabel('Rlow M**2')\n",
    "ylabel('Rhigh M**2')"
   ]
  },
  {
   "cell_type": "markdown",
   "metadata": {},
   "source": [
    "### Hint"
   ]
  },
  {
   "cell_type": "markdown",
   "metadata": {},
   "source": [
    "**Ordered Dalitz plot** - You can find the maximum of the mass of R<sup>0</sup><sub>Low</sub> vs R<sup>0</sup><sub>High</sub> elementwise on one axis, and the minimum of on the other. You can use `numpy.min(a,b)` and `numpy.max(a,b)` to perform elementwise comparisons between two arrays `a` and `b` and return one array filled by either the individual min/max element from the elementwise comparisons."
   ]
  },
  {
   "cell_type": "markdown",
   "metadata": {},
   "source": [
    "### Binned Dalitz plot\n",
    "You can improve the representation of your Dalitz plot by binning the data. The hist2d function can be used to make a 2D histogram. The number of bins specification in the hist2d function is the number of bins in one axis."
   ]
  },
  {
   "cell_type": "code",
   "execution_count": 37,
   "metadata": {
    "collapsed": false
   },
   "outputs": [
    {
     "data": {
      "text/plain": [
       "<matplotlib.text.Text at 0x7fa035f552d0>"
      ]
     },
     "execution_count": 37,
     "metadata": {},
     "output_type": "execute_result"
    },
    {
     "data": {
      "image/png": "[encoded data removed]",
      "text/plain": [
       "<matplotlib.figure.Figure at 0x7fa035f28110>"
      ]
     },
     "metadata": {},
     "output_type": "display_data"
    }
   ],
   "source": [
    "# Histogram of the mass of the low mass\n",
    "H_BSel_real_data_Rlow_M = BSel_real_data.Rlow_M.hist(bins=100, range=[0,5400])\n",
    "xlabel('Rlow_M')\n",
    "ylabel('Number')"
   ]
  },
  {
   "cell_type": "code",
   "execution_count": 38,
   "metadata": {
    "collapsed": false,
    "run_control": {
     "frozen": false,
     "read_only": false
    }
   },
   "outputs": [
    {
     "data": {
      "text/plain": [
       "<matplotlib.text.Text at 0x7fa035fde750>"
      ]
     },
     "execution_count": 38,
     "metadata": {},
     "output_type": "execute_result"
    },
    {
     "data": {
      "image/png": "[encoded data removed]",
      "text/plain": [
       "<matplotlib.figure.Figure at 0x7fa036323610>"
      ]
     },
     "metadata": {},
     "output_type": "display_data"
    }
   ],
   "source": [
    "# plot a binned Dalitz Plot\n",
    "# use colorbar() to make a legend for your plot at the side\n",
    "hist2d(BSel_real_data.Rlow_MSq, BSel_real_data.Rhigh_MSq, bins=50, range=[(0, 25040000), (0, 25040000)])\n",
    "colorbar() # Add a colour legend\n",
    "xlabel('Rlow M**2')\n",
    "ylabel('Rhigh M**2')"
   ]
  },
  {
   "cell_type": "markdown",
   "metadata": {},
   "source": [
    "## Two body resonances"
   ]
  },
  {
   "cell_type": "markdown",
   "metadata": {},
   "source": [
    "You can now use your Dalitz plot to identify the intermediate resonances that you see in your plots. The resonances will have shown up as bands of higher density of points on the plots. You can use the [particle data group](http://pdg.lbl.gov/2015/tables/contents_tables.html) tables of mesons to identify which particles these correspond to. The tables give the masses and widths of the particles and their decay modes. You are looking for mesons with the masses corresponding to where you see the bands and that decay into K<sup>+</sup>K<sup>-</sup>.\n",
    "\n",
    "**Congratulations!** You have succesfully made a Dalitz plot and used it to observe the presence of intermediate particles in the decay of your charged B meson into three charged kaons. "
   ]
  },
  {
   "cell_type": "markdown",
   "metadata": {},
   "source": [
    "# Searching for local matter anti-matter differences\n",
    "## Aims:\n",
    "* Observe matter antimatter differences (CP violation) in regions of the Dalitz plots of the B<sup>+</sup> and B<sup>-</sup> mesons.\n",
    "* For the data in these regions produce plots to best display the CP violation."
   ]
  },
  {
   "cell_type": "markdown",
   "metadata": {},
   "source": [
    "In a section above you searched for global CP violation. You probably did not find a result with very high significance. \n",
    "\n",
    "CP violation may arise from interference between decays through different resonances, and hence the magnitude and sign of the CP violation may vary across the Dalitz plot. We can apply the same equation as in the global CP violation study \n",
    "<img src=\"Images/AsymmetryEq.png\" width=\"200\" />\n",
    "but apply this only to events in particular regions of the Dalitz plot.\n"
   ]
  },
  {
   "cell_type": "markdown",
   "metadata": {
    "heading_collapsed": true
   },
   "source": [
    "## Removing charm resonances"
   ]
  },
  {
   "cell_type": "markdown",
   "metadata": {
    "hidden": true
   },
   "source": [
    "The analysis performed here is to study the CP violation in the charmless B meson decays to kaons. \"charmless\" means that the decay does not proceed through a charm quark. However, the most frequent decay of the B mesons occur through the *b* quark decaying into a *c* quark. The majority of these events can be removed by rejecting the events that are proceeding through a D<sup>0</sup> meson (which contains the charm quark).\n",
    "\n",
    "In the section above you plotted a histogram of the invariant mass of the intermediate resonances and will have observed the D<sup>0</sup> meson in this and in the Dalitz plot. You should now reject events that are around the mass range of the D<sup>0</sup> meson to suppress this contribution. You can do this in your pre-selection on the data that you set-up earlier in the project.\n",
    "\n",
    "This was also a simplification that we did not consider when we were calculating the global asymmetry. After you have applied this pre-selection your code will now recompute the global asymmetry with the D<sup>0</sup> meson contribution rejected. We have not yet observed CP violation in charm mesons and searching for this is another active area of current research."
   ]
  },
  {
   "cell_type": "markdown",
   "metadata": {
    "heading_collapsed": true
   },
   "source": [
    "## Comparing Dalitz plots"
   ]
  },
  {
   "cell_type": "markdown",
   "metadata": {
    "hidden": true
   },
   "source": [
    "Make separate Dalitz plots for the B<sup>+</sup> and the B<sup>-</sup> decays.\n",
    "Local CP Violation will show up as an asymmetry between the B<sup>+</sup> and the B<sup>-</sup> plots.  \n",
    "\n",
    "In order that the statistical error on the asymmetry in each bin is not over large the bins need to contain a reasonable number of entries. Hence you will probably need larger bins than when you were looking for resonances in the section above. A suitable initial bin size might be $2.5~\\text{GeV}^2/\\text{c}^4 \\times 2.5~\\text{GeV}^2/\\text{c}^4$.\n"
   ]
  },
  {
   "cell_type": "code",
   "execution_count": 39,
   "metadata": {
    "collapsed": false,
    "hidden": true,
    "run_control": {
     "frozen": false,
     "read_only": false
    }
   },
   "outputs": [],
   "source": [
    "# make a Dalitz plot for the B+ events"
   ]
  },
  {
   "cell_type": "code",
   "execution_count": 40,
   "metadata": {
    "collapsed": false,
    "hidden": true,
    "run_control": {
     "frozen": false,
     "read_only": false
    }
   },
   "outputs": [],
   "source": [
    "# make a Dalitz plot for the B- events"
   ]
  },
  {
   "cell_type": "code",
   "execution_count": 41,
   "metadata": {
    "collapsed": true,
    "hidden": true
   },
   "outputs": [],
   "source": [
    "# Make a plot showing the asymmetry between these two Daltz plots\n",
    "# i.e. calculate the asymmetry between each bin of the B+ and B- Dalitz plots and show the result in another 2D plot"
   ]
  },
  {
   "cell_type": "markdown",
   "metadata": {
    "hidden": true
   },
   "source": [
    "Observing a large asymmetry in some regions of the plot does not necessarily mean you have observed CP violation. If there are very few events in that region of the plot the uncertainty on that large asymmetry may be large. Hence, the value may still be compatible with zero.\n",
    "\n",
    "You can calculate the statistical uncertainty on the asymmetry, for each bin of the plot, using the same formulas as you used in the global asymmetry section. You can then make a plot showing the uncertainty on the asymmetry.\n",
    "\n",
    "Dividing the plot showing the asymmetry by the plot showing the statistical uncertainty you can then obtain the significance of the asymmetry in each bin. You can then plot the significance of the asymmetry to see if there is any evidence for CP violation."
   ]
  },
  {
   "cell_type": "code",
   "execution_count": 42,
   "metadata": {
    "collapsed": true,
    "hidden": true
   },
   "outputs": [],
   "source": [
    "# Make a plot showing the uncertainty on the asymmetry "
   ]
  },
  {
   "cell_type": "code",
   "execution_count": 43,
   "metadata": {
    "collapsed": true,
    "hidden": true
   },
   "outputs": [],
   "source": [
    "# Make a plot showing the statistical significance of the asymmetry"
   ]
  },
  {
   "cell_type": "markdown",
   "metadata": {
    "heading_collapsed": true
   },
   "source": [
    "## Observing CP violation\n",
    "\n",
    "From your studies of the asymmetry plot, and the plot of its significance, you will be able to identify regions in the Dalitz plots that show indications of sizeable and significant CP Violation. You may find you have several consecutive bins with significant positive, or negative, asymmetries. You may wish to try alternative binnings of the Dalitz plots to best isolate the regions in which the significant asymmetries occur.\n",
    "\n",
    "You can select events that are in these regions of the Dalitz plots where you observe signs of CP Violation. You can then plot a simple 1D histogram of the invariant mass distribution of the B<sup>+</sup> and the B<sup>-</sup> events, just as you did at the start of the project, but only for events that lie in the region of the Dalitz plot that you are interested in. Make the plots of the B<sup>+</sup> and the B<sup>-</sup> events with the same scale, or superimpose the two plots, so that you can observe if the particle and anti-particle decay processes are occurring at the same rate."
   ]
  },
  {
   "cell_type": "code",
   "execution_count": 44,
   "metadata": {
    "collapsed": true,
    "hidden": true
   },
   "outputs": [],
   "source": [
    "# Make a plot showing the invariant mass of the B+ meson particles\n",
    "# using events from a region of the Dalitz plot showing sizeable CP asymmetries"
   ]
  },
  {
   "cell_type": "code",
   "execution_count": 45,
   "metadata": {
    "collapsed": true,
    "hidden": true
   },
   "outputs": [],
   "source": [
    "# Make a plot showing the invariant mass of the B- meson particles using events from the same region"
   ]
  },
  {
   "cell_type": "markdown",
   "metadata": {
    "hidden": true
   },
   "source": [
    "**Congratulations!** You should now have succesfully observed significant evidence for CP Violation. You should have plots that clearly show that particle and anti-particle decay processes occur at different rates in local regions of the Dalitz plot. You may wish to comapre your results with those published by the LHCb collaboration in this [paper](http://lhcbproject.web.cern.ch/lhcbproject/Publications/LHCbProjectPublic/LHCb-PAPER-2013-027.html).\n",
    "\n",
    "**Well Done** you have succesfully completed your first particle physics analysis project. There are many more analyses that can be conducted witht the data set that you have been provided and the skills that you have gained. Ideas for some of these are explored in the section below. Maybe you can discover something new!\n",
    "\n",
    "Now you've finished the analysis please provide feedback to help us improve this project using [this brief survey](https://docs.google.com/forms/d/1dEh4A4agmk5zpmR0zrhF79k-lJKV4vX1ETIGJjDscnc/viewform?c=0&w=1)."
   ]
  },
  {
   "cell_type": "markdown",
   "metadata": {},
   "source": [
    "# Further analyses"
   ]
  },
  {
   "cell_type": "markdown",
   "metadata": {},
   "source": [
    "The data set you have been provided is the full set of data recorded by LHCb preselected for decays of charged B mesons into three final state tracks. This data set has been used for two important publications, [here](http://lhcbproject.web.cern.ch/lhcbproject/Publications/LHCbProjectPublic/LHCb-PAPER-2013-027.html) and [here](http://lhcbproject.web.cern.ch/lhcbproject/Publications/LHCbProjectPublic/LHCb-PAPER-2013-051.html).\n",
    "\n",
    "We discuss here: \n",
    "<ul>\n",
    "<li>Additional elements that you could add to your analysis of B<sup>+</sup> → K<sup>+</sup>K<sup>+</sup>K<sup>−</sup> </li>\n",
    "<li>Further analyses that you could perform with this data set</li>\n",
    "</ul>"
   ]
  },
  {
   "cell_type": "markdown",
   "metadata": {},
   "source": [
    "## Adding extra sophistication\n",
    "\n",
    "### Systematic Uncertainties\n",
    "In this analysis you considered the statistical uncertainty on the result. This occurs as a result of having only a limited number of events. In addition there are [systematic uncertainties](https://en.wikipedia.org/wiki/Observational_error#Systematic_versus_random_error), these arise from biases in your measurement. Here we discuss three sources of these for this analysis.\n",
    "<ul>\n",
    "<li> Production asymmetry. The LHC is a proton-proton collider and hence the initial state of the collision is not matter antimatter symmetric. Consequently B<sup>+</sup> and B<sup>-</sup> mesons may not be produced at exactly the same rates. This small production asymmetry it is estimated could be approximately 1%. It can also be measured from the data, as discussed in the LHCb paper.</li>\n",
    "<li> Detection asymmetry. The LHCb detector could be more efficient for detecting either the B<sup>+</sup> or the B<sup>-</sup> final states. This is because the positive and negative kaons will be bent by the magnet indifferent directions in the detector. If the efficiency of the detector is higher in one region than another this will lead to higher efficiencies for K<sup>+</sup> or K<sup>-</sup> and hence for B<sup>+</sup> or B<sup>-</sup>. For this reason the magnetic field of the LHCb detector is regularly reversed. You used data in this analysis in which the magnetic field was both up and down and hence the effect will (partially) cancel. By comparing results for the two magnet polarities separately you can check the size of this effect. When loading the data above both polarities were combined, you can instead load them independently to measure the difference between the two datasets.</li>\n",
    "<li> Analysis technique. The analysis technique you have used may bias the result. A major simplification we made in the analysis above was to neglect 'background' events. We imposed a selection to select a sample of predominantly signal events but have not accounted for the effect of the residual background events.</li>\n",
    "</ul>\n",
    "\n",
    "### Using mass sidebands\n",
    "\n",
    "One source of 'background' events arises from random combinations of tracks in events that happen to fake the 'signal' characteristics. These events will not peak in the mass distribution at the mass of the B meson but rtaher will have a smoothly varying distribution. Looking at the number and distribution of of events away from the mass peak can allow you to estimate the number of background events under the mass peak.\n",
    "\n",
    "### Fitting distributions\n",
    "\n",
    "The next level of sophistication in the analysis requires fitting the distributions of events that are observed in the B mass distribution in order to estimate the yield of signal events and background events. You can see how this is done in the LHCb paper on the analysis. Fitting can be performed using the [CERN root framework](https://root.cern.ch/)."
   ]
  },
  {
   "cell_type": "markdown",
   "metadata": {},
   "source": [
    "## Further analyses\n",
    "\n",
    "The LHCb papers using this data set that you are using analysed four decay channels of the charged B mesons. You can perform any of these analyses.\n",
    "<ul>\n",
    "<li>B<sup>+</sup> → K<sup>+</sup>K<sup>+</sup>K<sup>−</sup> (and anti-particle equivalent). This is the analysis you have performed here. It has the lowest background of the four channels and hence the approximation we made of neglecting the background events will give the least bias to this channel.</li>\n",
    "<li>B<sup>+</sup> → &pi;<sup>+</sup>&pi;<sup>+</sup>&pi;<sup>−</sup> (and anti-particle equivalent). In this analysis the final state is three charged pions. The level of background events compared to the signal is significantly higher as pions are the most commonly produced particle at the LHC. Hence, a method of estimating the background level should be added to complete this analysis.</li>\n",
    "<li>B<sup>+</sup> → K<sup>+</sup>&pi;<sup>+</sup>&pi;<sup>−</sup> (and anti-particle equivalent). In this analysis the final state is a mixture of one kaon and two pions. This means that the analysis needs to determine in each event which track is the best candidate kaon and apply selection cuts appropriately to select out the events.</li>\n",
    "<li>B<sup>+</sup> → &pi;<sup>+</sup>K<sup>+</sup>K<sup>−</sup> (and anti-particle equivalent). This channel has a higher level of background compared to the signal.</li>\n",
    "</ul>"
   ]
  }
 ],
 "metadata": {
  "kernelspec": {
   "display_name": "Python 2",
   "language": "python",
   "name": "python2"
  },
  "language_info": {
   "codemirror_mode": {
    "name": "ipython",
    "version": 2
   },
   "file_extension": ".py",
   "mimetype": "text/x-python",
   "name": "python",
   "nbconvert_exporter": "python",
   "pygments_lexer": "ipython2",
   "version": "2.7.11"
  },
  "toc": {
   "toc_cell": false,
   "toc_number_sections": true,
   "toc_threshold": 6,
   "toc_window_display": false
  },
  "widgets": {
   "state": {},
   "version": "1.1.2"
  }
 },
 "nbformat": 4,
 "nbformat_minor": 0
}
